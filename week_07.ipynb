{
 "cells": [
  {
   "cell_type": "markdown",
   "id": "0e87e436-0f46-4a31-be84-b67a9267af9d",
   "metadata": {
    "tags": []
   },
   "source": [
    "#### **함수**"
   ]
  },
  {
   "cell_type": "markdown",
   "id": "5f1771b7-c370-4b6b-893f-ba848900fe9d",
   "metadata": {},
   "source": [
    "1. 정의\n",
    "    - 코드의 덩어리, 묶음\n",
    "    - 코드의 (편리한) 재사용이 주된 목적\n",
    "    - 정의하기 (define) -> 호출하기 (call)\n",
    "    - 구조\n",
    "        def 함수이름(매개변수 1, 2, 3, ...):\n",
    "            수행문1\n",
    "            수행문2\n",
    "            ....\n",
    "            return 출력값\n",
    "        *호출하기*\n",
    "        함수이름 (변수1, 2, 3, ...)\n",
    "    - `인터페이스` 잘 설정하면 내부를 몰라도 함수를 쉽게 쓸 수 있다.\n",
    "2. 이름 짓기\n",
    "    -  소문자 사용한다.\n",
    "    - 카멜 표기법 가능 < 언더바\n",
    "    - 동사 + 명사: print_output, save_model, split_text\n",
    "    - 줄임말 쓰지 않기 pr_output (x), 명료하게\n",
    "3. "
   ]
  },
  {
   "cell_type": "code",
   "execution_count": null,
   "id": "78b6af04-b182-4749-bde3-ebf1b757d964",
   "metadata": {},
   "outputs": [],
   "source": [
    "y = x + 1 # 매개변수, y = 출력값"
   ]
  },
  {
   "cell_type": "code",
   "execution_count": null,
   "id": "5791f2b2-93e1-4de3-82f0-314db49707ed",
   "metadata": {},
   "outputs": [],
   "source": [
    "split(), join()"
   ]
  },
  {
   "cell_type": "code",
   "execution_count": null,
   "id": "63ea3234-edc7-4f94-be27-0f8cc727a8b3",
   "metadata": {},
   "outputs": [],
   "source": [
    "def split():\n",
    "    ####\n",
    "    return"
   ]
  },
  {
   "cell_type": "code",
   "execution_count": 4,
   "id": "05016531-c964-46c7-9b19-d095816457d2",
   "metadata": {},
   "outputs": [
    {
     "name": "stdout",
     "output_type": "stream",
     "text": [
      "quack\n"
     ]
    }
   ],
   "source": [
    "def make_a_sound():\n",
    "    # 1. 입력 없고, 반환 없음. 매개변수 없음\n",
    "    print('quack')\n",
    "    return None # return 값이 안 써져 있다 = return None 생략\n",
    "\n",
    "make_a_sound()"
   ]
  },
  {
   "cell_type": "code",
   "execution_count": 5,
   "id": "4bc58505-13f7-408a-9613-f240e5b9709f",
   "metadata": {},
   "outputs": [
    {
     "name": "stdout",
     "output_type": "stream",
     "text": [
      "quack\n"
     ]
    }
   ],
   "source": [
    "make_a_sound()"
   ]
  },
  {
   "cell_type": "code",
   "execution_count": 7,
   "id": "85f5a872-7a4c-4758-9440-64416414fbd5",
   "metadata": {},
   "outputs": [
    {
     "data": {
      "text/plain": [
       "True"
      ]
     },
     "execution_count": 7,
     "metadata": {},
     "output_type": "execute_result"
    }
   ],
   "source": [
    "def agree():\n",
    "    # 2.입력 없고 반환 있고\n",
    "    return True\n",
    "\n",
    "agree()"
   ]
  },
  {
   "cell_type": "code",
   "execution_count": 8,
   "id": "51ea3975-2266-4aba-852d-d066d23cb3af",
   "metadata": {},
   "outputs": [
    {
     "name": "stdout",
     "output_type": "stream",
     "text": [
      "Splendid\n"
     ]
    }
   ],
   "source": [
    "if agree():\n",
    "    print('Splendid')\n",
    "else:\n",
    "    print('That was unexpected!')"
   ]
  },
  {
   "cell_type": "code",
   "execution_count": 9,
   "id": "0a8fca73-f6a0-485a-bafd-029cda1f855f",
   "metadata": {},
   "outputs": [
    {
     "name": "stdout",
     "output_type": "stream",
     "text": [
      "hello hello\n"
     ]
    }
   ],
   "source": [
    "def echo(anything):\n",
    "    #3. 입력  있고, 반환 없고\n",
    "    print('{0} {0}'.format(anything))\n",
    "    \n",
    "echo('hello')"
   ]
  },
  {
   "cell_type": "code",
   "execution_count": 10,
   "id": "231ff78b-c615-46b4-9e68-3098a3ea9db2",
   "metadata": {},
   "outputs": [
    {
     "name": "stdout",
     "output_type": "stream",
     "text": [
      "hello hello\n"
     ]
    }
   ],
   "source": [
    "def echo(anything):\n",
    "    print('{0} {0}'.format(anything))\n",
    "    \n",
    "echo =  echo('hello')"
   ]
  },
  {
   "cell_type": "code",
   "execution_count": 11,
   "id": "364432a2-5d35-4316-a4c3-fd87bfe7305e",
   "metadata": {},
   "outputs": [
    {
     "ename": "NameError",
     "evalue": "name 'anything' is not defined",
     "output_type": "error",
     "traceback": [
      "\u001b[0;31m---------------------------------------------------------------------------\u001b[0m",
      "\u001b[0;31mNameError\u001b[0m                                 Traceback (most recent call last)",
      "\u001b[0;32m/var/folders/yf/zwysv3jn4tb_p89k89zby_040000gn/T/ipykernel_61458/704612569.py\u001b[0m in \u001b[0;36m<module>\u001b[0;34m\u001b[0m\n\u001b[0;32m----> 1\u001b[0;31m \u001b[0manything\u001b[0m\u001b[0;34m\u001b[0m\u001b[0;34m\u001b[0m\u001b[0m\n\u001b[0m",
      "\u001b[0;31mNameError\u001b[0m: name 'anything' is not defined"
     ]
    }
   ],
   "source": [
    "anything"
   ]
  },
  {
   "cell_type": "markdown",
   "id": "6b10caa0-0453-402f-ba9a-f8bbafe9d36d",
   "metadata": {},
   "source": [
    "3. 인수와 매개변수\n",
    "    - 매개변수: 정의할 때 쓰임.\n",
    "    - 인수: 호출할 때 쓰임.\n",
    "        - line = 'hello'\n",
    "        - anything = line ##### copy\n",
    "        - anything 사라짐\n",
    "- 위치 인수:\n",
    "    - positional argument\n",
    "    - 값을 순서대로 \n",
    "- 키워드 인수\n",
    "    - keyword argument\n",
    "    - 매개변수에 상응하는 이름을 인수에 지정한다.\n",
    "    - 위치가 달라도 됨\n",
    "- 디폴트 함수\n",
    "    - default argument\n",
    "    - 정의할 때 매개변수의 기본값 설정\n",
    "    - 호출 시 인수가 없으면 기본값 적용\n",
    "    - default 값은 non-default "
   ]
  },
  {
   "cell_type": "code",
   "execution_count": 20,
   "id": "2b93b9a9-146d-46a1-8e4b-2d690320b781",
   "metadata": {},
   "outputs": [
    {
     "data": {
      "text/plain": [
       "'black'"
      ]
     },
     "execution_count": 20,
     "metadata": {},
     "output_type": "execute_result"
    }
   ],
   "source": [
    "def commentary(color):\n",
    "    #pass\n",
    "    if color == 'g':\n",
    "        return ('green') #return 뒤에 print('~') 붙이면 none 뜸\n",
    "    else:\n",
    "        return ('black')\n",
    "\n",
    "color = 'white'\n",
    "commentary(color)"
   ]
  },
  {
   "cell_type": "code",
   "execution_count": 19,
   "id": "38654f6a-df59-4814-8294-f31903dad042",
   "metadata": {},
   "outputs": [
    {
     "name": "stdout",
     "output_type": "stream",
     "text": [
      "green\n",
      "black\n",
      "black\n"
     ]
    }
   ],
   "source": [
    "colors = ['g','r','b']\n",
    "for c in colors:\n",
    "    print(commentary(c))"
   ]
  },
  {
   "cell_type": "code",
   "execution_count": 21,
   "id": "492da690-d391-4b4a-b7ba-c2e8f3b72288",
   "metadata": {},
   "outputs": [
    {
     "data": {
      "text/plain": [
       "{'wine': 'rioja', 'entree': 'cake', 'desert': 'egg'}"
      ]
     },
     "execution_count": 21,
     "metadata": {},
     "output_type": "execute_result"
    }
   ],
   "source": [
    "def menu(wine, entree, desert):\n",
    "    return {'wine':wine,'entree':entree,'desert':desert}\n",
    "\n",
    "menu('rioja','cake','egg')"
   ]
  },
  {
   "cell_type": "code",
   "execution_count": null,
   "id": "7fe8930d-e09d-4c8e-a553-49e367a6e879",
   "metadata": {},
   "outputs": [],
   "source": []
  },
  {
   "cell_type": "code",
   "execution_count": 22,
   "id": "60af573b-806d-4248-8cd7-41f13b765ab1",
   "metadata": {},
   "outputs": [
    {
     "data": {
      "text/plain": [
       "{'wine': 'rioja', 'entree': 'egg', 'desert': 'pancake'}"
      ]
     },
     "execution_count": 22,
     "metadata": {},
     "output_type": "execute_result"
    }
   ],
   "source": [
    "menu(entree='egg',wine='rioja',desert='pancake')"
   ]
  },
  {
   "cell_type": "code",
   "execution_count": 29,
   "id": "53eb2071-f1be-4a3d-bad4-3faf6b84d91f",
   "metadata": {},
   "outputs": [
    {
     "ename": "SyntaxError",
     "evalue": "non-default argument follows default argument (2582522330.py, line 2)",
     "output_type": "error",
     "traceback": [
      "\u001b[0;36m  File \u001b[0;32m\"/var/folders/yf/zwysv3jn4tb_p89k89zby_040000gn/T/ipykernel_61458/2582522330.py\"\u001b[0;36m, line \u001b[0;32m2\u001b[0m\n\u001b[0;31m    def menu2(wine='rerlot', entree, dessert='scone'):\u001b[0m\n\u001b[0m                                     ^\u001b[0m\n\u001b[0;31mSyntaxError\u001b[0m\u001b[0;31m:\u001b[0m non-default argument follows default argument\n"
     ]
    }
   ],
   "source": [
    "#default\n",
    "def menu2(wine='rerlot', entree, dessert):\n",
    "    return {'wine':wine, 'entree':entree, 'desert':desert}\n",
    "\n",
    "menu2('rioja','cake','egg')"
   ]
  },
  {
   "cell_type": "code",
   "execution_count": 30,
   "id": "1320332a-f1c8-44f2-a559-dea3876e3087",
   "metadata": {},
   "outputs": [
    {
     "data": {
      "text/plain": [
       "{'wine': 'rioja', 'entree': 'cake', 'dessert': 'egg'}"
      ]
     },
     "execution_count": 30,
     "metadata": {},
     "output_type": "execute_result"
    }
   ],
   "source": [
    "#default\n",
    "def menu2(wine, entree, dessert='scone'):\n",
    "    return {'wine':wine, 'entree':entree, 'dessert':dessert}\n",
    "\n",
    "menu2('rioja','cake','egg')"
   ]
  },
  {
   "cell_type": "code",
   "execution_count": 31,
   "id": "fa3d9779-4bd5-4784-8ba9-7523e2817330",
   "metadata": {},
   "outputs": [
    {
     "data": {
      "text/plain": [
       "{'wine': 'merlot', 'entree': 'egg', 'dessert': 'scone'}"
      ]
     },
     "execution_count": 31,
     "metadata": {},
     "output_type": "execute_result"
    }
   ],
   "source": [
    "menu2('merlot','egg')"
   ]
  },
  {
   "cell_type": "markdown",
   "id": "b3c0e811-6349-4125-ace6-9c250fa85075",
   "metadata": {},
   "source": [
    "### 나이 -> 연도\n",
    "def fx():\n",
    "    # 입력값 = 나이\n",
    "    # 반환값 = 출생년도\n",
    "- input 입력받아서 함수 사용해서 출력하기"
   ]
  },
  {
   "cell_type": "code",
   "execution_count": 40,
   "id": "9f7a24f1-1484-454a-a1af-9c1093e0be4d",
   "metadata": {},
   "outputs": [
    {
     "name": "stdin",
     "output_type": "stream",
     "text": [
      "나이를 입력하시오. 22\n"
     ]
    },
    {
     "data": {
      "text/plain": [
       "2001"
      ]
     },
     "execution_count": 40,
     "metadata": {},
     "output_type": "execute_result"
    }
   ],
   "source": [
    "def birth_year():\n",
    "    age = int(input('나이를 입력하시오.')) #입력값 나이라 틀림\n",
    "    return (2022 - age + 1)\n",
    "birth_year()"
   ]
  },
  {
   "cell_type": "code",
   "execution_count": null,
   "id": "7c835615-6360-4115-ad13-b9cd98fc1b8a",
   "metadata": {},
   "outputs": [],
   "source": [
    "def year_fine(age): #find_year / 동사 + 명사 형태라\n",
    "def year_calc(age): #clac_y\n",
    "def birth_year(num): #동사 + 명사 형태 아님"
   ]
  },
  {
   "cell_type": "code",
   "execution_count": 43,
   "id": "d31ec1d0-40c0-4ec9-81c9-5958d083aa52",
   "metadata": {},
   "outputs": [
    {
     "name": "stdin",
     "output_type": "stream",
     "text": [
      " 22\n"
     ]
    },
    {
     "data": {
      "text/plain": [
       "2001"
      ]
     },
     "execution_count": 43,
     "metadata": {},
     "output_type": "execute_result"
    }
   ],
   "source": [
    "def calc_birth_year(years_old):\n",
    "    this_year = 2022\n",
    "    return this_year - years_old + 1\n",
    "\n",
    "age = int(input())\n",
    "calc_birth_year(age)"
   ]
  },
  {
   "cell_type": "markdown",
   "id": "33e5b323-cbe1-48da-b623-6c9264d29e02",
   "metadata": {},
   "source": [
    "### 예 \n",
    "- 사각형 너비 구하기\n",
    "    - 입력: 두 변 길이\n",
    "    - 출력: string = 'xx cm'\n",
    "    "
   ]
  },
  {
   "cell_type": "code",
   "execution_count": null,
   "id": "1429ce7a-0242-4dde-8061-1c5a189dc20a",
   "metadata": {},
   "outputs": [],
   "source": []
  },
  {
   "cell_type": "code",
   "execution_count": 47,
   "id": "0e2511ee-3bc3-4295-b287-c59a98f13ad3",
   "metadata": {},
   "outputs": [
    {
     "name": "stdin",
     "output_type": "stream",
     "text": [
      "가로를 입력하시오 3\n",
      "세로를 입력하시오 5\n"
     ]
    },
    {
     "data": {
      "text/plain": [
       "'15cm'"
      ]
     },
     "execution_count": 47,
     "metadata": {},
     "output_type": "execute_result"
    }
   ],
   "source": [
    "def calc_square_width(first_side, second_side):\n",
    "    width = first_side * second_side\n",
    "    return ('{}cm'.format(width))\n",
    "\n",
    "first_side = int(input('가로를 입력하시오'))\n",
    "second_side = int(input('세로를 입력하시오'))\n",
    "calc_square_width(first_side, second_side)"
   ]
  },
  {
   "cell_type": "markdown",
   "id": "6e899829-b8d7-42b3-b383-27c2738a7b5a",
   "metadata": {},
   "source": [
    "##### 면적이라 int 보다는 float 이"
   ]
  },
  {
   "cell_type": "markdown",
   "id": "94a82c37-db8c-45ba-8f0f-98d140cde0ca",
   "metadata": {},
   "source": [
    "### 호출방식:\n",
    "    - 정의된 부분이 메모리에 업로드 되지만 실행은 안 된다.\n",
    "    - 실행은 호출 시\n",
    "    - 값을 넘기는 방식: 참조에 의한 호출 (call by reference) 메모리 주소\n",
    "    - 메모리 주소가 복사되기 때문에 가변객체가 매개변수로 들어갈 때 주의할 것"
   ]
  },
  {
   "cell_type": "code",
   "execution_count": 50,
   "id": "d0f4d6be-bd43-4143-b8a1-45b951691580",
   "metadata": {},
   "outputs": [
    {
     "name": "stdout",
     "output_type": "stream",
     "text": [
      "2\n",
      "3\n",
      "1\n",
      "4\n"
     ]
    }
   ],
   "source": [
    "def calc_area(length, width):\n",
    "    print('1')\n",
    "    return length * width\n",
    "\n",
    "print('2')\n",
    "garo = 2\n",
    "sero = 43\n",
    "print('3')\n",
    "calc_area(garo, sero)\n",
    "print('4')"
   ]
  },
  {
   "cell_type": "code",
   "execution_count": 56,
   "id": "ee5e63b3-5748-4171-8ac1-c90224c5816d",
   "metadata": {},
   "outputs": [
    {
     "name": "stdout",
     "output_type": "stream",
     "text": [
      "['a']\n",
      "['a', 'b']\n"
     ]
    }
   ],
   "source": [
    "def buggy(arg, result=[]):\n",
    "    #비우지 않으면 값이 쌓임\n",
    "    result.append(arg)\n",
    "    print(result)\n",
    "    \n",
    "buggy('a')\n",
    "buggy('b')"
   ]
  },
  {
   "cell_type": "code",
   "execution_count": 54,
   "id": "9f831302-59be-443d-98f9-b4039f314302",
   "metadata": {},
   "outputs": [
    {
     "name": "stdout",
     "output_type": "stream",
     "text": [
      "['a']\n",
      "['b']\n"
     ]
    }
   ],
   "source": [
    "def buggy(arg, result=[]):\n",
    "    result = [] #비운 뒤\n",
    "    result.append(arg)\n",
    "    print(result)\n",
    "    \n",
    "buggy('a')\n",
    "buggy('b')"
   ]
  },
  {
   "cell_type": "code",
   "execution_count": 55,
   "id": "0f33be5b-e812-49d8-a67b-b27ce2891a0f",
   "metadata": {},
   "outputs": [
    {
     "name": "stdout",
     "output_type": "stream",
     "text": [
      "[2, 3] eggs\n",
      "[0, 1] ham\n"
     ]
    }
   ],
   "source": [
    "#length = garo # list copy\n",
    "def spam(eggs):\n",
    "    eggs.append(1)\n",
    "    eggs = [2, 3]\n",
    "    print(eggs, 'eggs')\n",
    "    \n",
    "ham = [0]\n",
    "spam(ham)\n",
    "print(ham, 'ham')"
   ]
  },
  {
   "cell_type": "code",
   "execution_count": 57,
   "id": "795f767c-454d-4a0c-877f-008fc2610d85",
   "metadata": {},
   "outputs": [
    {
     "name": "stdout",
     "output_type": "stream",
     "text": [
      "b\n"
     ]
    }
   ],
   "source": [
    "# None\n",
    "thing = None\n",
    "if thing:\n",
    "    print('a')\n",
    "else:\n",
    "    print('b')"
   ]
  },
  {
   "cell_type": "code",
   "execution_count": 58,
   "id": "a99aa2b5-e3ff-4089-ba97-27dade0cb97f",
   "metadata": {},
   "outputs": [
    {
     "name": "stdout",
     "output_type": "stream",
     "text": [
      "a\n"
     ]
    }
   ],
   "source": [
    "# None\n",
    "thing = None\n",
    "if thing is None:\n",
    "    print('a')\n",
    "else:\n",
    "    print('b')"
   ]
  },
  {
   "cell_type": "code",
   "execution_count": null,
   "id": "f6af2c61-cd24-46c2-a76b-f184b11d41e0",
   "metadata": {},
   "outputs": [],
   "source": [
    "def nonbyggy(arg, result):\n",
    "    # 목표: 리스트 쌓이거나 비우는 옵션 모두 설정하도록 None 함수 재정의하기\n",
    "    # result is None, 빈리스트\n",
    "    # 아니면 코드 그대로"
   ]
  },
  {
   "cell_type": "code",
   "execution_count": 61,
   "id": "a9ae17b7-41fb-4f82-9fb9-9f46f7e773e1",
   "metadata": {},
   "outputs": [],
   "source": [
    "def nonbuggy(arg, result):\n",
    "    result.append(arg)\n",
    "    if result is None:\n",
    "        arg = []\n",
    "    else:\n",
    "        arg"
   ]
  },
  {
   "cell_type": "code",
   "execution_count": 62,
   "id": "99c2564d-e048-409e-97da-5db40d831204",
   "metadata": {},
   "outputs": [
    {
     "name": "stdout",
     "output_type": "stream",
     "text": [
      "['a']\n",
      "['a', 'b']\n"
     ]
    }
   ],
   "source": [
    "#답\n",
    "\n",
    "def nonbuggy(arg, result=None):\n",
    "    if result is None:\n",
    "        result = []\n",
    "    result.append(arg)\n",
    "    print(result)\n",
    "\n",
    "    \n",
    "list_a = []\n",
    "nonbuggy('a', list_a)\n",
    "nonbuggy('b', list_a)"
   ]
  },
  {
   "cell_type": "markdown",
   "id": "b081e9ac-85d6-4b7a-9b66-cd40c43138e5",
   "metadata": {},
   "source": [
    "global 이라는 키워드를 써줌"
   ]
  },
  {
   "cell_type": "markdown",
   "id": "d64f7597-c4f9-4807-8048-1603ad1c3fb3",
   "metadata": {},
   "source": [
    "#### 전역변수 vs 지역변수\n",
    "- 지역변수: 함수 내에서만 사용 가능\n",
    "- 전역변수: 프로그램 전체에서 사용가능"
   ]
  },
  {
   "cell_type": "code",
   "execution_count": 1,
   "id": "ab288c8e-a6ec-44ba-a1e6-b5fa5492651f",
   "metadata": {},
   "outputs": [
    {
     "name": "stdout",
     "output_type": "stream",
     "text": [
      "london\n",
      "paris\n"
     ]
    }
   ],
   "source": [
    "def fx():\n",
    "    city = 'london'\n",
    "    print (city)\n",
    "\n",
    "city = 'paris'\n",
    "fx() #city = london\n",
    "print(city)"
   ]
  },
  {
   "cell_type": "code",
   "execution_count": 2,
   "id": "92ee1a2d-5a6f-49db-b364-375a524c620f",
   "metadata": {},
   "outputs": [
    {
     "name": "stdout",
     "output_type": "stream",
     "text": [
      "london\n",
      "london\n"
     ]
    }
   ],
   "source": [
    "def fx():\n",
    "    global city \n",
    "    city = 'london'\n",
    "    print (city)\n",
    "\n",
    "city = 'paris'\n",
    "fx() #city = london\n",
    "print(city)"
   ]
  },
  {
   "cell_type": "code",
   "execution_count": 3,
   "id": "e2a82448-d538-40a3-8bcd-815e1c08bc21",
   "metadata": {},
   "outputs": [
    {
     "data": {
      "text/plain": [
       "'london'"
      ]
     },
     "execution_count": 3,
     "metadata": {},
     "output_type": "execute_result"
    }
   ],
   "source": [
    "city"
   ]
  },
  {
   "cell_type": "code",
   "execution_count": 4,
   "id": "7452c0f8-4112-4f7e-a781-c8f20911a27e",
   "metadata": {},
   "outputs": [
    {
     "name": "stdout",
     "output_type": "stream",
     "text": [
      "Help on function fx in module __main__:\n",
      "\n",
      "fx()\n",
      "\n"
     ]
    }
   ],
   "source": [
    "help(fx)"
   ]
  },
  {
   "cell_type": "code",
   "execution_count": 6,
   "id": "34e405d7-cc30-4fc8-a3db-2a856a09df2c",
   "metadata": {},
   "outputs": [],
   "source": [
    "fx.__doc__"
   ]
  },
  {
   "cell_type": "code",
   "execution_count": null,
   "id": "fe9f2e98-0cf3-4011-84dc-22be1835e326",
   "metadata": {},
   "outputs": [],
   "source": []
  },
  {
   "cell_type": "code",
   "execution_count": null,
   "id": "0674aff8-4de8-4538-a232-5e23714b705b",
   "metadata": {},
   "outputs": [],
   "source": []
  },
  {
   "cell_type": "code",
   "execution_count": 7,
   "id": "0683b485-1a9e-4af8-b0b1-b44c1b43238f",
   "metadata": {},
   "outputs": [
    {
     "name": "stderr",
     "output_type": "stream",
     "text": [
      "[nltk_data] Downloading package brown to\n",
      "[nltk_data]     /Users/gimseonhye/nltk_data...\n",
      "[nltk_data]   Package brown is already up-to-date!\n"
     ]
    }
   ],
   "source": [
    "import nltk\n",
    "nltk.download('brown')\n",
    "\n",
    "brown = nltk.corpus.brown.raw(categories='romance')\n",
    "romance = brown[:5000]"
   ]
  },
  {
   "cell_type": "code",
   "execution_count": 8,
   "id": "f27e47b4-5fee-4b5b-b224-f3c8620596f7",
   "metadata": {},
   "outputs": [
    {
     "data": {
      "text/plain": [
       "\"\\n\\n\\tThey/ppss neither/cc liked/vbd nor/cc disliked/vbd the/at Old/jj-tl Man/nn-tl ./.\\nTo/in them/ppo he/pps could/md have/hv been/ben the/at broken/vbn bell/nn in/in the/at church/nn tower/nn which/wdt rang/vbd before/in and/cc after/in Mass/nn-tl ,/, and/cc at/in noon/nn ,/, and/cc at/in six/cd each/dt evening/nn --/-- its/pp$ tone/nn ,/, repetitive/jj ,/, monotonous/jj ,/, never/rb breaking/vbg the/at boredom/nn of/in the/at streets/nns ./.\\nThe/at Old/jj-tl Man/nn-tl was/bedz unimportant/jj ./.\\n\\n\\n\\tYet/rb if/cs he/pps were/bed not/* there/rb ,/, they/ppss would/md have/hv missed/vbn him/ppo ,/, as/cs they/ppss would/md have/hv missed/vbn the/at sounds/nns of/in bees/nns buzzing/vbg against/in the/at screen/nn door/nn in/in early/jj June/np ;/. ;/.\\nor/cc the/at smell/nn of/in thick/jj tomato/nn paste/nn --/-- the/at ripe/jj smell/nn that/wps was/bedz both/abx sweet/jj and/cc sour/jj --/-- rising/vbg up/rp from/in aluminum/nn trays/nns wrapped/vbn in/in fly-dotted/jj cheesecloth/nn ./.\\nOr/cc the/at surging/vbg whirling/vbg sounds/nns of/in bats/nns at/in night/nn ,/, when/wrb their/pp$ black/jj bodies/nns dived/vbd into/in the/at blackness/nn above/in and/cc below/in the/at amber/jj street/nn lights/nns ./.\\nOr/cc the/at bay/nn of/in female/nn dogs/nns in/in heat/nn ./.\\n\\n\\n\\tThey/ppss never/rb called/vbd him/ppo by/in name/nn ,/, although/cs he/pps had/hvd one/pn ./.\\nFilippo/np Rossi/np ,/, that's/dt+bez what/wdt he/pps was/bedz called/vbn in/in the/at old/jj country/nn ;/. ;/.\\nbut/cc here/rb he/pps was/bedz just/rb Signore/np or/cc the/at Old/jj-tl Man/nn-tl ./.\\nBut/cc this/dt was/bedz not/* unusual/jj ,/, because/cs youth/nn in/in these/dts quarters/nns was/bedz always/rb pushed/vbn at/in a/at distance/nn from/in its/pp$ elders/nns ./.\\nYouth/nn obeyed/vbd when/wrb commanded/vbn ./.\\nIt/pps went/vbd to/in church/nn on/in Sunday/nr and/cc one/cd Saturday/nr a/at month/nn went/vbd to/in confession/nn ./.\\nBut/cc youth/nn asked/vbd nothing/pn of/in its/pp$ parents/nns --/-- not/* a/at touch/nn of/in the/at hand/nn or/cc a/at kiss/nn given/vbn in/in passing/vbg ./.\\n\\n\\n\\tThe/at only/ap thing/nn unusual/jj about/in the/at Old/jj-tl Man/nn-tl had/hvd long/jj since/rb happened/vbn ./.\\nBut/cc the/at past/nn was/bedz dead/jj here/rb as/cs the/at present/jj was/bedz dead/jj ./.\\nOnce/cs the/at Old/jj-tl Man/nn-tl had/hvd had/hvn a/at wife/nn ./.\\nAnd/cc once/cs she/pps ,/, too/rb ,/, ignored/vbd him/ppo ./.\\nWith/in a/at tiny/jj fur-piece/nn wrapped/vbd around/in her/pp$ shoulders/nns ,/, she/pps wiggled/vbd her/pp$ satin-covered/jj buttocks/nns down/in the/at street/nn before/in him/ppo and/cc didn't/dod* stop/vb ./.\\nIn/in one/cd hand/nn she/pps clutched/vbd a/at hundred/cd dollar/nn bill/nn and/cc in/in the/at other/ap a/at straw/nn suitcase/nn ./.\\nThe/at way/nn she/pps strutted/vbd down/in the/at street/nn ,/, the/at Old/jj-tl Man/nn-tl would/md have/hv been/ben blind/jj not/* to/to have/hv noticed/vbn both/abx ./.\\nWithout/in looking/vbg at/in him/ppo ,/, without/in looking/vbg at/in anything/pn except/in Drexel/np-tl Street/nn-tl directly/rb in/in front/nn of/in her/ppo ,/, she/pps climbed/vbd up/rp into/in one/cd of/in those/dts orange/jj streetcars/nns ,/, rode/vbd away/rb in/in it/ppo ,/, and/cc never/rb came/vbd back/rb ./.\\n\\n\\n\\t``/`` But/cc she/pps shouldn't/md* have/hv come/vbn here/rb in/in the/at first/od place/nn ''/'' ,/, the/at women/nns had/hvd said/vbn ./.\\n\\n\\n\\t``/`` No/rb ,/, no/rb ./.\\nNot/* that/dt one/pn ./.\\nShe/pps thought/vbd she/pps was/bedz bigger/jjr than/cs we/ppss are/ber because/cs she/pps came/vbd from/in Torino/np ''/'' ./.\\n\\n\\n\\t``/`` Eh/uh ,/, Torino/np !/. !/.\\nShe/pps gave/vbd herself/ppl fancy/jj airs/nns !/. !/.\\nJust/rb because/cs she/pps had/hvd a/at part/nn on/in the/at stage/nn in/in the/at old/jj country/nn ,/, she/pps thought/vbd she/pps could/md carry/vb her/pp$ head/nn higher/rbr than/cs ours/pp$$ ''/'' ./.\\nThey/ppss had/hvd slapped/vbn their/pp$ thighs/nns ./.\\n\\n\\n\\t``/`` It's/pps+bez not/* for/in making/vbg pretty/jj speeches/nns about/in Dante/np those/dts actresses/nns get/vb paid/vbn so/ql good/rb ''/'' ./.\\n\\n\\n\\t``/`` Henh/uh ''/'' !/. !/.\\nCalloused/vbn fingers/nns ,/, caressed/vbn only/rb by/in the/at smoothness/nn of/in polished/vbn rosaries/nns ,/, had/hvd swayed/vbn excitedly/rb beneath/in puckered/vbn chins/nns where/wrb tiny/jj black/jj hairs/nns sprouted/vbd ,/, never/rb to/to be/be tweezed/vbn away/rb ./.\\nMauve-colored/jj mouths/nns that/wps had/hvd never/rb known/vbn anything/pn sweeter/jjr than/cs the/at taste/nn of/in new/jj wine/nn and/cc the/at passion/nn of/in man's/nn$ tongue/nn had/hvd not/* smiled/vbn ,/, but/cc had/hvd condemned/vbn again/rb and/cc again/rb ./.\\n``/`` Puttana/fw-nn ''/'' !/. !/.\\n\\n\\n\\tBut/cc if/cs the/at Old/jj-tl Man/nn-tl even/rb thought/vbd about/in his/pp$ wife/nn now/rb ,/, nobody/pn cared/vbd a/at fig/nn ./.\\nIt/pps was/bedz enough/ap for/in people/nns to/to know/vb that/cs at/in one/cd time/nn he/pps had/hvd looked/vbn down/in the/at street/nn at/in the/at f\""
      ]
     },
     "execution_count": 8,
     "metadata": {},
     "output_type": "execute_result"
    }
   ],
   "source": [
    "romance"
   ]
  },
  {
   "cell_type": "code",
   "execution_count": 9,
   "id": "0ee49b53-3ac0-46f3-a188-01f2d478c1d1",
   "metadata": {},
   "outputs": [
    {
     "data": {
      "text/plain": [
       "[]"
      ]
     },
     "execution_count": 9,
     "metadata": {},
     "output_type": "execute_result"
    }
   ],
   "source": [
    "sentence = [sentence.strip() for sentence in romance.split('./.')]\n",
    "[word for word in sentence if '?' in sentence]"
   ]
  },
  {
   "cell_type": "code",
   "execution_count": 10,
   "id": "0fd92236-820c-4539-bd81-c81b422a898d",
   "metadata": {},
   "outputs": [
    {
     "data": {
      "text/plain": [
       "'They/ppss neither/cc liked/vbd nor/cc disliked/vbd the/at Old/jj-tl Man/nn-tl'"
      ]
     },
     "execution_count": 10,
     "metadata": {},
     "output_type": "execute_result"
    }
   ],
   "source": [
    "sentence[0]"
   ]
  },
  {
   "cell_type": "code",
   "execution_count": 11,
   "id": "9ac3d8a9-4d2e-4524-b76d-ecda82ff807e",
   "metadata": {},
   "outputs": [
    {
     "data": {
      "text/plain": [
       "['They', 'neither', 'liked', 'nor', 'disliked', 'the', 'Old', 'Man']"
      ]
     },
     "execution_count": 11,
     "metadata": {},
     "output_type": "execute_result"
    }
   ],
   "source": [
    "example = sentence[0]\n",
    "[word.split('/')[0] for word in example.split(' ')]"
   ]
  },
  {
   "cell_type": "code",
   "execution_count": 12,
   "id": "0d3ab956-1caf-489b-b245-b17f916cf617",
   "metadata": {},
   "outputs": [
    {
     "data": {
      "text/plain": [
       "['They', 'neither', 'liked', 'nor', 'disliked', 'the', 'Old', 'Man']"
      ]
     },
     "execution_count": 12,
     "metadata": {},
     "output_type": "execute_result"
    }
   ],
   "source": [
    "[word[:word.find('/')] for word in example.split(' ')]"
   ]
  },
  {
   "cell_type": "code",
   "execution_count": 14,
   "id": "e68f446b-e1b1-478b-858e-d16247fce4f9",
   "metadata": {},
   "outputs": [],
   "source": [
    "#전체 문장에 반영\n",
    "# [[[word.split('/')[0] for word in s.split(' ')]] for s in sentence]"
   ]
  },
  {
   "cell_type": "code",
   "execution_count": null,
   "id": "72e8171b-2cf4-4c17-9717-c580cb0e408c",
   "metadata": {},
   "outputs": [],
   "source": []
  }
 ],
 "metadata": {
  "kernelspec": {
   "display_name": "Python 3 (ipykernel)",
   "language": "python",
   "name": "python3"
  },
  "language_info": {
   "codemirror_mode": {
    "name": "ipython",
    "version": 3
   },
   "file_extension": ".py",
   "mimetype": "text/x-python",
   "name": "python",
   "nbconvert_exporter": "python",
   "pygments_lexer": "ipython3",
   "version": "3.9.7"
  }
 },
 "nbformat": 4,
 "nbformat_minor": 5
}
