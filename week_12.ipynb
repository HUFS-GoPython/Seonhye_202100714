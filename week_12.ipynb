{
 "cells": [
  {
   "cell_type": "markdown",
   "id": "b981f4d4-c418-4937-ab81-47fd4c92c6f9",
   "metadata": {},
   "source": [
    "### 함수 2"
   ]
  },
  {
   "cell_type": "code",
   "execution_count": null,
   "id": "a21d0492-f68d-4f0c-b0a9-d284877508bd",
   "metadata": {},
   "outputs": [],
   "source": []
  },
  {
   "cell_type": "markdown",
   "id": "149fb999-4c36-448c-8715-05d828d788dc",
   "metadata": {},
   "source": [
    "#### asterisk (stars)*, **"
   ]
  },
  {
   "cell_type": "code",
   "execution_count": 1,
   "id": "8bedc9f7-ced6-434b-b72f-92e37ba0a196",
   "metadata": {},
   "outputs": [
    {
     "name": "stdout",
     "output_type": "stream",
     "text": [
      "hey hello hi\n"
     ]
    }
   ],
   "source": [
    "def print_arg(*args): #1. \n",
    "    # 인자를 튜플로 묶어서 활용하는 역할\n",
    "    print(*args) #2. 언패킹 (튜플 -> 인자로)\n",
    "    \n",
    "print_arg('hey','hello','hi')"
   ]
  },
  {
   "cell_type": "code",
   "execution_count": 2,
   "id": "9ace0b14-3251-41e4-b8fd-d8f9e1849183",
   "metadata": {},
   "outputs": [
    {
     "name": "stdout",
     "output_type": "stream",
     "text": [
      "oblibiate book\n",
      "1 2 3 4\n",
      "oblibiate book\n",
      "(1, 2, 3, 4)\n",
      "oblibiate book\n",
      "1 2 3 4\n"
     ]
    }
   ],
   "source": [
    "def print_arg2(name, *args):\n",
    "    print('oblibiate', name)\n",
    "    print(*args)\n",
    "    \n",
    "print_arg2('book', 1, 2, 3, 4)\n",
    "\n",
    "nums = (1, 2, 3, 4)\n",
    "print_arg2('book', nums)\n",
    "print_arg2('book', *nums)"
   ]
  },
  {
   "cell_type": "code",
   "execution_count": 3,
   "id": "053e4db5-db83-485f-823e-630501ff326a",
   "metadata": {},
   "outputs": [],
   "source": [
    "#코드 내부 뿐만 아니라 외부에서도 사용이 가능함"
   ]
  },
  {
   "cell_type": "markdown",
   "id": "5d356fbc-5d10-4e20-b0cb-c99ccdbe69ac",
   "metadata": {},
   "source": [
    "#### 외부에서 활용하기\n",
    "- 컬렉션 자료형 언패킹 출력 시\n",
    "- zip()\n",
    "- 키워드 전용 인수 선언\n",
    "    - 별 뒤에 오는 매개변수들: 반드시 키워드 인수로 들어오게 설정하는 역할\n",
    "    - kargs (키워드 args)와 혼선을 만들지 않게 하기 위해"
   ]
  },
  {
   "cell_type": "code",
   "execution_count": 4,
   "id": "3d20fc1b-e95c-45ea-8b92-99212afa8140",
   "metadata": {},
   "outputs": [
    {
     "name": "stdout",
     "output_type": "stream",
     "text": [
      "0 1 2 3 4\n"
     ]
    }
   ],
   "source": [
    "nums = list(range(5))\n",
    "print(*nums)"
   ]
  },
  {
   "cell_type": "code",
   "execution_count": 5,
   "id": "32221d11-fb77-405b-a411-35f210bae9c1",
   "metadata": {},
   "outputs": [],
   "source": [
    "a = [\n",
    "    [1, 2],\n",
    "    [3, 4],\n",
    "    [5, 6]\n",
    "]"
   ]
  },
  {
   "cell_type": "code",
   "execution_count": 6,
   "id": "15a5b645-77be-4b69-a093-25fa8fd34461",
   "metadata": {},
   "outputs": [],
   "source": [
    "# 1, 3, 5 / 2, 4, 6 따로 출력하려면"
   ]
  },
  {
   "cell_type": "code",
   "execution_count": 7,
   "id": "028895a7-0ff1-44c5-a7f3-d956c515aace",
   "metadata": {},
   "outputs": [
    {
     "name": "stdout",
     "output_type": "stream",
     "text": [
      "[1, 2]\n",
      "[3, 4]\n",
      "[5, 6]\n"
     ]
    }
   ],
   "source": [
    "for row in a:\n",
    "    print(row)"
   ]
  },
  {
   "cell_type": "code",
   "execution_count": 8,
   "id": "7d47f319-2d12-4d4a-ad06-fe372539e050",
   "metadata": {},
   "outputs": [
    {
     "ename": "SyntaxError",
     "evalue": "can't use starred expression here (1144785100.py, line 1)",
     "output_type": "error",
     "traceback": [
      "\u001b[0;36m  File \u001b[0;32m\"/var/folders/yf/zwysv3jn4tb_p89k89zby_040000gn/T/ipykernel_66640/1144785100.py\"\u001b[0;36m, line \u001b[0;32m1\u001b[0m\n\u001b[0;31m    for row in *a:\u001b[0m\n\u001b[0m               ^\u001b[0m\n\u001b[0;31mSyntaxError\u001b[0m\u001b[0;31m:\u001b[0m can't use starred expression here\n"
     ]
    }
   ],
   "source": [
    "for row in *a:\n",
    "    print(row)"
   ]
  },
  {
   "cell_type": "code",
   "execution_count": 9,
   "id": "04fff084-d3a3-4f58-9d48-3a40dcf28610",
   "metadata": {},
   "outputs": [
    {
     "name": "stdout",
     "output_type": "stream",
     "text": [
      "(1, 3, 5)\n",
      "(2, 4, 6)\n"
     ]
    }
   ],
   "source": [
    "for row in zip(*a):\n",
    "    print(row)"
   ]
  },
  {
   "cell_type": "code",
   "execution_count": 10,
   "id": "377d3b84-2aca-4dcd-add2-5c91442c1bcb",
   "metadata": {},
   "outputs": [
    {
     "name": "stdout",
     "output_type": "stream",
     "text": [
      "1\n",
      "2\n"
     ]
    }
   ],
   "source": [
    "def print_data(data, *, start, end): # start, end -> start = 0\n",
    "    for value in data[start:end]:\n",
    "        print(value)\n",
    "        \n",
    "print_data(nums, start=1, end=3)"
   ]
  },
  {
   "cell_type": "markdown",
   "id": "d8e0f8fc-4897-4f03-8192-556c0beee657",
   "metadata": {},
   "source": [
    "#### **"
   ]
  },
  {
   "cell_type": "code",
   "execution_count": 11,
   "id": "8916eaef-0e75-403b-a467-92bdbba5be13",
   "metadata": {},
   "outputs": [
    {
     "name": "stdout",
     "output_type": "stream",
     "text": [
      "{'wine': 'merlot', 'dessert': 'cake'}\n"
     ]
    }
   ],
   "source": [
    "def print_kargs(**kargs): #딕셔너리로 묶는 기능\n",
    "    print(kargs)\n",
    "    #print(kargs['wine'], 'is semi-sweet') #get(key, default)\n",
    "    \n",
    "print_kargs(wine='merlot', dessert='cake')"
   ]
  },
  {
   "cell_type": "code",
   "execution_count": 12,
   "id": "dc9166f4-254c-40cb-82d8-249825b79abc",
   "metadata": {},
   "outputs": [
    {
     "name": "stdout",
     "output_type": "stream",
     "text": [
      "{'wine': 'merlot', 'dessert': 'scone'}\n",
      "{'wine': 'cabernet', 'dessert': 'scone'}\n",
      "{'wine': 'crianza', 'dessert': 'scone'}\n"
     ]
    }
   ],
   "source": [
    "wine_list = 'merlot cabernet crianza'.split()\n",
    "for wine in wine_list:\n",
    "    print_kargs(wine=wine, dessert='scone')"
   ]
  },
  {
   "cell_type": "code",
   "execution_count": 13,
   "id": "0129dd5c-bb7e-42a5-be85-d4db3c64217c",
   "metadata": {},
   "outputs": [
    {
     "ename": "TypeError",
     "evalue": "print_both() got multiple values for argument 'one'",
     "output_type": "error",
     "traceback": [
      "\u001b[0;31m---------------------------------------------------------------------------\u001b[0m",
      "\u001b[0;31mTypeError\u001b[0m                                 Traceback (most recent call last)",
      "\u001b[0;32m/var/folders/yf/zwysv3jn4tb_p89k89zby_040000gn/T/ipykernel_66640/1985392689.py\u001b[0m in \u001b[0;36m<module>\u001b[0;34m\u001b[0m\n\u001b[1;32m      3\u001b[0m     \u001b[0mprint\u001b[0m\u001b[0;34m(\u001b[0m\u001b[0mkargs\u001b[0m\u001b[0;34m)\u001b[0m\u001b[0;34m\u001b[0m\u001b[0;34m\u001b[0m\u001b[0m\n\u001b[1;32m      4\u001b[0m \u001b[0;34m\u001b[0m\u001b[0m\n\u001b[0;32m----> 5\u001b[0;31m \u001b[0mprint_both\u001b[0m\u001b[0;34m(\u001b[0m\u001b[0;36m1\u001b[0m\u001b[0;34m,\u001b[0m \u001b[0;36m2\u001b[0m\u001b[0;34m,\u001b[0m \u001b[0;36m3\u001b[0m\u001b[0;34m,\u001b[0m \u001b[0;36m4\u001b[0m\u001b[0;34m,\u001b[0m \u001b[0;36m5\u001b[0m\u001b[0;34m,\u001b[0m \u001b[0mone\u001b[0m\u001b[0;34m=\u001b[0m\u001b[0;36m1\u001b[0m\u001b[0;34m,\u001b[0m \u001b[0mtwo\u001b[0m\u001b[0;34m=\u001b[0m\u001b[0;36m2\u001b[0m\u001b[0;34m)\u001b[0m\u001b[0;34m\u001b[0m\u001b[0;34m\u001b[0m\u001b[0m\n\u001b[0m",
      "\u001b[0;31mTypeError\u001b[0m: print_both() got multiple values for argument 'one'"
     ]
    }
   ],
   "source": [
    "def print_both(one, two, *args, **kargs): # 위치인수 -> args > kargs\n",
    "    print(one + two + sum(args))\n",
    "    print(kargs)\n",
    "    \n",
    "print_both(1, 2, 3, 4, 5, one=1, two=2)"
   ]
  },
  {
   "cell_type": "markdown",
   "id": "53d0954e-985a-4239-b975-6e1edc61e88c",
   "metadata": {},
   "source": [
    "#### 딕셔너리 결합 시 사용할 수 있다 (3.5 이상)"
   ]
  },
  {
   "cell_type": "code",
   "execution_count": null,
   "id": "c860ce1b-8d1d-412f-ba74-e53224151778",
   "metadata": {},
   "outputs": [],
   "source": [
    "x = "
   ]
  }
 ],
 "metadata": {
  "kernelspec": {
   "display_name": "Python 3 (ipykernel)",
   "language": "python",
   "name": "python3"
  },
  "language_info": {
   "codemirror_mode": {
    "name": "ipython",
    "version": 3
   },
   "file_extension": ".py",
   "mimetype": "text/x-python",
   "name": "python",
   "nbconvert_exporter": "python",
   "pygments_lexer": "ipython3",
   "version": "3.9.7"
  }
 },
 "nbformat": 4,
 "nbformat_minor": 5
}
