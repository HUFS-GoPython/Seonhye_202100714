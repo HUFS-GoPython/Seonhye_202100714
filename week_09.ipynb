{
 "cells": [
  {
   "cell_type": "markdown",
   "id": "45f2e10f-82a2-4301-a2b2-368912014ba5",
   "metadata": {},
   "source": [
    "### 0429 금요일\n",
    "#### **dictionary, set**"
   ]
  },
  {
   "cell_type": "markdown",
   "id": "3370daad-eb9d-4966-9b64-a1ee891fec44",
   "metadata": {},
   "source": [
    "### Dictionary\n",
    "- **영어사진이라고 생각하면, 단어: 뜻**\n",
    "- **키: 값**\n",
    "    - 고유의 값이 될 수 있게\n",
    "- 순서가 없음 => 오프셋 없음\n",
    "- 가변 객체 (수정, 추가, 삭제 가능)\n",
    "- 타입: dict, dict()\n",
    "- 생성: {k1: v1, k2: v2, ...} 중괄호 사용\n",
    "- value에는 리스트, 튜플, 딕셔너리도 들어갈 수 있음 (다양한 자료가 전부 들어가짐)"
   ]
  },
  {
   "cell_type": "code",
   "execution_count": null,
   "id": "0c2f5592-a80e-4f21-bcd1-ce0a20f77d46",
   "metadata": {},
   "outputs": [],
   "source": [
    "a = [1, 3, 4]\n",
    "#오프셋이 없으니까 인덱스도 없다는 뜻\n",
    "a[0] #성립안됨"
   ]
  },
  {
   "cell_type": "code",
   "execution_count": 1,
   "id": "af6bd3d8-9081-4368-9072-c9ebf0e916ee",
   "metadata": {},
   "outputs": [
    {
     "data": {
      "text/plain": [
       "{1, 2, 3}"
      ]
     },
     "execution_count": 1,
     "metadata": {},
     "output_type": "execute_result"
    }
   ],
   "source": [
    "a = [1, 2, 3]\n",
    "set(a)"
   ]
  },
  {
   "cell_type": "code",
   "execution_count": 2,
   "id": "de2782a5-64ff-4c8f-955f-c2b82fb0286b",
   "metadata": {},
   "outputs": [
    {
     "data": {
      "text/plain": [
       "{}"
      ]
     },
     "execution_count": 2,
     "metadata": {},
     "output_type": "execute_result"
    }
   ],
   "source": [
    "empty = dict()\n",
    "empty = {}\n",
    "empty"
   ]
  },
  {
   "cell_type": "code",
   "execution_count": 3,
   "id": "65fec560-fb59-4278-b2c9-9c322a1d7c61",
   "metadata": {},
   "outputs": [
    {
     "data": {
      "text/plain": [
       "set()"
      ]
     },
     "execution_count": 3,
     "metadata": {},
     "output_type": "execute_result"
    }
   ],
   "source": [
    "a = {}\n",
    "a = set()\n",
    "a"
   ]
  },
  {
   "cell_type": "code",
   "execution_count": 5,
   "id": "d22c18b4-0a1b-44c6-8a1f-6e482f0557ac",
   "metadata": {},
   "outputs": [
    {
     "data": {
      "text/plain": [
       "{'first': 'wile', 'middle': 'E', 'last': 'coyote'}"
      ]
     },
     "execution_count": 5,
     "metadata": {},
     "output_type": "execute_result"
    }
   ],
   "source": [
    "customer = {'first': 'wile', 'middle': 'E', 'last': 'coyote'}\n",
    "customer"
   ]
  },
  {
   "cell_type": "code",
   "execution_count": 7,
   "id": "7ca2d9e3-d4fd-4ae6-b18c-5ba93c942175",
   "metadata": {},
   "outputs": [
    {
     "data": {
      "text/plain": [
       "{'first': 'wile', 'middle': 'F', 'last': 'coyote'}"
      ]
     },
     "execution_count": 7,
     "metadata": {},
     "output_type": "execute_result"
    }
   ],
   "source": [
    "customer = dict(first = 'wile', middle = 'F', last = 'coyote')\n",
    "customer"
   ]
  },
  {
   "cell_type": "code",
   "execution_count": null,
   "id": "c3884a88-8a8d-4746-807f-5e3c093b2187",
   "metadata": {},
   "outputs": [],
   "source": [
    "#출석부 딕셔너리를 만들기\n",
    "이름, 학번, 학과\n",
    "제임스 202201 경영학과\n",
    "줄리엣 202202 아랍어과\n",
    "로버트 202203 ELLT과"
   ]
  },
  {
   "cell_type": "code",
   "execution_count": 11,
   "id": "c14bf6d2-f47c-4da2-8b89-ce2caf37d70e",
   "metadata": {},
   "outputs": [
    {
     "data": {
      "text/plain": [
       "{'name': ['제임스', '줄리엣', '로버트'], 'number': [202201, 202202, 202203]}"
      ]
     },
     "execution_count": 11,
     "metadata": {},
     "output_type": "execute_result"
    }
   ],
   "source": [
    "#관리할 의미가 없음. 하나 치면 하나에 대한 정보만 나올 수 있게. \n",
    "\n",
    "name = ['제임스','줄리엣','로버트']\n",
    "student_num = [202201, 202202, 202203]\n",
    "\n",
    "student_dic = {'name': name, 'number': student_num}\n",
    "student_dic"
   ]
  },
  {
   "cell_type": "code",
   "execution_count": 14,
   "id": "687ce55e-0e5c-44e8-b67a-0604a569b90c",
   "metadata": {},
   "outputs": [
    {
     "ename": "SyntaxError",
     "evalue": "invalid syntax (1947712811.py, line 1)",
     "output_type": "error",
     "traceback": [
      "\u001b[0;36m  File \u001b[0;32m\"/var/folders/yf/zwysv3jn4tb_p89k89zby_040000gn/T/ipykernel_76344/1947712811.py\"\u001b[0;36m, line \u001b[0;32m1\u001b[0m\n\u001b[0;31m    student_dic = dict{\u001b[0m\n\u001b[0m                      ^\u001b[0m\n\u001b[0;31mSyntaxError\u001b[0m\u001b[0;31m:\u001b[0m invalid syntax\n"
     ]
    }
   ],
   "source": [
    "student_dic = dict{\n",
    "    'student_1':{\n",
    "        '이름': '제임스'\n",
    "        '학번': 202201\n",
    "        '학과': '아랍어과'}}\n",
    "\n",
    "#인원이 많아지면 관리하기 어려움"
   ]
  },
  {
   "cell_type": "code",
   "execution_count": 16,
   "id": "674aed13-34e1-4361-854c-4cd88da099d1",
   "metadata": {},
   "outputs": [
    {
     "data": {
      "text/plain": [
       "{'제임스': (202201, '경영학과'), '줄리엣': (202202, '아랍어과'), '로버트': (202203, 'ELLT과')}"
      ]
     },
     "execution_count": 16,
     "metadata": {},
     "output_type": "execute_result"
    }
   ],
   "source": [
    "attendance = dict(제임스=(202201, '경영학과'), 줄리엣=(202202, '아랍어과'), 로버트=(202203, 'ELLT과'))\n",
    "attendance"
   ]
  },
  {
   "cell_type": "markdown",
   "id": "07f1d352-05bd-4efd-a187-290fcfdcc715",
   "metadata": {},
   "source": [
    "#### 형변환"
   ]
  },
  {
   "cell_type": "code",
   "execution_count": 17,
   "id": "395fe866-4534-4a2a-a7b5-5fedd39deb84",
   "metadata": {},
   "outputs": [
    {
     "data": {
      "text/plain": [
       "{2021: [], 3: 4, 5: 6}"
      ]
     },
     "execution_count": 17,
     "metadata": {},
     "output_type": "execute_result"
    }
   ],
   "source": [
    "#dict()\n",
    "ex1 = [[2021, []], [3, 4], [5, 6]]\n",
    "dict(ex1)"
   ]
  },
  {
   "cell_type": "code",
   "execution_count": 18,
   "id": "d0a7b4f7-9b1a-44b0-ae7c-b829b578ced6",
   "metadata": {},
   "outputs": [
    {
     "data": {
      "text/plain": [
       "{1: 2, 3: 4, 5: 6}"
      ]
     },
     "execution_count": 18,
     "metadata": {},
     "output_type": "execute_result"
    }
   ],
   "source": [
    "ex2 = [(1, 2), (3, 4), (5, 6)]\n",
    "dict(ex2)"
   ]
  },
  {
   "cell_type": "code",
   "execution_count": 19,
   "id": "9cf0bdc1-d696-48d9-8df8-eb0f54bcc4a4",
   "metadata": {},
   "outputs": [
    {
     "ename": "ValueError",
     "evalue": "dictionary update sequence element #0 has length 4; 2 is required",
     "output_type": "error",
     "traceback": [
      "\u001b[0;31m---------------------------------------------------------------------------\u001b[0m",
      "\u001b[0;31mValueError\u001b[0m                                Traceback (most recent call last)",
      "\u001b[0;32m/var/folders/yf/zwysv3jn4tb_p89k89zby_040000gn/T/ipykernel_76344/409999776.py\u001b[0m in \u001b[0;36m<module>\u001b[0;34m\u001b[0m\n\u001b[1;32m      1\u001b[0m \u001b[0mex3\u001b[0m \u001b[0;34m=\u001b[0m \u001b[0;34m[\u001b[0m\u001b[0;34m'abdd'\u001b[0m\u001b[0;34m,\u001b[0m \u001b[0;34m'bcdd'\u001b[0m\u001b[0;34m,\u001b[0m \u001b[0;34m'cddd'\u001b[0m\u001b[0;34m]\u001b[0m\u001b[0;34m\u001b[0m\u001b[0;34m\u001b[0m\u001b[0m\n\u001b[0;32m----> 2\u001b[0;31m \u001b[0mdict\u001b[0m\u001b[0;34m(\u001b[0m\u001b[0mex3\u001b[0m\u001b[0;34m)\u001b[0m\u001b[0;34m\u001b[0m\u001b[0;34m\u001b[0m\u001b[0m\n\u001b[0m",
      "\u001b[0;31mValueError\u001b[0m: dictionary update sequence element #0 has length 4; 2 is required"
     ]
    }
   ],
   "source": [
    "ex3 = ['abdd', 'bcdd', 'cddd']\n",
    "dict(ex3)"
   ]
  },
  {
   "cell_type": "markdown",
   "id": "1819d6d9-807f-4579-9c4e-8207e77c5ee3",
   "metadata": {},
   "source": [
    "#### 항목 조회 & 변경\n",
    "- "
   ]
  },
  {
   "cell_type": "code",
   "execution_count": 55,
   "id": "f955ac4a-ec32-4e40-bf0b-cb34990eabf2",
   "metadata": {},
   "outputs": [],
   "source": [
    "#항목이 많아지면 들여쓰기로\n",
    "pythons = {\n",
    "    'Chapman':'Graham',\n",
    "    'Cleese':'John',\n",
    "    'Idle':'Eric',\n",
    "    'Jones':'Terry',\n",
    "    'Palin':'Michael'\n",
    "}"
   ]
  },
  {
   "cell_type": "code",
   "execution_count": null,
   "id": "23db97db-56ef-4f92-ab55-844d8a1bd627",
   "metadata": {},
   "outputs": [],
   "source": []
  },
  {
   "cell_type": "code",
   "execution_count": null,
   "id": "5e579cc9-7995-4cfe-9f1e-1d8d662f2e39",
   "metadata": {},
   "outputs": [],
   "source": [
    "pythons[0] #들여쓰기 안됨"
   ]
  },
  {
   "cell_type": "code",
   "execution_count": 33,
   "id": "ae7fa32f-c68b-4d17-badf-23228c56222f",
   "metadata": {},
   "outputs": [
    {
     "data": {
      "text/plain": [
       "{'Chapman': 'Graham',\n",
       " 'Cleese': 'Kohn',\n",
       " 'Idle': 'Erica',\n",
       " 'Jones': 'Terry',\n",
       " 'Palin': 'Michael'}"
      ]
     },
     "execution_count": 33,
     "metadata": {},
     "output_type": "execute_result"
    }
   ],
   "source": [
    "pythons['Idle'] = 'Erica'\n",
    "pythons"
   ]
  },
  {
   "cell_type": "code",
   "execution_count": 34,
   "id": "970334e3-b452-4db1-a92b-e99216a50f40",
   "metadata": {},
   "outputs": [
    {
     "data": {
      "text/plain": [
       "{'Chapman': 'Graham',\n",
       " 'Cleese': 'Kohn',\n",
       " 'Idle': 'Erica',\n",
       " 'Jones': 'Terry',\n",
       " 'Palin': 'Michael',\n",
       " 'Plain': 'Josh'}"
      ]
     },
     "execution_count": 34,
     "metadata": {},
     "output_type": "execute_result"
    }
   ],
   "source": [
    "pythons['Plain'] = 'Josh'\n",
    "pythons"
   ]
  },
  {
   "cell_type": "code",
   "execution_count": 35,
   "id": "681eea61-31e4-4302-91d6-7240691c12a5",
   "metadata": {},
   "outputs": [
    {
     "data": {
      "text/plain": [
       "{'Chapman': 'Graham',\n",
       " 'Cleese': 'Kohn',\n",
       " 'Idle': 'Erica',\n",
       " 'Jones': 'Terry',\n",
       " 'Palin': 'Michael',\n",
       " 'Plain': 'Josh',\n",
       " 'Kim': 'Laura'}"
      ]
     },
     "execution_count": 35,
     "metadata": {},
     "output_type": "execute_result"
    }
   ],
   "source": [
    "pythons['Kim'] = 'Laura'\n",
    "pythons"
   ]
  },
  {
   "cell_type": "code",
   "execution_count": 36,
   "id": "b8233549-45d1-4f17-91bb-f924c9920d65",
   "metadata": {},
   "outputs": [
    {
     "ename": "NameError",
     "evalue": "name 'pyhons' is not defined",
     "output_type": "error",
     "traceback": [
      "\u001b[0;31m---------------------------------------------------------------------------\u001b[0m",
      "\u001b[0;31mNameError\u001b[0m                                 Traceback (most recent call last)",
      "\u001b[0;32m/var/folders/yf/zwysv3jn4tb_p89k89zby_040000gn/T/ipykernel_76344/2768235755.py\u001b[0m in \u001b[0;36m<module>\u001b[0;34m\u001b[0m\n\u001b[0;32m----> 1\u001b[0;31m \u001b[0mpyhons\u001b[0m\u001b[0;34m[\u001b[0m\u001b[0;34m'Lee'\u001b[0m\u001b[0;34m]\u001b[0m\u001b[0;34m\u001b[0m\u001b[0;34m\u001b[0m\u001b[0m\n\u001b[0m",
      "\u001b[0;31mNameError\u001b[0m: name 'pyhons' is not defined"
     ]
    }
   ],
   "source": [
    "pyhons['Lee']"
   ]
  },
  {
   "cell_type": "code",
   "execution_count": 37,
   "id": "95c04983-7fd8-48dc-96fe-ae34e6a6e4ca",
   "metadata": {},
   "outputs": [
    {
     "data": {
      "text/plain": [
       "False"
      ]
     },
     "execution_count": 37,
     "metadata": {},
     "output_type": "execute_result"
    }
   ],
   "source": [
    "'Lee' in pythons"
   ]
  },
  {
   "cell_type": "code",
   "execution_count": 38,
   "id": "59a25aae-ba92-412a-bc0f-8f11e0a8c45e",
   "metadata": {},
   "outputs": [],
   "source": [
    "pythons.get('Lee') #None"
   ]
  },
  {
   "cell_type": "code",
   "execution_count": 39,
   "id": "124bc286-6813-4882-ab02-e0f968d9004b",
   "metadata": {},
   "outputs": [
    {
     "data": {
      "text/plain": [
       "'Laura'"
      ]
     },
     "execution_count": 39,
     "metadata": {},
     "output_type": "execute_result"
    }
   ],
   "source": [
    "pythons.get('Kim', 0)"
   ]
  },
  {
   "cell_type": "code",
   "execution_count": 40,
   "id": "108862b4-cbb5-4926-b4ca-4d2721ada1c1",
   "metadata": {},
   "outputs": [
    {
     "data": {
      "text/plain": [
       "0"
      ]
     },
     "execution_count": 40,
     "metadata": {},
     "output_type": "execute_result"
    }
   ],
   "source": [
    "pythons.get('Choi', 0)"
   ]
  },
  {
   "cell_type": "markdown",
   "id": "7bb52cbe-5e87-4d6b-b3a6-f0ef5c0672de",
   "metadata": {},
   "source": [
    "#### Keys(), values(), items()\n",
    "- keys\n",
    "- values\n",
    "- items"
   ]
  },
  {
   "cell_type": "code",
   "execution_count": 41,
   "id": "ec7be095-2b55-448f-8c86-66f22acb10c3",
   "metadata": {},
   "outputs": [
    {
     "data": {
      "text/plain": [
       "list[dict_keys(['Chapman', 'Cleese', 'Idle', 'Jones', 'Palin', 'Plain', 'Kim'])]"
      ]
     },
     "execution_count": 41,
     "metadata": {},
     "output_type": "execute_result"
    }
   ],
   "source": [
    "list[pythons.keys()]\n"
   ]
  },
  {
   "cell_type": "code",
   "execution_count": 42,
   "id": "8b8a3508-726a-417e-ac2e-cba82bc5c2e4",
   "metadata": {},
   "outputs": [
    {
     "data": {
      "text/plain": [
       "dict_values(['Graham', 'Kohn', 'Erica', 'Terry', 'Michael', 'Josh', 'Laura'])"
      ]
     },
     "execution_count": 42,
     "metadata": {},
     "output_type": "execute_result"
    }
   ],
   "source": [
    "pythons.values()"
   ]
  },
  {
   "cell_type": "code",
   "execution_count": 43,
   "id": "073b0280-3811-4489-9649-80513a6abd14",
   "metadata": {},
   "outputs": [
    {
     "data": {
      "text/plain": [
       "dict_items([('Chapman', 'Graham'), ('Cleese', 'Kohn'), ('Idle', 'Erica'), ('Jones', 'Terry'), ('Palin', 'Michael'), ('Plain', 'Josh'), ('Kim', 'Laura')])"
      ]
     },
     "execution_count": 43,
     "metadata": {},
     "output_type": "execute_result"
    }
   ],
   "source": [
    "pythons.items() # 순회 할 때 사용"
   ]
  },
  {
   "cell_type": "code",
   "execution_count": 44,
   "id": "a6c599cc-6c6e-4652-8a23-05fbb739f9d5",
   "metadata": {},
   "outputs": [
    {
     "data": {
      "text/plain": [
       "['Graham', 'Kohn', 'Erica', 'Terry', 'Michael', 'Josh', 'Laura']"
      ]
     },
     "execution_count": 44,
     "metadata": {},
     "output_type": "execute_result"
    }
   ],
   "source": [
    "[x[1] for x in pythons.items()]"
   ]
  },
  {
   "cell_type": "code",
   "execution_count": 2,
   "id": "744885b2-a6d4-4af2-9593-2386271e2c82",
   "metadata": {},
   "outputs": [
    {
     "data": {
      "text/plain": [
       "{'cat': 4, 'snake': 0, 'monkey': 2, 'ant': 4, 'spider': 8}"
      ]
     },
     "execution_count": 2,
     "metadata": {},
     "output_type": "execute_result"
    }
   ],
   "source": [
    "animal = 'cat snake monkey ant spider'.split()\n",
    "legs = [4, 0, 2, 4, 8]\n",
    "\n",
    "animals_legs = {}\n",
    "for a,l in zip(animal, legs):\n",
    "    animals_legs[a] = l\n",
    "    \n",
    "animals_legs"
   ]
  },
  {
   "cell_type": "code",
   "execution_count": null,
   "id": "9cc1c0fc-460f-478c-ac2c-b81347e493c0",
   "metadata": {},
   "outputs": [],
   "source": [
    "#pythons에서 성: 이름 => 리스트컴프리헨션 이용해서 [(성 앞글자, 이름의 글자 수)]"
   ]
  },
  {
   "cell_type": "code",
   "execution_count": 53,
   "id": "2d30c5a5-fcd6-465f-b8e3-ebe50eb6e881",
   "metadata": {},
   "outputs": [
    {
     "ename": "ValueError",
     "evalue": "too many values to unpack (expected 2)",
     "output_type": "error",
     "traceback": [
      "\u001b[0;31m---------------------------------------------------------------------------\u001b[0m",
      "\u001b[0;31mValueError\u001b[0m                                Traceback (most recent call last)",
      "\u001b[0;32m/var/folders/yf/zwysv3jn4tb_p89k89zby_040000gn/T/ipykernel_76344/1110133655.py\u001b[0m in \u001b[0;36m<module>\u001b[0;34m\u001b[0m\n\u001b[1;32m      1\u001b[0m \u001b[0mpythons_dic\u001b[0m \u001b[0;34m=\u001b[0m \u001b[0;34m{\u001b[0m\u001b[0;34m}\u001b[0m\u001b[0;34m\u001b[0m\u001b[0;34m\u001b[0m\u001b[0m\n\u001b[0;32m----> 2\u001b[0;31m \u001b[0;32mfor\u001b[0m \u001b[0mfirst\u001b[0m\u001b[0;34m,\u001b[0m \u001b[0mname_num\u001b[0m \u001b[0;32min\u001b[0m \u001b[0;34m(\u001b[0m\u001b[0mpythons\u001b[0m\u001b[0;34m.\u001b[0m\u001b[0mkeys\u001b[0m\u001b[0;34m(\u001b[0m\u001b[0;34m)\u001b[0m\u001b[0;34m,\u001b[0m \u001b[0mpythons\u001b[0m\u001b[0;34m.\u001b[0m\u001b[0mvalues\u001b[0m\u001b[0;34m(\u001b[0m\u001b[0;34m)\u001b[0m\u001b[0;34m)\u001b[0m\u001b[0;34m:\u001b[0m\u001b[0;34m\u001b[0m\u001b[0;34m\u001b[0m\u001b[0m\n\u001b[0m\u001b[1;32m      3\u001b[0m     \u001b[0mpythons_dic\u001b[0m\u001b[0;34m[\u001b[0m\u001b[0mfirst\u001b[0m\u001b[0;34m[\u001b[0m\u001b[0;36m0\u001b[0m\u001b[0;34m]\u001b[0m\u001b[0;34m]\u001b[0m \u001b[0;34m=\u001b[0m \u001b[0mlen\u001b[0m\u001b[0;34m(\u001b[0m\u001b[0mname_num\u001b[0m\u001b[0;34m)\u001b[0m\u001b[0;34m\u001b[0m\u001b[0;34m\u001b[0m\u001b[0m\n\u001b[1;32m      4\u001b[0m \u001b[0mpythons_dic\u001b[0m\u001b[0;34m\u001b[0m\u001b[0;34m\u001b[0m\u001b[0m\n",
      "\u001b[0;31mValueError\u001b[0m: too many values to unpack (expected 2)"
     ]
    }
   ],
   "source": [
    "pythons_dic = {}\n",
    "for first, name_num in (pythons.keys(), pythons.values()):\n",
    "    pythons_dic[first[0]] = len(name_num)\n",
    "pythons_dic"
   ]
  },
  {
   "cell_type": "code",
   "execution_count": null,
   "id": "db006268-8b2a-4c0d-842e-6aa2b9d61246",
   "metadata": {},
   "outputs": [],
   "source": [
    "[(k)]"
   ]
  },
  {
   "cell_type": "markdown",
   "id": "f7da5498-d72a-4a49-9303-9916b510670c",
   "metadata": {},
   "source": [
    "#### 값 수정, 삭제, 복제"
   ]
  },
  {
   "cell_type": "code",
   "execution_count": 56,
   "id": "d25bb1e5-c81e-40f8-8d8e-fc76070f3aba",
   "metadata": {},
   "outputs": [
    {
     "data": {
      "text/plain": [
       "{'Chapman': 'Graham',\n",
       " 'Cleese': 'John',\n",
       " 'Idle': 'Eric',\n",
       " 'Jones': 'Terry',\n",
       " 'Palin': 'Michael'}"
      ]
     },
     "execution_count": 56,
     "metadata": {},
     "output_type": "execute_result"
    }
   ],
   "source": [
    "pythons"
   ]
  },
  {
   "cell_type": "code",
   "execution_count": 58,
   "id": "588ca024-4c43-4e8c-89dc-5b69db6fce76",
   "metadata": {},
   "outputs": [],
   "source": [
    "others = {\n",
    "    'Marx': 'Groucho',\n",
    "    'Howard': 'Moe'\n",
    "}"
   ]
  },
  {
   "cell_type": "code",
   "execution_count": 59,
   "id": "88ab35ed-b320-488e-9751-b635ba483623",
   "metadata": {},
   "outputs": [],
   "source": [
    "pythons.update(others)"
   ]
  },
  {
   "cell_type": "code",
   "execution_count": 60,
   "id": "a91cf351-9b29-4d77-9278-5040a77929f0",
   "metadata": {},
   "outputs": [
    {
     "data": {
      "text/plain": [
       "{'Chapman': 'Graham',\n",
       " 'Cleese': 'John',\n",
       " 'Idle': 'Eric',\n",
       " 'Jones': 'Terry',\n",
       " 'Palin': 'Michael',\n",
       " 'Marx': 'Groucho',\n",
       " 'Howard': 'Moe'}"
      ]
     },
     "execution_count": 60,
     "metadata": {},
     "output_type": "execute_result"
    }
   ],
   "source": [
    "pythons"
   ]
  },
  {
   "cell_type": "code",
   "execution_count": 62,
   "id": "e1f26893-06ac-463f-b4e4-75e7c3942cf6",
   "metadata": {},
   "outputs": [
    {
     "data": {
      "text/plain": [
       "{'Marx': 'Groucho',\n",
       " 'Howard': 'Moe',\n",
       " 'Chapman': 'Graham',\n",
       " 'Cleese': 'John',\n",
       " 'Idle': 'Eric',\n",
       " 'Jones': 'Terry',\n",
       " 'Palin': 'Michael'}"
      ]
     },
     "execution_count": 62,
     "metadata": {},
     "output_type": "execute_result"
    }
   ],
   "source": [
    "{**others, **pythons} #python3 가능"
   ]
  },
  {
   "cell_type": "code",
   "execution_count": 63,
   "id": "219cdb5a-24d0-4ccc-8502-72eb294ac898",
   "metadata": {},
   "outputs": [],
   "source": [
    "#삭제\n",
    "del pythons['Howard']"
   ]
  },
  {
   "cell_type": "code",
   "execution_count": 64,
   "id": "c3870abc-f8e2-4a62-a8ec-9013f3ca5089",
   "metadata": {},
   "outputs": [
    {
     "data": {
      "text/plain": [
       "{'Chapman': 'Graham',\n",
       " 'Cleese': 'John',\n",
       " 'Idle': 'Eric',\n",
       " 'Jones': 'Terry',\n",
       " 'Palin': 'Michael',\n",
       " 'Marx': 'Groucho'}"
      ]
     },
     "execution_count": 64,
     "metadata": {},
     "output_type": "execute_result"
    }
   ],
   "source": [
    "pythons"
   ]
  },
  {
   "cell_type": "code",
   "execution_count": 65,
   "id": "77253db5-8361-4679-a153-9669b10d3e0b",
   "metadata": {},
   "outputs": [
    {
     "data": {
      "text/plain": [
       "'Groucho'"
      ]
     },
     "execution_count": 65,
     "metadata": {},
     "output_type": "execute_result"
    }
   ],
   "source": [
    "pythons.pop('Marx',0)"
   ]
  },
  {
   "cell_type": "code",
   "execution_count": 66,
   "id": "8e4c53b5-10d4-42f8-8722-53bc80ea6262",
   "metadata": {},
   "outputs": [
    {
     "data": {
      "text/plain": [
       "0"
      ]
     },
     "execution_count": 66,
     "metadata": {},
     "output_type": "execute_result"
    }
   ],
   "source": [
    "pythons.pop('till',0)"
   ]
  },
  {
   "cell_type": "code",
   "execution_count": 67,
   "id": "de873b9d-c2f5-4f30-be96-0510d8c3d52a",
   "metadata": {},
   "outputs": [],
   "source": [
    "pythons.clear()"
   ]
  },
  {
   "cell_type": "code",
   "execution_count": 68,
   "id": "e688750d-acc7-4d12-89c1-bb7c0b8a1f03",
   "metadata": {},
   "outputs": [],
   "source": [
    "pythons = {}"
   ]
  },
  {
   "cell_type": "code",
   "execution_count": 69,
   "id": "2b4d91db-5e7a-4878-9f60-b2969537e0ce",
   "metadata": {},
   "outputs": [
    {
     "data": {
      "text/plain": [
       "{}"
      ]
     },
     "execution_count": 69,
     "metadata": {},
     "output_type": "execute_result"
    }
   ],
   "source": [
    "pythons"
   ]
  },
  {
   "cell_type": "code",
   "execution_count": 70,
   "id": "20473da3-0d3a-4dac-937e-d2bde8152cf2",
   "metadata": {},
   "outputs": [],
   "source": [
    "#copy\n",
    "#1. 할당\n",
    "#2. 얕은 복사\n",
    "#3. 깊은 복사"
   ]
  },
  {
   "cell_type": "code",
   "execution_count": 71,
   "id": "a74d79ad-87b2-4ea7-a817-77c0de33e4e7",
   "metadata": {},
   "outputs": [
    {
     "data": {
      "text/plain": [
       "({1: 10, 2: 3, 3: 4}, {1: 10, 2: 3, 3: 4})"
      ]
     },
     "execution_count": 71,
     "metadata": {},
     "output_type": "execute_result"
    }
   ],
   "source": [
    "a = {1:2, 2:3, 3:4}\n",
    "b = a\n",
    "a[1] = 10\n",
    "a, b"
   ]
  },
  {
   "cell_type": "code",
   "execution_count": 72,
   "id": "513bcca3-b93e-4789-a46e-e76581b41f5f",
   "metadata": {},
   "outputs": [
    {
     "data": {
      "text/plain": [
       "({1: 100, 2: 3, 3: 4}, {1: 10, 2: 3, 3: 4})"
      ]
     },
     "execution_count": 72,
     "metadata": {},
     "output_type": "execute_result"
    }
   ],
   "source": [
    "#얕은 복사\n",
    "b = a.copy()\n",
    "a[1] = 100\n",
    "a,b"
   ]
  },
  {
   "cell_type": "code",
   "execution_count": 73,
   "id": "02136c57-6823-405d-bfa6-a59a8ff3db0d",
   "metadata": {},
   "outputs": [
    {
     "data": {
      "text/plain": [
       "({1: [100, 2, 2], 2: [1, 1, 1]}, {1: [100, 2, 2], 2: [1, 1, 1]})"
      ]
     },
     "execution_count": 73,
     "metadata": {},
     "output_type": "execute_result"
    }
   ],
   "source": [
    "a = {1:[2, 2, 2], 2: [1, 1, 1]}\n",
    "b = a.copy()\n",
    "a[1][0] = 100\n",
    "a,b"
   ]
  },
  {
   "cell_type": "code",
   "execution_count": 74,
   "id": "4b586556-6ade-437e-9dcf-c797bf794d20",
   "metadata": {},
   "outputs": [
    {
     "data": {
      "text/plain": [
       "({1: [9, 2, 2], 2: [1, 1, 1]}, {1: [100, 2, 2], 2: [1, 1, 1]})"
      ]
     },
     "execution_count": 74,
     "metadata": {},
     "output_type": "execute_result"
    }
   ],
   "source": [
    "import copy\n",
    "b = copy.deepcopy(a)\n",
    "a[1][0] = 9\n",
    "a,b"
   ]
  },
  {
   "cell_type": "code",
   "execution_count": 75,
   "id": "555b5dab-1d46-471f-a37f-c97fa9dc418f",
   "metadata": {},
   "outputs": [
    {
     "ename": "TypeError",
     "evalue": "'>' not supported between instances of 'dict' and 'dict'",
     "output_type": "error",
     "traceback": [
      "\u001b[0;31m---------------------------------------------------------------------------\u001b[0m",
      "\u001b[0;31mTypeError\u001b[0m                                 Traceback (most recent call last)",
      "\u001b[0;32m/var/folders/yf/zwysv3jn4tb_p89k89zby_040000gn/T/ipykernel_76344/1295077337.py\u001b[0m in \u001b[0;36m<module>\u001b[0;34m\u001b[0m\n\u001b[1;32m      2\u001b[0m \u001b[0ma\u001b[0m \u001b[0;34m==\u001b[0m \u001b[0mb\u001b[0m\u001b[0;34m\u001b[0m\u001b[0;34m\u001b[0m\u001b[0m\n\u001b[1;32m      3\u001b[0m \u001b[0ma\u001b[0m \u001b[0;34m!=\u001b[0m \u001b[0mb\u001b[0m\u001b[0;34m\u001b[0m\u001b[0;34m\u001b[0m\u001b[0m\n\u001b[0;32m----> 4\u001b[0;31m \u001b[0ma\u001b[0m \u001b[0;34m>\u001b[0m \u001b[0mb\u001b[0m\u001b[0;34m\u001b[0m\u001b[0;34m\u001b[0m\u001b[0m\n\u001b[0m",
      "\u001b[0;31mTypeError\u001b[0m: '>' not supported between instances of 'dict' and 'dict'"
     ]
    }
   ],
   "source": [
    "# 값 비교 (크다, 작다 는 안되고 같다, 다르다 만)\n",
    "a == b\n",
    "a != b\n",
    "a > b"
   ]
  },
  {
   "cell_type": "markdown",
   "id": "79d34fc1-047d-4c72-be37-4d2b93e2bb1f",
   "metadata": {},
   "source": [
    "### ex\n",
    "- 두 개 리스트를 딕셔너리로 만든다: {한국어: 영어}\n",
    "- 명왕성: pluto 추가하기\n",
    "- '성'으로 끝나지 않는 단어 삭제하기\n",
    "    - del sdict['태양'] => 하트코딩 안됨\n",
    "- sorted i) kor ii) eng"
   ]
  },
  {
   "cell_type": "code",
   "execution_count": 80,
   "id": "4ac5f723-cc89-4267-bc06-358ce6ae01ce",
   "metadata": {},
   "outputs": [],
   "source": [
    "solar_kor = '태양 금성 수성 지구 화성 목성 토성 천왕성 해왕성'.split()\n",
    "solar_eng = 'sun mercury venus earth mars jupiter saturn uranus neptune'.split()"
   ]
  },
  {
   "cell_type": "code",
   "execution_count": 101,
   "id": "f7dc04d9-be23-493b-ba05-446bb57d7fb6",
   "metadata": {},
   "outputs": [
    {
     "ename": "SyntaxError",
     "evalue": "invalid syntax (4175732422.py, line 15)",
     "output_type": "error",
     "traceback": [
      "\u001b[0;36m  File \u001b[0;32m\"/var/folders/yf/zwysv3jn4tb_p89k89zby_040000gn/T/ipykernel_76344/4175732422.py\"\u001b[0;36m, line \u001b[0;32m15\u001b[0m\n\u001b[0;31m    sorted(k) for k in solar_system_dict.valuse()\u001b[0m\n\u001b[0m              ^\u001b[0m\n\u001b[0;31mSyntaxError\u001b[0m\u001b[0;31m:\u001b[0m invalid syntax\n"
     ]
    }
   ],
   "source": [
    "solar_system_dict = {}\n",
    "for i in range (len(solar_kor)):\n",
    "    solar_system_dict[solar_kor[i]] = solar_eng[i]\n",
    "\n",
    "solar_system_dict['명왕성'] = 'pluto'\n",
    "solar_system_dict\n",
    "\n",
    "\n",
    "\n",
    "'''for k in (solar_system_dict.keys()):\n",
    "    if k.endswith('성'):\n",
    "        del solar_system_dict[k]'''\n",
    "\n",
    "\n",
    "sorted(k) for k in solar_system_dict.valuse()"
   ]
  },
  {
   "cell_type": "code",
   "execution_count": 102,
   "id": "4be7c2d8-4d7a-47e2-93ff-5cef6d700a3a",
   "metadata": {},
   "outputs": [
    {
     "name": "stdout",
     "output_type": "stream",
     "text": [
      "room has the contents balloom\n",
      "weapon has the contents lead pipe\n",
      "person has the contents Col. Mustard\n"
     ]
    }
   ],
   "source": [
    "accusation = {'room': 'balloom', 'weapon': 'lead pipe', 'person': 'Col. Mustard'}\n",
    "\n",
    "for k, v in accusation.items():\n",
    "    print(f'{k} has the contents {v}')"
   ]
  },
  {
   "cell_type": "code",
   "execution_count": 103,
   "id": "748209c8-1453-4a11-bd39-2828990edfc5",
   "metadata": {},
   "outputs": [
    {
     "data": {
      "text/plain": [
       "{'e': 1, 'p': 2, 'a': 1, 'l': 1}"
      ]
     },
     "execution_count": 103,
     "metadata": {},
     "output_type": "execute_result"
    }
   ],
   "source": [
    "letter = 'apple'\n",
    "#{a: 1, p:2 , ...}\n",
    "{ch: letter.count(ch) for ch in set(letter)}"
   ]
  },
  {
   "cell_type": "code",
   "execution_count": 106,
   "id": "aaab0a86-2516-440c-8009-5aba2d8ca663",
   "metadata": {},
   "outputs": [
    {
     "name": "stdout",
     "output_type": "stream",
     "text": [
      "{'a': 2, 'e': 1, 'i': 1, 'o': 4, 'u': 0}\n"
     ]
    },
    {
     "data": {
      "text/plain": [
       "{'e': 1, 'i': 1, 'a': 2, 'o': 4}"
      ]
     },
     "execution_count": 106,
     "metadata": {},
     "output_type": "execute_result"
    }
   ],
   "source": [
    "vowels = 'aeiou'\n",
    "word = 'onomatopoeia'\n",
    "\n",
    "# 주어진 단어의 모음 세기\n",
    "# a:1, e:3, ...\n",
    "#vowels, word 각각 기준 잡아서 dic compre 이용해서 만들기\n",
    "\n",
    "op1 = {v: word.count(v) for v in vowels}\n",
    "print(op1)\n",
    "\n",
    "#2.\n",
    "{ch: word.count(ch) for ch in set(word) if ch in vowels}"
   ]
  },
  {
   "cell_type": "code",
   "execution_count": null,
   "id": "04c13ed5-1bb5-4ddb-acd0-09fcd85c1d1c",
   "metadata": {},
   "outputs": [],
   "source": []
  },
  {
   "cell_type": "code",
   "execution_count": null,
   "id": "be5e37cb-739c-42de-be61-f75f2d8b1279",
   "metadata": {},
   "outputs": [],
   "source": []
  },
  {
   "cell_type": "code",
   "execution_count": null,
   "id": "4457a4bf-5990-484d-88be-df7883a13e14",
   "metadata": {},
   "outputs": [],
   "source": []
  },
  {
   "cell_type": "code",
   "execution_count": null,
   "id": "6e2d334e-f619-4d1b-8186-5eb1ef68fdc8",
   "metadata": {},
   "outputs": [],
   "source": []
  },
  {
   "cell_type": "markdown",
   "id": "7f1275d3-7d0f-4d16-9581-cac892de1003",
   "metadata": {
    "tags": []
   },
   "source": [
    "## Ser\n",
    "- 딕셔너리의 키만 모아놓음 => 중복없음!\n",
    "- 수학의 집합 개념 => 교집합, 합집합, 차집합, ...\n",
    "- 데이터 자루, 순서 없고, 인덱싱 없고"
   ]
  },
  {
   "cell_type": "code",
   "execution_count": null,
   "id": "e5ec30c9-8bf3-4df2-ab18-e13c8362006d",
   "metadata": {},
   "outputs": [],
   "source": []
  },
  {
   "cell_type": "code",
   "execution_count": 107,
   "id": "3d5eb35d-0120-45cf-988c-b4cfe33b4e46",
   "metadata": {},
   "outputs": [
    {
     "data": {
      "text/plain": [
       "(set(), {})"
      ]
     },
     "execution_count": 107,
     "metadata": {},
     "output_type": "execute_result"
    }
   ],
   "source": [
    "empty = set()\n",
    "empty1 = {} #dict\n",
    "empty, empty1"
   ]
  },
  {
   "cell_type": "code",
   "execution_count": 108,
   "id": "89f70bb2-95d9-41aa-b391-0ef16e894911",
   "metadata": {},
   "outputs": [
    {
     "data": {
      "text/plain": [
       "set"
      ]
     },
     "execution_count": 108,
     "metadata": {},
     "output_type": "execute_result"
    }
   ],
   "source": [
    "a = {1, 2, 3}\n",
    "type(a)"
   ]
  },
  {
   "cell_type": "code",
   "execution_count": 109,
   "id": "ce0741ff-89b3-42cc-8e0d-12894dcc8d23",
   "metadata": {},
   "outputs": [],
   "source": [
    "b = set([1, 2, 3, 3, 3, 3, 3])"
   ]
  },
  {
   "cell_type": "code",
   "execution_count": 110,
   "id": "713ecba4-68f0-4faa-abbe-f2d7d441d8db",
   "metadata": {},
   "outputs": [
    {
     "data": {
      "text/plain": [
       "{1, 2, 3}"
      ]
     },
     "execution_count": 110,
     "metadata": {},
     "output_type": "execute_result"
    }
   ],
   "source": [
    "b"
   ]
  },
  {
   "cell_type": "code",
   "execution_count": 111,
   "id": "a0bf0a82-2235-45fc-b8bc-5f6f6788e4fb",
   "metadata": {},
   "outputs": [
    {
     "data": {
      "text/plain": [
       "{1, 2, 3, 4}"
      ]
     },
     "execution_count": 111,
     "metadata": {},
     "output_type": "execute_result"
    }
   ],
   "source": [
    "# 추가하기\n",
    "a.add(4)\n",
    "a"
   ]
  },
  {
   "cell_type": "code",
   "execution_count": 112,
   "id": "6f7b1a2f-8d8d-4b78-b13e-75c25fbfce92",
   "metadata": {},
   "outputs": [
    {
     "data": {
      "text/plain": [
       "{1, 2, 3}"
      ]
     },
     "execution_count": 112,
     "metadata": {},
     "output_type": "execute_result"
    }
   ],
   "source": [
    "#삭제\n",
    "a.remove(4)\n",
    "a"
   ]
  },
  {
   "cell_type": "code",
   "execution_count": 113,
   "id": "89320d8d-4fe4-46aa-b5a4-91774ddbe449",
   "metadata": {},
   "outputs": [
    {
     "data": {
      "text/plain": [
       "{1, 2}"
      ]
     },
     "execution_count": 113,
     "metadata": {},
     "output_type": "execute_result"
    }
   ],
   "source": [
    "a.discard(3)\n",
    "a"
   ]
  },
  {
   "cell_type": "code",
   "execution_count": 3,
   "id": "83fc1f95-3622-429c-9edf-475d5007aa38",
   "metadata": {},
   "outputs": [],
   "source": [
    "drinks = {\n",
    "    'martini': {'vodka','vermouth'},\n",
    "    'black russian': {'vodka', 'kahlua'},\n",
    "    'white russian': {'cream','kahlua','vodka'},\n",
    "    'mahattan': {'rye', 'vermouth', 'bitters'},\n",
    "    'screwdriver': {'orange juice', 'vodka'}\n",
    "}\n",
    "\n"
   ]
  },
  {
   "cell_type": "code",
   "execution_count": 4,
   "id": "dcdfafe0-3c1c-410c-9844-257d45260b42",
   "metadata": {},
   "outputs": [
    {
     "name": "stdout",
     "output_type": "stream",
     "text": [
      "martini\n",
      "black russian\n",
      "white russian\n",
      "screwdriver\n"
     ]
    }
   ],
   "source": [
    "for k, v in drinks.items():\n",
    "    if 'vodka' in v:\n",
    "        print(k)"
   ]
  },
  {
   "cell_type": "code",
   "execution_count": 5,
   "id": "51074067-f37e-4102-8191-d4f37cfcc9c2",
   "metadata": {},
   "outputs": [
    {
     "name": "stdout",
     "output_type": "stream",
     "text": [
      "black russian\n",
      "screwdriver\n"
     ]
    }
   ],
   "source": [
    "for k, v in drinks.items():\n",
    "    if 'vodka' in v and not ('cream' in v or 'vermouth' in v):\n",
    "        print(k)"
   ]
  },
  {
   "cell_type": "code",
   "execution_count": 6,
   "id": "d52404f7-aae4-49d2-8143-e0a97d81401b",
   "metadata": {},
   "outputs": [
    {
     "data": {
      "text/plain": [
       "({1}, {4})"
      ]
     },
     "execution_count": 6,
     "metadata": {},
     "output_type": "execute_result"
    }
   ],
   "source": [
    "a = {1, 2, 3}\n",
    "b = {2, 3, 4}\n",
    "\n",
    "# 교집합 : intersection\n",
    "a.intersection(b)\n",
    "a & b\n",
    "\n",
    "# 합집합 : union\n",
    "a.union(b)\n",
    "a | b\n",
    "\n",
    "# 차집합 : difference\n",
    "a.difference(b)\n",
    "a - b, b - a"
   ]
  },
  {
   "cell_type": "code",
   "execution_count": 7,
   "id": "e4681c22-6b7e-4614-8e55-8016d85076e2",
   "metadata": {},
   "outputs": [
    {
     "data": {
      "text/plain": [
       "frozenset({1, 2})"
      ]
     },
     "execution_count": 7,
     "metadata": {},
     "output_type": "execute_result"
    }
   ],
   "source": [
    "#frozenset : 가변객체를 불변객체로 변경\n",
    "\n",
    "set([1, 2])\n",
    "frozenset([1, 2])"
   ]
  },
  {
   "cell_type": "code",
   "execution_count": 9,
   "id": "2a97d40f-166a-4600-9f9a-7d4274006a4c",
   "metadata": {},
   "outputs": [
    {
     "data": {
      "text/plain": [
       "'!pip install pylint\\n!pylint example.py\\n\\n!pip install pydocstyle\\n!pydocstyle example.py'"
      ]
     },
     "execution_count": 9,
     "metadata": {},
     "output_type": "execute_result"
    }
   ],
   "source": [
    "\"\"\"!pip install pylint\n",
    "!pylint example.py\n",
    "\n",
    "!pip install pydocstyle\n",
    "!pydocstyle example.py\"\"\""
   ]
  },
  {
   "cell_type": "code",
   "execution_count": null,
   "id": "13b17994-87a4-470c-9e06-a93fc64d7928",
   "metadata": {},
   "outputs": [],
   "source": []
  }
 ],
 "metadata": {
  "kernelspec": {
   "display_name": "Python 3 (ipykernel)",
   "language": "python",
   "name": "python3"
  },
  "language_info": {
   "codemirror_mode": {
    "name": "ipython",
    "version": 3
   },
   "file_extension": ".py",
   "mimetype": "text/x-python",
   "name": "python",
   "nbconvert_exporter": "python",
   "pygments_lexer": "ipython3",
   "version": "3.9.7"
  }
 },
 "nbformat": 4,
 "nbformat_minor": 5
}
