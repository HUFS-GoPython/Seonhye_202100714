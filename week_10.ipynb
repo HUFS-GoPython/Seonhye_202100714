{
 "cells": [
  {
   "cell_type": "code",
   "execution_count": 1,
   "id": "23077988-63e3-4bf0-856c-4b50973703b3",
   "metadata": {},
   "outputs": [],
   "source": [
    "from collections import defaultdict"
   ]
  },
  {
   "cell_type": "markdown",
   "id": "5aafdf2a-649f-477b-b6cf-9fb5c9f550a0",
   "metadata": {},
   "source": [
    "### defaultdict\n",
    "- 값이 없으면 0으로 설정될 수 있게 해주는 딕셔너리\n",
    "- defaultdict(list) # []"
   ]
  },
  {
   "cell_type": "code",
   "execution_count": 3,
   "id": "a9e3bda7-c9ea-44f7-8316-b14e36368ed6",
   "metadata": {},
   "outputs": [],
   "source": [
    "letter = 'defaultdict'\n",
    "empty = {} # a: [a, a]\n",
    "for ch in letter:\n",
    "    # if empty[ch] = 0\n",
    "    # else 값을 넣어야\n",
    "    # 쓸데없는 세 줄 존재\n",
    "    \n",
    "    empty.setdefault(ch, 0) #a가 없으면 기본값으로 0을 넣어라\n",
    "    empty[ch] == 1"
   ]
  },
  {
   "cell_type": "code",
   "execution_count": 4,
   "id": "ab7f9d29-16ad-41fc-808e-5d08d38c432f",
   "metadata": {},
   "outputs": [
    {
     "data": {
      "text/plain": [
       "{'d': 0, 'e': 0, 'f': 0, 'a': 0, 'u': 0, 'l': 0, 't': 0, 'i': 0, 'c': 0}"
      ]
     },
     "execution_count": 4,
     "metadata": {},
     "output_type": "execute_result"
    }
   ],
   "source": [
    "empty"
   ]
  },
  {
   "cell_type": "markdown",
   "id": "5234ffe0-fe60-4c42-b0df-5848c7d1f97e",
   "metadata": {},
   "source": [
    "######  새 딕셔너리를 설정해주고 쓸 데 없는 세 줄이 존재하는게 귀찮을 때 한 줄로 축약가능"
   ]
  },
  {
   "cell_type": "code",
   "execution_count": 5,
   "id": "8b6932b4-65cf-4a08-8cdb-dcda2e7b69ab",
   "metadata": {},
   "outputs": [
    {
     "data": {
      "text/plain": [
       "defaultdict(int,\n",
       "            {'d': 2,\n",
       "             'e': 1,\n",
       "             'f': 1,\n",
       "             'a': 1,\n",
       "             'u': 1,\n",
       "             'l': 1,\n",
       "             't': 2,\n",
       "             'i': 1,\n",
       "             'c': 1})"
      ]
     },
     "execution_count": 5,
     "metadata": {},
     "output_type": "execute_result"
    }
   ],
   "source": [
    "empty2 = defaultdict(int)\n",
    "for ch in letter:\n",
    "    empty2[ch] += 1\n",
    "    \n",
    "empty2"
   ]
  },
  {
   "cell_type": "markdown",
   "id": "c7dc4d3f-cf55-4a70-8ee8-a48b28410bc9",
   "metadata": {},
   "source": [
    "###### 객체를 구현하기 위해 쓰는 게 클래스\n",
    "### 클래스\n",
    "- 객체가 가져야 할 기본 정보를 담은 코드\n",
    "- 설계도, 툴, 프레임위크\n",
    "- 붕어빵의 틀\n",
    "- 붕어빵 == 인스턴스\n",
    "- `lass Car:` (앞에 캐피탈라이즈)\n",
    "    - 클래스명은 카멜표기법을 쓴다.\n",
    "   "
   ]
  },
  {
   "cell_type": "markdown",
   "id": "1d8f1bdb-2391-427f-bf07-6216070360c1",
   "metadata": {
    "tags": []
   },
   "source": [
    "## Object & Class\n",
    "- 객체? 실체적인 물건, 개념\n",
    "- 속성, 행동을 가지는 개념\n",
    "- 자동차\n",
    "    - 구현을 하고 싶다 !!\n",
    "    - 속성: 엔진, 브랜드, 가격, 색상, 이름, .. => 변수\n",
    "    - 행동: 나가다, 정지하다, 좌회전, 우회전    => 메서드 (함수)\n",
    "- 고양이\n",
    "    - 속성: 종, 이름, 컬러, 몸무게, 성별 ...\n",
    "    - 행동: 짖다, 뛰다, 걷다, 쨰려보다, ...\n",
    "- 사전\n",
    "    - 속성: 글자 수, 시작 글자, 출현 빈도수, ...\n",
    "    - 행동: 추가하다, 제외하다, ..\n",
    "- 관련 짓는 방법\n",
    "    - 사람       상점                                                 물건\n",
    "    - 이름, 돈,   재고, 이익, 고객명단(여기 명단에 사람이 들어가는 상호작용),      브랜드, 이름, 가격\n",
    "    - 사다        회원등록, 팔다, 수익계산\n",
    "- 객체 사용하는 이유: 코드 재사용 수월 (전체가 함수로 되어있으면 어디를 뜯어 고쳐야되는지 모르니까)\n"
   ]
  },
  {
   "cell_type": "code",
   "execution_count": 7,
   "id": "6fa316f4-2f7c-412d-9eeb-64d075d04bd7",
   "metadata": {},
   "outputs": [
    {
     "data": {
      "text/plain": [
       "<__main__.Car at 0x7f783df4c6a0>"
      ]
     },
     "execution_count": 7,
     "metadata": {},
     "output_type": "execute_result"
    }
   ],
   "source": [
    "# 정의\n",
    "class Car:\n",
    "    pass\n",
    "\n",
    "# 선언 (괄호 꼭 할 것)\n",
    "car1 = Car()\n",
    "car1"
   ]
  },
  {
   "cell_type": "code",
   "execution_count": 8,
   "id": "3da47255-d088-439d-9fd6-ec3848542f11",
   "metadata": {},
   "outputs": [],
   "source": [
    "car2 = Car()"
   ]
  },
  {
   "cell_type": "code",
   "execution_count": 9,
   "id": "4789a30a-fe21-48c2-86f0-ee6d5c07f541",
   "metadata": {},
   "outputs": [
    {
     "data": {
      "text/plain": [
       "<__main__.Car at 0x7f783df4c730>"
      ]
     },
     "execution_count": 9,
     "metadata": {},
     "output_type": "execute_result"
    }
   ],
   "source": [
    "car2"
   ]
  },
  {
   "cell_type": "code",
   "execution_count": 10,
   "id": "7cb13d10-701a-41a5-a920-99b1c17fa6c3",
   "metadata": {},
   "outputs": [
    {
     "data": {
      "text/plain": [
       "__main__.Car"
      ]
     },
     "execution_count": 10,
     "metadata": {},
     "output_type": "execute_result"
    }
   ],
   "source": [
    "type(car2)"
   ]
  },
  {
   "cell_type": "code",
   "execution_count": 11,
   "id": "d6406148-5250-48bd-81cc-d4bc55efc846",
   "metadata": {},
   "outputs": [],
   "source": [
    "#속성을 만들 수 있다는 장점 존재\n",
    "\n",
    "car1.brand = 'mercedes'\n",
    "car2.brand = 'kia'"
   ]
  },
  {
   "cell_type": "code",
   "execution_count": 12,
   "id": "6e2d204a-bca9-4657-b327-94bb95bc2b5f",
   "metadata": {},
   "outputs": [
    {
     "name": "stdout",
     "output_type": "stream",
     "text": [
      "mercedes\n",
      "kia\n"
     ]
    }
   ],
   "source": [
    "for car in [car1, car2]:\n",
    "    print(car.brand)"
   ]
  },
  {
   "cell_type": "code",
   "execution_count": 13,
   "id": "78f3d9c8-d24e-4fbe-b266-811433d4b800",
   "metadata": {},
   "outputs": [],
   "source": [
    "class Car:\n",
    "    # 속성 정해짐\n",
    "    brand = 'mercedes'\n",
    "    \n",
    "car3 = Car()"
   ]
  },
  {
   "cell_type": "code",
   "execution_count": 14,
   "id": "c30383e6-0868-425e-b3e6-fb005c2de5cf",
   "metadata": {},
   "outputs": [
    {
     "data": {
      "text/plain": [
       "'mercedes'"
      ]
     },
     "execution_count": 14,
     "metadata": {},
     "output_type": "execute_result"
    }
   ],
   "source": [
    "car3.brand"
   ]
  },
  {
   "cell_type": "code",
   "execution_count": 15,
   "id": "a579de39-d812-4491-b667-478212737ccc",
   "metadata": {},
   "outputs": [],
   "source": [
    "#다양한 속성을 원한다.\n",
    "class Car:\n",
    "    def __init__(self, brand): #속성을 초기화하는 함수 (self == my_car)\n",
    "        self.brand = brand #초기화해ㅐ줌\n",
    "# 내가 원하는 속성을 넣을 수 있다 !\n",
    "# self는 항상 있어야 하는 특정한 위치가 있고, 변수처럼 사용해주면 됨"
   ]
  },
  {
   "cell_type": "code",
   "execution_count": 16,
   "id": "d1885fbc-1183-49d1-a2ee-d6faa0ba46b6",
   "metadata": {},
   "outputs": [
    {
     "data": {
      "text/plain": [
       "'toyota'"
      ]
     },
     "execution_count": 16,
     "metadata": {},
     "output_type": "execute_result"
    }
   ],
   "source": [
    "car4 = Car(brand = 'toyota')\n",
    "car4.brand"
   ]
  },
  {
   "cell_type": "code",
   "execution_count": 17,
   "id": "e928d831-00cf-4bf9-b4d7-a8f47b1a90f1",
   "metadata": {},
   "outputs": [],
   "source": [
    "class Car:\n",
    "    def __init__(self, brand, model, color):\n",
    "        self.brand = brand\n",
    "        self.medel = model\n",
    "        self.color = color\n",
    "        \n",
    "    #action은 메소드로 해줌 / 두 가지 속성을 설정해준 것\n",
    "    def go(self):\n",
    "        print('car move')\n",
    "    \n",
    "    def stop(self):\n",
    "        print('car stop')\n",
    "    \n",
    "my_morning = Car('kia', 'morning', 'black')"
   ]
  },
  {
   "cell_type": "code",
   "execution_count": 18,
   "id": "78c3ce72-31fa-4106-b79b-6979f70403fe",
   "metadata": {},
   "outputs": [
    {
     "data": {
      "text/plain": [
       "'black'"
      ]
     },
     "execution_count": 18,
     "metadata": {},
     "output_type": "execute_result"
    }
   ],
   "source": [
    "my_morning.color"
   ]
  },
  {
   "cell_type": "code",
   "execution_count": 19,
   "id": "fcabe299-d613-48ad-90ce-aad621c088a6",
   "metadata": {},
   "outputs": [
    {
     "name": "stdout",
     "output_type": "stream",
     "text": [
      "car stop\n"
     ]
    }
   ],
   "source": [
    "my_morning.stop()"
   ]
  },
  {
   "cell_type": "code",
   "execution_count": 20,
   "id": "af273cdb-9cc5-4a9c-aaed-c0b37df2e05e",
   "metadata": {},
   "outputs": [],
   "source": [
    "class Car:\n",
    "    def __init__(self, brand, model, color):\n",
    "        self.brand = brand\n",
    "        self.medel = model\n",
    "        self.color = color\n",
    "        \n",
    "    #action은 메소드로 해줌 / 두 가지 속성을 설정해준 것\n",
    "    def go(self):\n",
    "        # 내 차(브랜드={}) 이 움직인다.\n",
    "        print(f'{my_morning.brand} 이 움직인다.')\n",
    "    \n",
    "    def stop(self):\n",
    "        print('car stop')\n",
    "        \n",
    "    def change_color(self):\n",
    "        #self.color -> 'pink' 바꾼다. (해결못함)\n",
    "        my_morning.color('pink')\n",
    "    \n",
    "    \n",
    "my_morning = Car('kia', 'morning', 'black')"
   ]
  },
  {
   "cell_type": "code",
   "execution_count": 21,
   "id": "f7df4644-209c-4337-a378-23ccc33de466",
   "metadata": {},
   "outputs": [
    {
     "name": "stdout",
     "output_type": "stream",
     "text": [
      "kia 이 움직인다.\n"
     ]
    }
   ],
   "source": [
    "my_morning.go()"
   ]
  },
  {
   "cell_type": "code",
   "execution_count": 22,
   "id": "fc736159-23ce-4733-ab8f-f904b571ba52",
   "metadata": {},
   "outputs": [
    {
     "data": {
      "text/plain": [
       "<bound method Car.change_color of <__main__.Car object at 0x7f783df4c6d0>>"
      ]
     },
     "execution_count": 22,
     "metadata": {},
     "output_type": "execute_result"
    }
   ],
   "source": [
    "my_morning.change_color"
   ]
  },
  {
   "cell_type": "markdown",
   "id": "60da025f-69ec-4f75-9439-9259538fa4ed",
   "metadata": {},
   "source": [
    "#### #1. 내가 원하는 컬러로 바꾸기\n",
    "#### #2. 컬러가 있으면 있는 컬러, 없으면 orange로 기본값 설정하기"
   ]
  },
  {
   "cell_type": "code",
   "execution_count": 23,
   "id": "5fdfa87d-2dea-4ad1-9a39-4bb29a2b8f2f",
   "metadata": {},
   "outputs": [],
   "source": [
    "class Car:\n",
    "    # model 기본적으로는 값을 안 받아도 되게 설정하기\n",
    "    # def __init__(self, brand = None, ... ) 맞음\n",
    "    # def __init__(self, brand = '', ...) 빈 스트링으로 설정하고 싶으면 None 이 맞음\n",
    "    def __init__(self, brand, model = None, color = 'orange'):\n",
    "        self.brand = brand\n",
    "        # self.brand = 어떤 객체가 만들어지더라도 가져갈 브랜드\n",
    "        # brand = 객체 생성 시 설정되는 브랜드명 (처음에 들어오눈 값)\n",
    "        \n",
    "        self.medel = model\n",
    "        self.color = color\n",
    "        \n",
    "        # model 기본적으로는 값을 안 받아도 되게 설정하기\n",
    "        \n",
    "        \n",
    "    #action은 메소드로 해줌 / 두 가지 속성을 설정해준 것\n",
    "    def go(self):\n",
    "        #print(self.brand+'가 움직인다.')\n",
    "        print(f'내 차 (브랜드={self.brand}가 움직인다.')\n",
    "        #print('차가 움직인다')\n",
    "    \n",
    "    def stop(self):\n",
    "        print('car stop')\n",
    "        \n",
    "    def change_color(self, color):\n",
    "        #self.color -> 'pink' 바꾼다. (해결못함)\n",
    "        self.color = 'pink'\n",
    "        \n",
    "        #입력되는 컬러로 설정하기\n",
    "        self.color =color\n",
    "    \n",
    "    \n",
    "my_morning = Car('kia', 'morning', 'black')\n",
    "my_morning.change_color('blue')"
   ]
  },
  {
   "cell_type": "code",
   "execution_count": 24,
   "id": "f05d1446-d4ff-461b-90c4-b87daa5398ff",
   "metadata": {},
   "outputs": [
    {
     "data": {
      "text/plain": [
       "'blue'"
      ]
     },
     "execution_count": 24,
     "metadata": {},
     "output_type": "execute_result"
    }
   ],
   "source": [
    "my_morning.color"
   ]
  },
  {
   "cell_type": "code",
   "execution_count": 25,
   "id": "8f32050c-a5ed-478d-98ef-33d64ff22f0f",
   "metadata": {},
   "outputs": [
    {
     "ename": "AttributeError",
     "evalue": "'Car' object has no attribute 'model'",
     "output_type": "error",
     "traceback": [
      "\u001b[0;31m---------------------------------------------------------------------------\u001b[0m",
      "\u001b[0;31mAttributeError\u001b[0m                            Traceback (most recent call last)",
      "\u001b[0;32m/var/folders/yf/zwysv3jn4tb_p89k89zby_040000gn/T/ipykernel_18276/3055029894.py\u001b[0m in \u001b[0;36m<module>\u001b[0;34m\u001b[0m\n\u001b[0;32m----> 1\u001b[0;31m \u001b[0mmy_morning\u001b[0m\u001b[0;34m.\u001b[0m\u001b[0mmodel\u001b[0m\u001b[0;34m\u001b[0m\u001b[0;34m\u001b[0m\u001b[0m\n\u001b[0m",
      "\u001b[0;31mAttributeError\u001b[0m: 'Car' object has no attribute 'model'"
     ]
    }
   ],
   "source": [
    "my_morning.model"
   ]
  },
  {
   "cell_type": "code",
   "execution_count": 26,
   "id": "afd24911-ca1e-4254-9daf-2793e2cab5c2",
   "metadata": {},
   "outputs": [
    {
     "data": {
      "text/plain": [
       "<bound method Car.change_color of <__main__.Car object at 0x7f783dfd7400>>"
      ]
     },
     "execution_count": 26,
     "metadata": {},
     "output_type": "execute_result"
    }
   ],
   "source": [
    "my_morning.change_color"
   ]
  },
  {
   "cell_type": "code",
   "execution_count": 27,
   "id": "051f0fcd-ef8b-465a-a33c-0e4284cd7dab",
   "metadata": {},
   "outputs": [
    {
     "data": {
      "text/plain": [
       "'blue'"
      ]
     },
     "execution_count": 27,
     "metadata": {},
     "output_type": "execute_result"
    }
   ],
   "source": [
    "my_morning.color"
   ]
  },
  {
   "cell_type": "code",
   "execution_count": null,
   "id": "00dfb826-f04a-4bcb-a32f-c9e4a5b3996e",
   "metadata": {},
   "outputs": [],
   "source": []
  },
  {
   "cell_type": "code",
   "execution_count": 28,
   "id": "ced83192-7b49-4209-ae43-e11791af3345",
   "metadata": {},
   "outputs": [],
   "source": [
    "my_morning.color = 'white'"
   ]
  },
  {
   "cell_type": "code",
   "execution_count": 29,
   "id": "805e5cb0-8dc0-4a4a-837c-a0385dd11fbc",
   "metadata": {},
   "outputs": [
    {
     "data": {
      "text/plain": [
       "'white'"
      ]
     },
     "execution_count": 29,
     "metadata": {},
     "output_type": "execute_result"
    }
   ],
   "source": [
    "my_morning.color #color 만 바꾼다"
   ]
  },
  {
   "cell_type": "code",
   "execution_count": 30,
   "id": "c8995c45-627a-4396-9e2f-5f4fd05ba716",
   "metadata": {},
   "outputs": [
    {
     "data": {
      "text/plain": [
       "'yellow'"
      ]
     },
     "execution_count": 30,
     "metadata": {},
     "output_type": "execute_result"
    }
   ],
   "source": [
    "my_sorento = Car('kia', 'sorento', 'yellow')\n",
    "my_sorento.color"
   ]
  },
  {
   "cell_type": "code",
   "execution_count": null,
   "id": "e1d030a6-6b18-40a6-8bd4-dc833c922f82",
   "metadata": {},
   "outputs": [],
   "source": []
  },
  {
   "cell_type": "markdown",
   "id": "3848d2b8-fd55-4a14-b0fa-fd9d87612f9c",
   "metadata": {},
   "source": [
    "###  getter, setter\n",
    "- 캡슐화, 정보 은닉\n",
    "- 클래스 외부에서 변수 접근을 용이하지 못하게 하는 것\n"
   ]
  },
  {
   "cell_type": "code",
   "execution_count": 31,
   "id": "95f7fa83-9594-4cff-bc67-8823e2a6a2fd",
   "metadata": {},
   "outputs": [],
   "source": [
    "#1. 틀에서 변수 설정"
   ]
  },
  {
   "cell_type": "code",
   "execution_count": 32,
   "id": "331ce1d1-36bd-479d-bc31-9ac4c14bf25c",
   "metadata": {},
   "outputs": [],
   "source": [
    "class Fruit:\n",
    "    color = 'red'\n",
    "    "
   ]
  },
  {
   "cell_type": "code",
   "execution_count": 33,
   "id": "11c63865-c136-4f89-8fd8-6f2d95fabca6",
   "metadata": {},
   "outputs": [
    {
     "data": {
      "text/plain": [
       "'red'"
      ]
     },
     "execution_count": 33,
     "metadata": {},
     "output_type": "execute_result"
    }
   ],
   "source": [
    "apple = Fruit()\n",
    "apple.color"
   ]
  },
  {
   "cell_type": "code",
   "execution_count": 34,
   "id": "1479783d-bfc6-4386-980d-1bcc5639fd04",
   "metadata": {},
   "outputs": [],
   "source": [
    "Fruit.color = 'blue'"
   ]
  },
  {
   "cell_type": "code",
   "execution_count": 35,
   "id": "bd8e0190-bf65-47e8-b907-dc07236e322b",
   "metadata": {},
   "outputs": [
    {
     "data": {
      "text/plain": [
       "'blue'"
      ]
     },
     "execution_count": 35,
     "metadata": {},
     "output_type": "execute_result"
    }
   ],
   "source": [
    "orange = Fruit()\n",
    "orange.color"
   ]
  },
  {
   "cell_type": "code",
   "execution_count": 40,
   "id": "b33e77f8-7fba-4807-9f26-5cabacdd9c1f",
   "metadata": {},
   "outputs": [],
   "source": [
    "class Car:\n",
    "    def __init__(self, input_brand):\n",
    "        self.brand = input_brand\n",
    "        \n",
    "    def get_brand(self):\n",
    "        #원래 변수명에 접근하도록 / getter\n",
    "        print('from the getter')\n",
    "        return self.brand\n",
    "    \n",
    "    def set_brand(self, input_brand):\n",
    "        #변수명을 바꾸는 작업 / setter\n",
    "        print('from the setter')\n",
    "        self.brand = input_brand"
   ]
  },
  {
   "cell_type": "code",
   "execution_count": 41,
   "id": "a375df0e-f91d-40dc-b855-b8afcbba6933",
   "metadata": {},
   "outputs": [
    {
     "data": {
      "text/plain": [
       "'toyoya'"
      ]
     },
     "execution_count": 41,
     "metadata": {},
     "output_type": "execute_result"
    }
   ],
   "source": [
    "ex = Car('toyoya')\n",
    "ex.brand"
   ]
  },
  {
   "cell_type": "code",
   "execution_count": 42,
   "id": "6f4ef4d5-1405-496a-982e-154ff9fb71dc",
   "metadata": {},
   "outputs": [
    {
     "name": "stdout",
     "output_type": "stream",
     "text": [
      "from the getter\n"
     ]
    },
    {
     "data": {
      "text/plain": [
       "'toyoya'"
      ]
     },
     "execution_count": 42,
     "metadata": {},
     "output_type": "execute_result"
    }
   ],
   "source": [
    "ex.get_brand()"
   ]
  },
  {
   "cell_type": "code",
   "execution_count": 43,
   "id": "6c1fa359-4b5d-4448-a905-85a00bef59a7",
   "metadata": {},
   "outputs": [
    {
     "name": "stdout",
     "output_type": "stream",
     "text": [
      "from the setter\n"
     ]
    }
   ],
   "source": [
    "ex.set_brand('mazuda')"
   ]
  },
  {
   "cell_type": "code",
   "execution_count": 44,
   "id": "092413be-990e-4e71-a191-f5bea5db8eb3",
   "metadata": {},
   "outputs": [
    {
     "data": {
      "text/plain": [
       "'mazuda'"
      ]
     },
     "execution_count": 44,
     "metadata": {},
     "output_type": "execute_result"
    }
   ],
   "source": [
    "ex.brand"
   ]
  },
  {
   "cell_type": "code",
   "execution_count": 45,
   "id": "b99e59e9-f503-4dee-b046-c2e89a7cc64c",
   "metadata": {},
   "outputs": [
    {
     "name": "stdout",
     "output_type": "stream",
     "text": [
      "from the getter\n"
     ]
    },
    {
     "data": {
      "text/plain": [
       "'mazuda'"
      ]
     },
     "execution_count": 45,
     "metadata": {},
     "output_type": "execute_result"
    }
   ],
   "source": [
    "ex.get_brand()"
   ]
  },
  {
   "cell_type": "code",
   "execution_count": 46,
   "id": "e256ed1e-8944-4f38-991e-9dfa768dcf51",
   "metadata": {},
   "outputs": [],
   "source": [
    "Car.brand = 'bmw'"
   ]
  },
  {
   "cell_type": "code",
   "execution_count": 47,
   "id": "3b539615-96b9-4465-9260-6942b7d43146",
   "metadata": {},
   "outputs": [
    {
     "data": {
      "text/plain": [
       "'toyota'"
      ]
     },
     "execution_count": 47,
     "metadata": {},
     "output_type": "execute_result"
    }
   ],
   "source": [
    "a = Car('toyota')\n",
    "a.brand"
   ]
  },
  {
   "cell_type": "code",
   "execution_count": null,
   "id": "661a4a20-77b7-42dc-ab8c-ef25ebd200c0",
   "metadata": {},
   "outputs": [],
   "source": [
    "#브랜드에 접근을 못하게 하고싶지만 변수명을 알고 있으면 가능하긴 함. 그렇지만 우회해서 접근하게 하려는 것이 의도"
   ]
  },
  {
   "cell_type": "markdown",
   "id": "f70b068c-a2bd-486f-abda-1b901227e3c2",
   "metadata": {},
   "source": [
    "###  2."
   ]
  },
  {
   "cell_type": "code",
   "execution_count": 55,
   "id": "49edfb29-dac9-400c-8e84-a68c2bffa4b5",
   "metadata": {},
   "outputs": [
    {
     "data": {
      "text/plain": [
       "'kia'"
      ]
     },
     "execution_count": 55,
     "metadata": {},
     "output_type": "execute_result"
    }
   ],
   "source": [
    "class Car:\n",
    "    def __init__(self, input_brand):\n",
    "        self.hidden_brand = input_brand\n",
    "    \n",
    "    def get_brand(self):\n",
    "        return self.hidden_brand\n",
    "    \n",
    "    def set_brand(self, input_brand):\n",
    "        self.hidden_brand = input_brand\n",
    "        \n",
    "    brand = property(get_brand, set_brand)\n",
    "    \n",
    "c = Car('kia')\n",
    "c.brand"
   ]
  },
  {
   "cell_type": "code",
   "execution_count": 56,
   "id": "d5f5edf4-d2ae-4a28-8c26-5f9562dd28d6",
   "metadata": {},
   "outputs": [],
   "source": [
    "c.brand = 'hyundai'"
   ]
  },
  {
   "cell_type": "markdown",
   "id": "2ced4cca-dee5-4857-9bb8-df19b3a7f4dd",
   "metadata": {},
   "source": [
    "setter 는 뱉고 getter 는 먹는다고?"
   ]
  },
  {
   "cell_type": "markdown",
   "id": "5750b480-ff3d-436b-9b1e-e789ded5ad95",
   "metadata": {},
   "source": [
    "### 3."
   ]
  },
  {
   "cell_type": "code",
   "execution_count": 57,
   "id": "88e86c64-c57e-4b36-a249-6d3cdfb226d3",
   "metadata": {},
   "outputs": [
    {
     "data": {
      "text/plain": [
       "'aa'"
      ]
     },
     "execution_count": 57,
     "metadata": {},
     "output_type": "execute_result"
    }
   ],
   "source": [
    "#decorator : @...\n",
    "class Car:\n",
    "    def __init__(self, input_brand):\n",
    "        self.hidden_brand = input_brand\n",
    "    \n",
    "    @property\n",
    "    def brand(self):\n",
    "        return self.hidden_brand\n",
    "    \n",
    "    @brand.setter\n",
    "    def brand(self, input_brand):\n",
    "        self.hidden_brand = input_brand\n",
    "        \n",
    "c =Car('aa')\n",
    "c.brand"
   ]
  },
  {
   "cell_type": "markdown",
   "id": "f4025e2f-5a65-4d4b-ba75-6d5811b4853a",
   "metadata": {},
   "source": [
    "### 4."
   ]
  },
  {
   "cell_type": "code",
   "execution_count": 58,
   "id": "2807a4e4-455b-47c4-a568-729d170817f8",
   "metadata": {},
   "outputs": [
    {
     "ename": "AttributeError",
     "evalue": "'Car' object has no attribute '__brand'",
     "output_type": "error",
     "traceback": [
      "\u001b[0;31m---------------------------------------------------------------------------\u001b[0m",
      "\u001b[0;31mAttributeError\u001b[0m                            Traceback (most recent call last)",
      "\u001b[0;32m/var/folders/yf/zwysv3jn4tb_p89k89zby_040000gn/T/ipykernel_4346/3157312800.py\u001b[0m in \u001b[0;36m<module>\u001b[0;34m\u001b[0m\n\u001b[1;32m     12\u001b[0m \u001b[0;34m\u001b[0m\u001b[0m\n\u001b[1;32m     13\u001b[0m \u001b[0mc\u001b[0m \u001b[0;34m=\u001b[0m \u001b[0mCar\u001b[0m\u001b[0;34m(\u001b[0m\u001b[0;34m'bb'\u001b[0m\u001b[0;34m)\u001b[0m\u001b[0;34m\u001b[0m\u001b[0;34m\u001b[0m\u001b[0m\n\u001b[0;32m---> 14\u001b[0;31m \u001b[0mc\u001b[0m\u001b[0;34m.\u001b[0m\u001b[0m__brand\u001b[0m\u001b[0;34m\u001b[0m\u001b[0;34m\u001b[0m\u001b[0m\n\u001b[0m",
      "\u001b[0;31mAttributeError\u001b[0m: 'Car' object has no attribute '__brand'"
     ]
    }
   ],
   "source": [
    "class Car:\n",
    "    def __init__(self, input_brand):\n",
    "        self.hidden_brand = input_brand\n",
    "    \n",
    "    @property\n",
    "    def brand(self):\n",
    "        return self.__brand\n",
    "    \n",
    "    @brand.setter\n",
    "    def brand(self, input_brand):\n",
    "        self.__brand = input_brand\n",
    "        \n",
    "c = Car('bb')\n",
    "c.__brand"
   ]
  },
  {
   "cell_type": "markdown",
   "id": "5382d316-d47d-44d7-a860-216179d6f53e",
   "metadata": {},
   "source": [
    "##### 슈ㅣㅂ게 변수ㅠ를 교체할 수 없게"
   ]
  },
  {
   "cell_type": "code",
   "execution_count": 59,
   "id": "8aa26c88-ad8c-48c7-93e9-509e8144ac4f",
   "metadata": {},
   "outputs": [
    {
     "data": {
      "text/plain": [
       "14"
      ]
     },
     "execution_count": 59,
     "metadata": {},
     "output_type": "execute_result"
    }
   ],
   "source": [
    "class Circle:\n",
    "    def __init__ (self, radius):\n",
    "        self.radius = radius\n",
    "        \n",
    "    @property\n",
    "    def diameter(self):\n",
    "        return self.radius * 2\n",
    "    \n",
    "c = Circle(7)\n",
    "c.diameter"
   ]
  },
  {
   "cell_type": "markdown",
   "id": "9bf97fe3-767e-4b35-9e65-a2ba27e2a729",
   "metadata": {},
   "source": [
    "### 실습\n",
    "- 객체: 메모장 (노트),               메모\n",
    "- 변수: 제목, 페이지번호, 메모         글귀\n",
    "- 메서드: 추가, 삭제, 페이지번호        쓰기, 지우기\n",
    "\n",
    "- '메모' 객체에 글귀를 추가한다\n",
    "- '메모장' 객체에 메모 추가\n",
    "- 페이지 번호가 늘어난다.\n",
    "- 메모를 삭제하면 페이지 번호가 줄어들고\n",
    "- 페이지가 300을 넘으면 메모 추가가 안되도록\n",
    "- 페이지 번호로 메모 찾기"
   ]
  },
  {
   "cell_type": "code",
   "execution_count": null,
   "id": "4a3c40c0-144a-45c9-9fc6-22d5ff57fe72",
   "metadata": {},
   "outputs": [],
   "source": [
    "class Notepad(title, pageNumber, memo):\n",
    "    def add \n",
    "    pass\n",
    "\n",
    "class Note:\n",
    "    pass\n"
   ]
  }
 ],
 "metadata": {
  "kernelspec": {
   "display_name": "Python 3 (ipykernel)",
   "language": "python",
   "name": "python3"
  },
  "language_info": {
   "codemirror_mode": {
    "name": "ipython",
    "version": 3
   },
   "file_extension": ".py",
   "mimetype": "text/x-python",
   "name": "python",
   "nbconvert_exporter": "python",
   "pygments_lexer": "ipython3",
   "version": "3.9.7"
  }
 },
 "nbformat": 4,
 "nbformat_minor": 5
}
