{
 "cells": [
  {
   "cell_type": "markdown",
   "id": "f8fda5c9-09b8-4989-a8b6-f280e1d22e63",
   "metadata": {},
   "source": [
    "### 과제 Quiz 1."
   ]
  },
  {
   "cell_type": "markdown",
   "id": "566ca75b-8900-4e1d-bcff-370000cc7c5a",
   "metadata": {
    "tags": []
   },
   "source": [
    "#### Quiz 1.\n",
    "- text9에서 lexical diversity 계산하기\n",
    "- text6에서 중복없는 셋 내림차순 정렬하기\n",
    "    - a. 앞에서 단어 10개 추출하기\n",
    "    - b. 조건문 연습: 'z'가 있으면 대문자로 바꾸기, 'z'가 없는데 4자 이상이면 끝 글자 대문자로 바꾸기"
   ]
  },
  {
   "cell_type": "code",
   "execution_count": 1,
   "id": "04965f05-a86b-4771-8958-ab0ba8cb2edb",
   "metadata": {
    "collapsed": true,
    "jupyter": {
     "outputs_hidden": true
    },
    "tags": []
   },
   "outputs": [
    {
     "name": "stdout",
     "output_type": "stream",
     "text": [
      "*** Introductory Examples for the NLTK Book ***\n",
      "Loading text1, ..., text9 and sent1, ..., sent9\n",
      "Type the name of the text or sentence to view it.\n",
      "Type: 'texts()' or 'sents()' to list the materials.\n",
      "text1: Moby Dick by Herman Melville 1851\n",
      "text2: Sense and Sensibility by Jane Austen 1811\n",
      "text3: The Book of Genesis\n",
      "text4: Inaugural Address Corpus\n",
      "text5: Chat Corpus\n",
      "text6: Monty Python and the Holy Grail\n",
      "text7: Wall Street Journal\n",
      "text8: Personals Corpus\n",
      "text9: The Man Who Was Thursday by G . K . Chesterton 1908\n"
     ]
    }
   ],
   "source": [
    "from nltk import book"
   ]
  },
  {
   "cell_type": "code",
   "execution_count": 2,
   "id": "faa86d6a-321e-4fd4-aaaf-c419349c739a",
   "metadata": {},
   "outputs": [
    {
     "data": {
      "text/plain": [
       "0.0983485761345412"
      ]
     },
     "execution_count": 2,
     "metadata": {},
     "output_type": "execute_result"
    }
   ],
   "source": [
    "#lexical diversity 계산\n",
    "nine = book.text9\n",
    "len(set(nine.tokens)) / len(nine.tokens)"
   ]
  },
  {
   "cell_type": "markdown",
   "id": "a4f0eb0f-a404-446d-aad3-e25a9d2e3004",
   "metadata": {
    "tags": []
   },
   "source": [
    "#### Quiz 2.\n",
    "- 주민등록번호, 휴대폰 번호, 이메일 입력받는다.\n",
    "    - 주민번호, 휴대폰번호는 숫자만 입력 (- 없이)\n",
    "    - 이메일은 아이디만 입력(@뒷부분 없음)\n",
    "- 출력:\n",
    "    - \"당신은 {}년 {}월 {}일 출생의 {남성/여성}입니다.\"\n",
    "    - 휴대폰번호: {} #하이픈으로 연결하기\n",
    "    - 이메일주소:{아이디}@gmail.com"
   ]
  },
  {
   "cell_type": "code",
   "execution_count": 76,
   "id": "dea82bd3-1608-4c3b-ac34-63e6d896840a",
   "metadata": {},
   "outputs": [
    {
     "name": "stdin",
     "output_type": "stream",
     "text": [
      "주민등록 번호를 입력하시오.(-없이 숫자만 입력)  342342334\n",
      "휴대폰 번호를 입력하시오.(-없이 숫자만 입력)  3423584359\n",
      "이메일을 입력하시오.(@뒷부분 없이 아이디만 입력)  gadi\n"
     ]
    },
    {
     "name": "stdout",
     "output_type": "stream",
     "text": [
      "당신은 2034년 23월 42일 출생의 남성입니다.\n",
      "342-3584-359\n",
      "gadi@gmail.com\n"
     ]
    }
   ],
   "source": [
    "rrn = input('주민등록 번호를 입력하시오.(-없이 숫자만 입력) ') #int 로 받지 않음\n",
    "phone_number = input('휴대폰 번호를 입력하시오.(-없이 숫자만 입력) ')\n",
    "e_mail = input('이메일을 입력하시오.(@뒷부분 없이 아이디만 입력) ')\n",
    "                   \n",
    "year = rrn[:2]\n",
    "birth_month = rrn[2:4]\n",
    "birth_day = rrn[4:6]\n",
    "gender = rrn[6]\n",
    "\n",
    "\n",
    "# 연도 구분을 하긴 했었는데 수업 중간에 설명하신 분의 예시가 좀 더 간결하고 분류하기 좋아서 참고해서 고침\n",
    "\n",
    "if gender == '1' or gender == '2':\n",
    "    century = '19'+year\n",
    "    if gender == '1':\n",
    "        seong = '남성'\n",
    "    else :\n",
    "        seong = '여성'\n",
    "elif gender == '3' or gender == '4':\n",
    "    century = '20'+ year\n",
    "    if gender == '3':\n",
    "        seong = '남성'\n",
    "    else:\n",
    "        seong = '여성'\n",
    "        \n",
    "        \n",
    "        \n",
    "print(f'당신은 {century}년 {birth_month}월 {birth_day}일 출생의 {seong}입니다.')        \n",
    "print(f'{phone_number[:3]}',f'{phone_number[3:7]}',f'{phone_number[7:]}',sep='-')\n",
    "print(f'{e_mail}@gmail.com')"
   ]
  },
  {
   "cell_type": "markdown",
   "id": "dcaf899e-83db-4dd1-8d73-9bc8a057de7a",
   "metadata": {},
   "source": []
  },
  {
   "cell_type": "markdown",
   "id": "5db5764e-e565-49d1-a80b-53adeb607ca1",
   "metadata": {},
   "source": [
    "### 함수 Ⅰ\n",
    "- `y = 3x + 1`\n",
    "- `<str>`.fx(<요소>)\n",
    "- count(): 텍스트에서 어떤 요소의 개수를 세는 함수\n",
    "- replace(): A -> B\n",
    "- strip() : 불필요한 공백 등 원하는 요소를 제거하는 역할\n",
    "- find() : 원하는 문자열 찾기\n",
    "- index() : 원하는 문자열의 인덱스를 반환해줌"
   ]
  },
  {
   "cell_type": "code",
   "execution_count": 12,
   "id": "3aaea8cb-a1dc-456d-b71d-1411b7916f03",
   "metadata": {},
   "outputs": [
    {
     "data": {
      "text/plain": [
       "13721"
      ]
     },
     "execution_count": 12,
     "metadata": {},
     "output_type": "execute_result"
    }
   ],
   "source": [
    "#count() 원하는 단어의 개수 세기\n",
    "moby = book.text1\n",
    "moby.count('the') #대소문자 구분을 하기때문에 The나 THE는 찾지 않음"
   ]
  },
  {
   "cell_type": "code",
   "execution_count": 13,
   "id": "9a6afdef-ece5-4145-bdee-8763f569fbd6",
   "metadata": {},
   "outputs": [
    {
     "data": {
      "text/plain": [
       "98"
      ]
     },
     "execution_count": 13,
     "metadata": {},
     "output_type": "execute_result"
    }
   ],
   "source": [
    "moby.count('THE')"
   ]
  },
  {
   "cell_type": "code",
   "execution_count": 14,
   "id": "18067f57-a3c8-4eae-a7c6-5e7d6b045e3a",
   "metadata": {},
   "outputs": [
    {
     "data": {
      "text/plain": [
       "3861"
      ]
     },
     "execution_count": 14,
     "metadata": {},
     "output_type": "execute_result"
    }
   ],
   "source": [
    "book.text2.count('the')"
   ]
  },
  {
   "cell_type": "code",
   "execution_count": null,
   "id": "e0cd634e-c750-4819-8cc7-03d7e9781441",
   "metadata": {},
   "outputs": [],
   "source": []
  },
  {
   "cell_type": "code",
   "execution_count": 16,
   "id": "874c2bff-9347-4177-9ca6-96bfaa73e4e1",
   "metadata": {},
   "outputs": [],
   "source": [
    "#replace(A,B) 단어의 위치 바꾸기\n",
    "word = 'the'\n",
    "word = word.replace('t','T')"
   ]
  },
  {
   "cell_type": "code",
   "execution_count": 17,
   "id": "507334c0-10c6-4e74-b55a-5c906afdd22a",
   "metadata": {},
   "outputs": [
    {
     "data": {
      "text/plain": [
       "'The'"
      ]
     },
     "execution_count": 17,
     "metadata": {},
     "output_type": "execute_result"
    }
   ],
   "source": [
    "word"
   ]
  },
  {
   "cell_type": "code",
   "execution_count": null,
   "id": "4d8d500f-559f-42d9-8547-9e9c03772646",
   "metadata": {},
   "outputs": [],
   "source": []
  },
  {
   "cell_type": "code",
   "execution_count": 27,
   "id": "7e471f39-63b4-4476-a110-352d9b7ea65f",
   "metadata": {},
   "outputs": [
    {
     "name": "stdout",
     "output_type": "stream",
     "text": [
      "word\n",
      "word\n",
      "            \t word\n"
     ]
    }
   ],
   "source": [
    "# strip(), lstrip(), rstrip() 원하는 요소를 제거해줌\n",
    "word = '            \\t word'\n",
    "print(word.lstrip())\n",
    "print(word.strip())\n",
    "print(word.rstrip())"
   ]
  },
  {
   "cell_type": "code",
   "execution_count": 26,
   "id": "6095bdc7-246c-4a89-aed6-4d578b17b5f2",
   "metadata": {},
   "outputs": [
    {
     "name": "stdout",
     "output_type": "stream",
     "text": [
      "Snowsssssss\n",
      "sssssssssSnow\n",
      "Snow\n"
     ]
    }
   ],
   "source": [
    "snow = 'sssssssssSnowsssssss'\n",
    "print(snow.lstrip('s'))\n",
    "print(snow.rstrip('s'))\n",
    "print(snow.strip('s'))"
   ]
  },
  {
   "cell_type": "code",
   "execution_count": 29,
   "id": "eff3dcce-3877-4727-9958-4a000cfaa5ff",
   "metadata": {},
   "outputs": [
    {
     "data": {
      "text/plain": [
       "'Work'"
      ]
     },
     "execution_count": 29,
     "metadata": {},
     "output_type": "execute_result"
    }
   ],
   "source": [
    "word = '            \\t word'\n",
    "word.lstrip().replace('w','W').replace('d','k') #연속적으로 스트링에 붙일 수 있음"
   ]
  },
  {
   "cell_type": "code",
   "execution_count": null,
   "id": "15e7e927-03a4-47bb-8e7d-c2000394b26d",
   "metadata": {},
   "outputs": [],
   "source": []
  },
  {
   "cell_type": "code",
   "execution_count": 40,
   "id": "00dea260-0910-4cb2-80a2-244ae69707ac",
   "metadata": {},
   "outputs": [
    {
     "data": {
      "text/plain": [
       "3"
      ]
     },
     "execution_count": 40,
     "metadata": {},
     "output_type": "execute_result"
    }
   ],
   "source": [
    "# find() : 원하는 문자열 찾음\n",
    "word2 = 'I have a pen.'\n",
    "word2.find('a') #첫번째 문자를 반환 / 동일하게 lfind 와 rfind 존재"
   ]
  },
  {
   "cell_type": "code",
   "execution_count": 41,
   "id": "187919a9-1402-46da-b61c-1f12baed606a",
   "metadata": {},
   "outputs": [
    {
     "name": "stdout",
     "output_type": "stream",
     "text": [
      "7\n",
      "3\n"
     ]
    }
   ],
   "source": [
    "print(word2.rfind('a'))\n",
    "print(word2.find('a'))"
   ]
  },
  {
   "cell_type": "code",
   "execution_count": 43,
   "id": "49d7e36b-91ea-4b26-b537-7e8a926684a9",
   "metadata": {},
   "outputs": [
    {
     "data": {
      "text/plain": [
       "3"
      ]
     },
     "execution_count": 43,
     "metadata": {},
     "output_type": "execute_result"
    }
   ],
   "source": [
    "word2.index('a')"
   ]
  },
  {
   "cell_type": "code",
   "execution_count": 47,
   "id": "c7383e65-e698-42ea-80dd-8a6c01e283bc",
   "metadata": {},
   "outputs": [
    {
     "data": {
      "text/plain": [
       "-1"
      ]
     },
     "execution_count": 47,
     "metadata": {},
     "output_type": "execute_result"
    }
   ],
   "source": [
    "# index 랑 find 둘 다 문자 위치를 반환해주지만 없는 문자열을 넣을 때가 다름\n",
    "# index는 오류 반환, find는 -1을 반환\n",
    "\n",
    "word2.find('k')"
   ]
  },
  {
   "cell_type": "code",
   "execution_count": 46,
   "id": "956f4d4f-7556-4301-b1e8-62f621e36267",
   "metadata": {},
   "outputs": [
    {
     "ename": "ValueError",
     "evalue": "substring not found",
     "output_type": "error",
     "traceback": [
      "\u001b[0;31m---------------------------------------------------------------------------\u001b[0m",
      "\u001b[0;31mValueError\u001b[0m                                Traceback (most recent call last)",
      "\u001b[0;32m/var/folders/yf/zwysv3jn4tb_p89k89zby_040000gn/T/ipykernel_18539/624018613.py\u001b[0m in \u001b[0;36m<module>\u001b[0;34m\u001b[0m\n\u001b[0;32m----> 1\u001b[0;31m \u001b[0mword2\u001b[0m\u001b[0;34m.\u001b[0m\u001b[0mindex\u001b[0m\u001b[0;34m(\u001b[0m\u001b[0;34m'k'\u001b[0m\u001b[0;34m)\u001b[0m\u001b[0;34m\u001b[0m\u001b[0;34m\u001b[0m\u001b[0m\n\u001b[0m",
      "\u001b[0;31mValueError\u001b[0m: substring not found"
     ]
    }
   ],
   "source": [
    "word2.index('k')"
   ]
  },
  {
   "cell_type": "markdown",
   "id": "48399b4a-4451-40e8-97e0-3a6504071b95",
   "metadata": {},
   "source": [
    "### 함수 Ⅱ\n",
    "- NLTK 전용 # 텍스트 속성을 알아보는 함수가 많음\n",
    "- concordance(): 특정 스트링이 어떤 문맥에서 쓰이는지\n",
    "- similar(): 주어진 스트링과 비슷한 문맥에서 쓰이는 단어를 보여줌\n",
    "- common_context([리스트]) : 주어진 스트링들이 공유하는 문맥\n",
    "- dispersion_plot([리스트]) : 주어진 스트링들이 텍스트의 어느 위치에 나오는지 이미지로 보여줌"
   ]
  },
  {
   "cell_type": "code",
   "execution_count": 48,
   "id": "032cf996-65f6-4349-80c0-7b0af67a9798",
   "metadata": {
    "collapsed": true,
    "jupyter": {
     "outputs_hidden": true
    },
    "tags": []
   },
   "outputs": [
    {
     "name": "stdout",
     "output_type": "stream",
     "text": [
      "Displaying 25 of 1226 matches:\n",
      "s , and to teach them by what name a whale - fish is to be called in our tongue\n",
      "t which is not true .\" -- HACKLUYT \" WHALE . ... Sw . and Dan . HVAL . This ani\n",
      "ulted .\" -- WEBSTER ' S DICTIONARY \" WHALE . ... It is more immediately from th\n",
      "ISH . WAL , DUTCH . HWAL , SWEDISH . WHALE , ICELANDIC . WHALE , ENGLISH . BALE\n",
      "HWAL , SWEDISH . WHALE , ICELANDIC . WHALE , ENGLISH . BALEINE , FRENCH . BALLE\n",
      "least , take the higgledy - piggledy whale statements , however authentic , in \n",
      " dreadful gulf of this monster ' s ( whale ' s ) mouth , are immediately lost a\n",
      " patient Job .\" -- RABELAIS . \" This whale ' s liver was two cartloads .\" -- ST\n",
      " Touching that monstrous bulk of the whale or ork we have received nothing cert\n",
      " of oil will be extracted out of one whale .\" -- IBID . \" HISTORY OF LIFE AND D\n",
      "ise .\" -- KING HENRY . \" Very like a whale .\" -- HAMLET . \" Which to secure , n\n",
      "restless paine , Like as the wounded whale to shore flies thro ' the maine .\" -\n",
      ". OF SPERMA CETI AND THE SPERMA CETI WHALE . VIDE HIS V . E . \" Like Spencer ' \n",
      "t had been a sprat in the mouth of a whale .\" -- PILGRIM ' S PROGRESS . \" That \n",
      "EN ' S ANNUS MIRABILIS . \" While the whale is floating at the stern of the ship\n",
      "e ship called The Jonas - in - the - Whale . ... Some say the whale can ' t ope\n",
      " in - the - Whale . ... Some say the whale can ' t open his mouth , but that is\n",
      " masts to see whether they can see a whale , for the first discoverer has a duc\n",
      " for his pains . ... I was told of a whale taken near Shetland , that had above\n",
      "oneers told me that he caught once a whale in Spitzbergen that was white all ov\n",
      "2 , one eighty feet in length of the whale - bone kind came in , which ( as I w\n",
      "n master and kill this Sperma - ceti whale , for I could never hear of any of t\n",
      " . 1729 . \"... and the breath of the whale is frequendy attended with such an i\n",
      "ed with hoops and armed with ribs of whale .\" -- RAPE OF THE LOCK . \" If we com\n",
      "contemptible in the comparison . The whale is doubtless the largest animal in c\n"
     ]
    }
   ],
   "source": [
    "moby = book.text1\n",
    "moby.concordance('whale')"
   ]
  },
  {
   "cell_type": "code",
   "execution_count": 50,
   "id": "e574d61f-dd6b-4dcf-87a1-1f1dd7dd6b68",
   "metadata": {},
   "outputs": [
    {
     "name": "stdout",
     "output_type": "stream",
     "text": [
      "ship boat sea time captain world man deck pequod other whales air\n",
      "water head crew line thing side way body\n"
     ]
    }
   ],
   "source": [
    "moby.similar('whale')"
   ]
  },
  {
   "cell_type": "code",
   "execution_count": 51,
   "id": "422e2aa7-7528-43f6-b3d3-0a38b247b190",
   "metadata": {},
   "outputs": [
    {
     "name": "stdout",
     "output_type": "stream",
     "text": [
      "ship boat sea time captain world man deck pequod other whales air\n",
      "water head crew line thing side way body\n"
     ]
    },
    {
     "data": {
      "text/plain": [
       "NoneType"
      ]
     },
     "execution_count": 51,
     "metadata": {},
     "output_type": "execute_result"
    }
   ],
   "source": [
    "type(moby.similar('whale')) #타입이 논타입이라서 변수로 받아쓸 수 없음"
   ]
  },
  {
   "cell_type": "code",
   "execution_count": 52,
   "id": "f6ae3e46-581a-4d39-9792-fe6034fc0a19",
   "metadata": {},
   "outputs": [],
   "source": [
    "sense = book.text2"
   ]
  },
  {
   "cell_type": "code",
   "execution_count": 55,
   "id": "4640c6cf-9816-41a0-8eb9-73a4f8368e97",
   "metadata": {
    "collapsed": true,
    "jupyter": {
     "outputs_hidden": true
    },
    "tags": []
   },
   "outputs": [
    {
     "name": "stdout",
     "output_type": "stream",
     "text": [
      "Displaying 25 of 36 matches:\n",
      ", had not the entreaty of her eldest girl induced her first to reflect on the \n",
      "s a good - humored , well - disposed girl ; but as she had already imbibed a g\n",
      "rowing attachment between her eldest girl and the brother of Mrs . John Dashwo\n",
      " be unaffected was all that a pretty girl could want to make her mind as capti\n",
      " get a good husband for every pretty girl . The immediate advantage to herself\n",
      " praise , she was called a beautiful girl , truth was less violently outraged \n",
      "ere going to be married . Ungracious girl ! But I require no such proof . Noth\n",
      " \" I should hardly call her a lively girl -- she is very earnest , very eager \n",
      "have always set her down as a lively girl .\" \" I have frequently detected myse\n",
      "r , you shall see a monstrous pretty girl .\" He immediately went into the pass\n",
      "ur sister . She is a monstrous lucky girl to get him , upon my honour ; not bu\n",
      " added , tenderly caressing a little girl of three years old , who had not mad\n",
      "ome working candles ? My poor little girl would be sadly disappointed , I know\n",
      " that a man should use such a pretty girl so ill ! But when there is plenty of\n",
      "you ever see her ? a smart , stylish girl they say , but not handsome . I reme\n",
      "l , comes and makes love to a pretty girl , and promises marriage , he has no \n",
      "because he grows poor , and a richer girl is ready to have him . Why don ' t h\n",
      " age .\" \" Do you know what kind of a girl Miss Grey is ? Is she said to be ami\n",
      "of the lovely , blooming , healthful girl , on whom I had once doted . What I \n",
      "to my care her only child , a little girl , the offspring of her first guilty \n",
      "r another would do . He had left the girl whose youth and innocence he had sed\n",
      " and hopeless situation of this poor girl , and pictures her to herself , with\n",
      "s Williams , the misery of that poor girl , and the doubt of what his designs \n",
      "ry short one ! She was as handsome a girl last September , as I ever saw ; and\n",
      "elieve there is not a better kind of girl in the world , nor one who more dese\n"
     ]
    }
   ],
   "source": [
    "sense.concordance('girl')"
   ]
  },
  {
   "cell_type": "code",
   "execution_count": 56,
   "id": "f65af8a0-4795-4abd-a5c4-7cd8c9e58525",
   "metadata": {},
   "outputs": [
    {
     "name": "stdout",
     "output_type": "stream",
     "text": [
      "place man person mother pleasure way time cold mind marianne valued\n",
      "subject carriage look face letter family of . estate\n"
     ]
    }
   ],
   "source": [
    "sense.similar('girl')"
   ]
  },
  {
   "cell_type": "code",
   "execution_count": 57,
   "id": "52aec238-cae8-4e40-bfc6-2c9e9f0042f1",
   "metadata": {},
   "outputs": [
    {
     "name": "stdout",
     "output_type": "stream",
     "text": [
      "poor_, eldest_induced disposed_; eldest_and pretty_could pretty_.\n",
      "beautiful_, ungracious_! lively_-- lively_.\" pretty_.\" lucky_to\n",
      "little_of little_would pretty_so stylish_they pretty_, richer_is\n",
      "a_miss healthful_,\n"
     ]
    }
   ],
   "source": [
    "sense.common_contexts(['girl']) #리스트로 작성"
   ]
  },
  {
   "cell_type": "code",
   "execution_count": 59,
   "id": "acfeea65-40ff-4fdf-aaf5-aabf7515b976",
   "metadata": {},
   "outputs": [
    {
     "data": {
      "image/png": "[encoded data removed]",
      "text/plain": [
       "<Figure size 432x288 with 1 Axes>"
      ]
     },
     "metadata": {
      "needs_background": "light"
     },
     "output_type": "display_data"
    }
   ],
   "source": [
    "sense.dispersion_plot(['girl']) #리스트로 작성"
   ]
  },
  {
   "cell_type": "code",
   "execution_count": 53,
   "id": "851961c5-6613-4d58-9073-f90d9110f2b7",
   "metadata": {},
   "outputs": [
    {
     "name": "stdout",
     "output_type": "stream",
     "text": [
      "am_glad a_pretty a_lucky is_pretty be_glad\n"
     ]
    }
   ],
   "source": [
    "sense.common_contexts(['monstrous','very'])"
   ]
  },
  {
   "cell_type": "code",
   "execution_count": 54,
   "id": "7464b974-9d25-4233-999b-64779a82838d",
   "metadata": {},
   "outputs": [
    {
     "data": {
      "image/png": "[encoded data removed]",
      "text/plain": [
       "<Figure size 432x288 with 1 Axes>"
      ]
     },
     "metadata": {
      "needs_background": "light"
     },
     "output_type": "display_data"
    }
   ],
   "source": [
    "sense.dispersion_plot(['monstrous','very'])"
   ]
  },
  {
   "cell_type": "code",
   "execution_count": null,
   "id": "e3de9c5c-c0e9-4e25-aa8d-cc249fa31d85",
   "metadata": {},
   "outputs": [],
   "source": []
  },
  {
   "cell_type": "markdown",
   "id": "2ce65e97-9779-4139-bb8b-3ac37fda440a",
   "metadata": {},
   "source": [
    "### 리스트 & 리스트컴프리헨션\n",
    "- 프로그래밍에서 '배열'에 해당, 파이썬에서는 `리스트`라고 부른다.\n",
    "- 하나의 변수에 여러 값을 할당하는 자료형\n",
    "    - example = [1,2,3,4]\n",
    "- 대괄호를 사용한다\n",
    "- 내부 요소들의 자료형은 꼭 같지 않아도 된다\n",
    "    - example = [1, 'very', True]\n",
    "- 순서가 있는 자료형 => 슬라이싱, 인덱싱 가능함\n",
    "- 빈 리스트 선언: set, []"
   ]
  },
  {
   "cell_type": "code",
   "execution_count": 60,
   "id": "5030851b-d0d4-458c-83eb-b7d1b13cc78f",
   "metadata": {},
   "outputs": [],
   "source": [
    "empty = []"
   ]
  },
  {
   "cell_type": "code",
   "execution_count": 63,
   "id": "a8ea115e-9f28-46e5-9df8-daf3e5f3e5bd",
   "metadata": {},
   "outputs": [
    {
     "data": {
      "text/plain": [
       "'blue'"
      ]
     },
     "execution_count": 63,
     "metadata": {},
     "output_type": "execute_result"
    }
   ],
   "source": [
    "colors = ['blue','yellow','white']\n",
    "colors[0]\n",
    "#colors[02]는 안됨"
   ]
  },
  {
   "cell_type": "code",
   "execution_count": 65,
   "id": "0ded9904-277e-4f72-804b-12b580af8ed5",
   "metadata": {},
   "outputs": [
    {
     "name": "stdout",
     "output_type": "stream",
     "text": [
      "white\n",
      "['white', 'yellow', 'blue']\n"
     ]
    }
   ],
   "source": [
    "print(colors[-1])\n",
    "print(colors[::-1]) #뒤집어서 출력"
   ]
  },
  {
   "cell_type": "code",
   "execution_count": 69,
   "id": "a18b5efa-3734-443f-aba8-12571eac1d6b",
   "metadata": {},
   "outputs": [
    {
     "data": {
      "text/plain": [
       "[1, 'one', 'ein']"
      ]
     },
     "execution_count": 69,
     "metadata": {},
     "output_type": "execute_result"
    }
   ],
   "source": [
    "first = 'ein'\n",
    "ex = [1, 'one', first]\n",
    "ex"
   ]
  },
  {
   "cell_type": "code",
   "execution_count": 72,
   "id": "35bebfa9-f93e-4627-9ece-8216319320c9",
   "metadata": {},
   "outputs": [
    {
     "name": "stdout",
     "output_type": "stream",
     "text": [
      "1\n",
      "ein\n",
      "['ein', 'one', 1]\n",
      "<class 'list'>\n"
     ]
    }
   ],
   "source": [
    "print(ex[0])\n",
    "print(ex[-1])\n",
    "print(ex[::-1])\n",
    "\n",
    "print(type(ex))"
   ]
  },
  {
   "cell_type": "markdown",
   "id": "cea16615-b0d0-40ca-b9d5-682f7f7cf955",
   "metadata": {},
   "source": [
    "#### List comprehension\n",
    "- 포함형 / 지능형 / 축약형 리스트\n",
    "- 하나의 리스트에서 그걸 포함하여 다른 리스트를 만든다.\n",
    "- list + for loop\n",
    "- [A for A' in C]\n",
    "    - C에 있는 B에서 A를 가져와라 => 리스트에 담아서 반환\n",
    "    - A: 내가 원하는 출력형태\n",
    "    - A': C의 형태를 구현\n",
    "    - C: 반복가능한 자료형 (주로 리스트)\n",
    "- 조건 추가: [A for A' in C if]"
   ]
  },
  {
   "cell_type": "code",
   "execution_count": 73,
   "id": "1239061c-9698-42bb-b852-ca205dafafaf",
   "metadata": {},
   "outputs": [
    {
     "data": {
      "text/plain": [
       "['blue', 'yellow', 'white']"
      ]
     },
     "execution_count": 73,
     "metadata": {},
     "output_type": "execute_result"
    }
   ],
   "source": [
    "colors = ['blue','yellow','white']\n",
    "\n",
    "[color for color in colors]"
   ]
  },
  {
   "cell_type": "code",
   "execution_count": 77,
   "id": "5f9d4679-3297-4228-aa0e-4ceb8bd82cbe",
   "metadata": {},
   "outputs": [
    {
     "data": {
      "text/plain": [
       "['b', 'y', 'w']"
      ]
     },
     "execution_count": 77,
     "metadata": {},
     "output_type": "execute_result"
    }
   ],
   "source": [
    "[color[0] for color in colors] #각각 돌면서 0번째 인덱스만 반환"
   ]
  },
  {
   "cell_type": "code",
   "execution_count": 78,
   "id": "ff76ff2e-3760-4114-a438-9b1da7914036",
   "metadata": {},
   "outputs": [
    {
     "data": {
      "text/plain": [
       "0"
      ]
     },
     "execution_count": 78,
     "metadata": {},
     "output_type": "execute_result"
    }
   ],
   "source": [
    "colors.index('blue')"
   ]
  },
  {
   "cell_type": "code",
   "execution_count": 79,
   "id": "c12a13b3-156b-4449-9005-6e8ed4a9f750",
   "metadata": {
    "collapsed": true,
    "jupyter": {
     "outputs_hidden": true
    },
    "tags": []
   },
   "outputs": [
    {
     "data": {
      "text/plain": [
       "[['[',\n",
       "  'Moby',\n",
       "  'Dick',\n",
       "  'by',\n",
       "  'Herman',\n",
       "  'Melville',\n",
       "  '1851',\n",
       "  ']',\n",
       "  'ETYMOLOGY',\n",
       "  '.',\n",
       "  '(',\n",
       "  'Supplied',\n",
       "  'by',\n",
       "  'a',\n",
       "  'Late',\n",
       "  'Consumptive',\n",
       "  'Usher',\n",
       "  'to',\n",
       "  'a',\n",
       "  'Grammar',\n",
       "  'School',\n",
       "  ')',\n",
       "  'The',\n",
       "  'pale',\n",
       "  'Usher',\n",
       "  '--',\n",
       "  'threadbare',\n",
       "  'in',\n",
       "  'coat',\n",
       "  ',',\n",
       "  'heart',\n",
       "  ',',\n",
       "  'body',\n",
       "  ',',\n",
       "  'and',\n",
       "  'brain',\n",
       "  ';',\n",
       "  'I',\n",
       "  'see',\n",
       "  'him',\n",
       "  'now',\n",
       "  '.',\n",
       "  'He',\n",
       "  'was',\n",
       "  'ever',\n",
       "  'dusting',\n",
       "  'his',\n",
       "  'old',\n",
       "  'lexicons',\n",
       "  'and',\n",
       "  'grammars',\n",
       "  ',',\n",
       "  'with',\n",
       "  'a',\n",
       "  'queer',\n",
       "  'handkerchief',\n",
       "  ',',\n",
       "  'mockingly',\n",
       "  'embellished',\n",
       "  'with',\n",
       "  'all',\n",
       "  'the',\n",
       "  'gay',\n",
       "  'flags',\n",
       "  'of',\n",
       "  'all',\n",
       "  'the',\n",
       "  'known',\n",
       "  'nations',\n",
       "  'of',\n",
       "  'the',\n",
       "  'world',\n",
       "  '.',\n",
       "  'He',\n",
       "  'loved',\n",
       "  'to',\n",
       "  'dust',\n",
       "  'his',\n",
       "  'old',\n",
       "  'grammars',\n",
       "  ';',\n",
       "  'it',\n",
       "  'somehow',\n",
       "  'mildly',\n",
       "  'reminded',\n",
       "  'him',\n",
       "  'of',\n",
       "  'his',\n",
       "  'mortality',\n",
       "  '.',\n",
       "  '\"',\n",
       "  'While',\n",
       "  'you',\n",
       "  'take',\n",
       "  'in',\n",
       "  'hand',\n",
       "  'to',\n",
       "  'school',\n",
       "  'others',\n",
       "  ',',\n",
       "  'and',\n",
       "  'to',\n",
       "  'teach',\n",
       "  'them',\n",
       "  'by',\n",
       "  'what',\n",
       "  'name',\n",
       "  'a',\n",
       "  'whale',\n",
       "  '-',\n",
       "  'fish',\n",
       "  'is',\n",
       "  'to',\n",
       "  'be',\n",
       "  'called',\n",
       "  'in',\n",
       "  'our',\n",
       "  'tongue',\n",
       "  'leaving',\n",
       "  'out',\n",
       "  ',',\n",
       "  'through',\n",
       "  'ignorance',\n",
       "  ',',\n",
       "  'the',\n",
       "  'letter',\n",
       "  'H',\n",
       "  ',',\n",
       "  'which',\n",
       "  'almost',\n",
       "  'alone',\n",
       "  'maketh',\n",
       "  'the',\n",
       "  'signification',\n",
       "  'of',\n",
       "  'the',\n",
       "  'word',\n",
       "  ',',\n",
       "  'you',\n",
       "  'deliver',\n",
       "  'that',\n",
       "  'which',\n",
       "  'is',\n",
       "  'not',\n",
       "  'true',\n",
       "  '.\"',\n",
       "  '--',\n",
       "  'HACKLUYT',\n",
       "  '\"',\n",
       "  'WHALE',\n",
       "  '.',\n",
       "  '...',\n",
       "  'Sw',\n",
       "  '.',\n",
       "  'and',\n",
       "  'Dan',\n",
       "  '.',\n",
       "  'HVAL',\n",
       "  '.',\n",
       "  'This',\n",
       "  'animal',\n",
       "  'is',\n",
       "  'named',\n",
       "  'from',\n",
       "  'roundness',\n",
       "  'or',\n",
       "  'rolling',\n",
       "  ';',\n",
       "  'for',\n",
       "  'in',\n",
       "  'Dan',\n",
       "  '.',\n",
       "  'HVALT',\n",
       "  'is',\n",
       "  'arched',\n",
       "  'or',\n",
       "  'vaulted',\n",
       "  '.\"',\n",
       "  '--',\n",
       "  'WEBSTER',\n",
       "  \"'\",\n",
       "  'S',\n",
       "  'DICTIONARY',\n",
       "  '\"',\n",
       "  'WHALE',\n",
       "  '.',\n",
       "  '...',\n",
       "  'It',\n",
       "  'is',\n",
       "  'more',\n",
       "  'immediately',\n",
       "  'from',\n",
       "  'the',\n",
       "  'Dut',\n",
       "  '.',\n",
       "  'and',\n",
       "  'Ger',\n",
       "  '.',\n",
       "  'WALLEN',\n",
       "  ';',\n",
       "  'A',\n",
       "  '.',\n",
       "  'S',\n",
       "  '.',\n",
       "  'WALW',\n",
       "  '-',\n",
       "  'IAN',\n",
       "  ',',\n",
       "  'to',\n",
       "  'roll',\n",
       "  ',',\n",
       "  'to',\n",
       "  'wallow',\n",
       "  '.\"',\n",
       "  '--',\n",
       "  'RICHARDSON',\n",
       "  \"'\",\n",
       "  'S',\n",
       "  'DICTIONARY',\n",
       "  'KETOS',\n",
       "  ',',\n",
       "  'GREEK',\n",
       "  '.',\n",
       "  'CETUS',\n",
       "  ',',\n",
       "  'LATIN',\n",
       "  '.',\n",
       "  'WHOEL',\n",
       "  ',',\n",
       "  'ANGLO',\n",
       "  '-',\n",
       "  'SAXON',\n",
       "  '.',\n",
       "  'HVALT',\n",
       "  ',',\n",
       "  'DANISH',\n",
       "  '.',\n",
       "  'WAL',\n",
       "  ',',\n",
       "  'DUTCH',\n",
       "  '.',\n",
       "  'HWAL',\n",
       "  ',',\n",
       "  'SWEDISH',\n",
       "  '.',\n",
       "  'WHALE',\n",
       "  ',',\n",
       "  'ICELANDIC',\n",
       "  '.',\n",
       "  'WHALE',\n",
       "  ',',\n",
       "  'ENGLISH',\n",
       "  '.',\n",
       "  'BALEINE',\n",
       "  ',',\n",
       "  'FRENCH',\n",
       "  '.',\n",
       "  'BALLENA',\n",
       "  ',',\n",
       "  'SPANISH',\n",
       "  '.',\n",
       "  'PEKEE',\n",
       "  '-',\n",
       "  'NUEE',\n",
       "  '-',\n",
       "  'NUEE',\n",
       "  ',',\n",
       "  'FEGEE',\n",
       "  '.',\n",
       "  'PEKEE',\n",
       "  '-',\n",
       "  'NUEE',\n",
       "  '-',\n",
       "  'NUEE',\n",
       "  ',',\n",
       "  'ERROMANGOAN',\n",
       "  '.',\n",
       "  'EXTRACTS',\n",
       "  '(',\n",
       "  'Supplied',\n",
       "  'by',\n",
       "  'a',\n",
       "  'Sub',\n",
       "  '-',\n",
       "  'Sub',\n",
       "  '-',\n",
       "  'Librarian',\n",
       "  ').',\n",
       "  'It',\n",
       "  'will',\n",
       "  'be',\n",
       "  'seen',\n",
       "  'that',\n",
       "  'this',\n",
       "  'mere',\n",
       "  'painstaking',\n",
       "  'burrower',\n",
       "  'and',\n",
       "  'grub',\n",
       "  '-',\n",
       "  'worm',\n",
       "  'of',\n",
       "  'a',\n",
       "  'poor',\n",
       "  'devil',\n",
       "  'of',\n",
       "  'a',\n",
       "  'Sub',\n",
       "  '-',\n",
       "  'Sub',\n",
       "  'appears',\n",
       "  'to',\n",
       "  'have',\n",
       "  'gone',\n",
       "  'through',\n",
       "  'the',\n",
       "  'long',\n",
       "  'Vaticans',\n",
       "  'and',\n",
       "  'street',\n",
       "  '-',\n",
       "  'stalls',\n",
       "  'of',\n",
       "  'the',\n",
       "  'earth',\n",
       "  ',',\n",
       "  'picking',\n",
       "  'up',\n",
       "  'whatever',\n",
       "  'random',\n",
       "  'allusions',\n",
       "  'to',\n",
       "  'whales',\n",
       "  'he',\n",
       "  'could',\n",
       "  'anyways',\n",
       "  'find',\n",
       "  'in',\n",
       "  'any',\n",
       "  'book',\n",
       "  'whatsoever',\n",
       "  ',',\n",
       "  'sacred',\n",
       "  'or',\n",
       "  'profane',\n",
       "  '.',\n",
       "  'Therefore',\n",
       "  'you',\n",
       "  'must',\n",
       "  'not',\n",
       "  ',',\n",
       "  'in',\n",
       "  'every',\n",
       "  'case',\n",
       "  'at',\n",
       "  'least',\n",
       "  ',',\n",
       "  'take',\n",
       "  'the',\n",
       "  'higgledy',\n",
       "  '-',\n",
       "  'piggledy',\n",
       "  'whale',\n",
       "  'statements',\n",
       "  ',',\n",
       "  'however',\n",
       "  'authentic',\n",
       "  ',',\n",
       "  'in',\n",
       "  'these',\n",
       "  'extracts',\n",
       "  ',',\n",
       "  'for',\n",
       "  'veritable',\n",
       "  'gospel',\n",
       "  'cetology',\n",
       "  '.',\n",
       "  'Far',\n",
       "  'from',\n",
       "  'it',\n",
       "  '.',\n",
       "  'As',\n",
       "  'touching',\n",
       "  'the',\n",
       "  'ancient',\n",
       "  'authors',\n",
       "  'generally',\n",
       "  ',',\n",
       "  'as',\n",
       "  'well',\n",
       "  'as',\n",
       "  'the',\n",
       "  'poets',\n",
       "  'here',\n",
       "  'appearing',\n",
       "  ',',\n",
       "  'these',\n",
       "  'extracts',\n",
       "  'are',\n",
       "  'solely',\n",
       "  'valuable',\n",
       "  'or',\n",
       "  'entertaining',\n",
       "  ',',\n",
       "  'as',\n",
       "  'affording',\n",
       "  'a',\n",
       "  'glancing',\n",
       "  'bird',\n",
       "  \"'\",\n",
       "  's',\n",
       "  'eye',\n",
       "  'view',\n",
       "  'of',\n",
       "  'what',\n",
       "  'has',\n",
       "  'been',\n",
       "  'promiscuously',\n",
       "  'said',\n",
       "  ',',\n",
       "  'thought',\n",
       "  ',',\n",
       "  'fancied',\n",
       "  ',',\n",
       "  'and',\n",
       "  'sung',\n",
       "  'of',\n",
       "  'Leviathan',\n",
       "  ',',\n",
       "  'by',\n",
       "  'many',\n",
       "  'nations',\n",
       "  'and',\n",
       "  'generations',\n",
       "  ',',\n",
       "  'including',\n",
       "  'our',\n",
       "  'own',\n",
       "  '.',\n",
       "  'So',\n",
       "  'fare',\n",
       "  'thee',\n",
       "  'well',\n",
       "  ',',\n",
       "  'poor',\n",
       "  'devil',\n",
       "  'of',\n",
       "  'a',\n",
       "  'Sub',\n",
       "  '-',\n",
       "  'Sub',\n",
       "  ',',\n",
       "  'whose',\n",
       "  'commentator',\n",
       "  'I',\n",
       "  'am',\n",
       "  '.',\n",
       "  'Thou',\n",
       "  'belongest',\n",
       "  'to',\n",
       "  'that',\n",
       "  'hopeless',\n",
       "  ',',\n",
       "  'sallow',\n",
       "  'tribe',\n",
       "  'which',\n",
       "  'no',\n",
       "  'wine',\n",
       "  'of',\n",
       "  'this',\n",
       "  'world',\n",
       "  'will',\n",
       "  'ever',\n",
       "  'warm',\n",
       "  ';',\n",
       "  'and',\n",
       "  'for',\n",
       "  'whom',\n",
       "  'even',\n",
       "  'Pale',\n",
       "  'Sherry',\n",
       "  'would',\n",
       "  'be',\n",
       "  'too',\n",
       "  'rosy',\n",
       "  '-',\n",
       "  'strong',\n",
       "  ';',\n",
       "  'but',\n",
       "  'with',\n",
       "  'whom',\n",
       "  'one',\n",
       "  'sometimes',\n",
       "  'loves',\n",
       "  'to',\n",
       "  'sit',\n",
       "  ',',\n",
       "  'and',\n",
       "  'feel',\n",
       "  'poor',\n",
       "  '-',\n",
       "  'devilish',\n",
       "  ',',\n",
       "  'too',\n",
       "  ';',\n",
       "  'and',\n",
       "  'grow',\n",
       "  'convivial',\n",
       "  'upon',\n",
       "  'tears',\n",
       "  ';',\n",
       "  'and',\n",
       "  'say',\n",
       "  'to',\n",
       "  'them',\n",
       "  'bluntly',\n",
       "  ',',\n",
       "  'with',\n",
       "  'full',\n",
       "  'eyes',\n",
       "  'and',\n",
       "  'empty',\n",
       "  'glasses',\n",
       "  ',',\n",
       "  'and',\n",
       "  'in',\n",
       "  'not',\n",
       "  'altogether',\n",
       "  'unpleasant',\n",
       "  'sadness',\n",
       "  '--',\n",
       "  'Give',\n",
       "  'it',\n",
       "  'up',\n",
       "  ',',\n",
       "  'Sub',\n",
       "  '-',\n",
       "  'Subs',\n",
       "  '!',\n",
       "  'For',\n",
       "  'by',\n",
       "  'how',\n",
       "  'much',\n",
       "  'the',\n",
       "  'more',\n",
       "  'pains',\n",
       "  'ye',\n",
       "  'take',\n",
       "  'to',\n",
       "  'please',\n",
       "  'the',\n",
       "  'world',\n",
       "  ',',\n",
       "  'by',\n",
       "  'so',\n",
       "  'much',\n",
       "  'the',\n",
       "  'more',\n",
       "  'shall',\n",
       "  'ye',\n",
       "  'for',\n",
       "  'ever',\n",
       "  'go',\n",
       "  'thankless',\n",
       "  '!',\n",
       "  'Would',\n",
       "  'that',\n",
       "  'I',\n",
       "  'could',\n",
       "  'clear',\n",
       "  'out',\n",
       "  'Hampton',\n",
       "  'Court',\n",
       "  'and',\n",
       "  'the',\n",
       "  'Tuileries',\n",
       "  'for',\n",
       "  'ye',\n",
       "  '!',\n",
       "  'But',\n",
       "  'gulp',\n",
       "  'down',\n",
       "  'your',\n",
       "  'tears',\n",
       "  'and',\n",
       "  'hie',\n",
       "  'aloft',\n",
       "  'to',\n",
       "  'the',\n",
       "  'royal',\n",
       "  '-',\n",
       "  'mast',\n",
       "  'with',\n",
       "  'your',\n",
       "  'hearts',\n",
       "  ';',\n",
       "  'for',\n",
       "  'your',\n",
       "  'friends',\n",
       "  'who',\n",
       "  'have',\n",
       "  'gone',\n",
       "  'before',\n",
       "  'are',\n",
       "  'clearing',\n",
       "  'out',\n",
       "  'the',\n",
       "  'seven',\n",
       "  '-',\n",
       "  'storied',\n",
       "  'heavens',\n",
       "  ',',\n",
       "  'and',\n",
       "  'making',\n",
       "  'refugees',\n",
       "  'of',\n",
       "  'long',\n",
       "  '-',\n",
       "  'pampered',\n",
       "  'Gabriel',\n",
       "  ',',\n",
       "  'Michael',\n",
       "  ',',\n",
       "  'and',\n",
       "  'Raphael',\n",
       "  ',',\n",
       "  'against',\n",
       "  'your',\n",
       "  'coming',\n",
       "  '.',\n",
       "  'Here',\n",
       "  'ye',\n",
       "  'strike',\n",
       "  'but',\n",
       "  'splintered',\n",
       "  'hearts',\n",
       "  'together',\n",
       "  '--',\n",
       "  'there',\n",
       "  ',',\n",
       "  'ye',\n",
       "  'shall',\n",
       "  'strike',\n",
       "  'unsplinterable',\n",
       "  'glasses',\n",
       "  '!',\n",
       "  'EXTRACTS',\n",
       "  '.',\n",
       "  '\"',\n",
       "  'And',\n",
       "  'God',\n",
       "  'created',\n",
       "  'great',\n",
       "  'whales',\n",
       "  '.\"',\n",
       "  '--',\n",
       "  'GENESIS',\n",
       "  '.',\n",
       "  '\"',\n",
       "  'Leviathan',\n",
       "  'maketh',\n",
       "  'a',\n",
       "  'path',\n",
       "  'to',\n",
       "  'shine',\n",
       "  'after',\n",
       "  'him',\n",
       "  ';',\n",
       "  'One',\n",
       "  'would',\n",
       "  'think',\n",
       "  'the',\n",
       "  'deep',\n",
       "  'to',\n",
       "  'be',\n",
       "  'hoary',\n",
       "  '.\"',\n",
       "  '--',\n",
       "  'JOB',\n",
       "  '.',\n",
       "  '\"',\n",
       "  'Now',\n",
       "  'the',\n",
       "  'Lord',\n",
       "  'had',\n",
       "  'prepared',\n",
       "  'a',\n",
       "  'great',\n",
       "  'fish',\n",
       "  'to',\n",
       "  'swallow',\n",
       "  'up',\n",
       "  'Jonah',\n",
       "  '.\"',\n",
       "  '--',\n",
       "  'JONAH',\n",
       "  '.',\n",
       "  '\"',\n",
       "  'There',\n",
       "  'go',\n",
       "  'the',\n",
       "  'ships',\n",
       "  ';',\n",
       "  'there',\n",
       "  'is',\n",
       "  'that',\n",
       "  'Leviathan',\n",
       "  'whom',\n",
       "  'thou',\n",
       "  'hast',\n",
       "  'made',\n",
       "  'to',\n",
       "  'play',\n",
       "  'therein',\n",
       "  '.\"',\n",
       "  '--',\n",
       "  'PSALMS',\n",
       "  '.',\n",
       "  '\"',\n",
       "  'In',\n",
       "  'that',\n",
       "  'day',\n",
       "  ',',\n",
       "  'the',\n",
       "  'Lord',\n",
       "  'with',\n",
       "  'his',\n",
       "  'sore',\n",
       "  ',',\n",
       "  'and',\n",
       "  'great',\n",
       "  ',',\n",
       "  'and',\n",
       "  'strong',\n",
       "  'sword',\n",
       "  ',',\n",
       "  'shall',\n",
       "  'punish',\n",
       "  'Leviathan',\n",
       "  'the',\n",
       "  'piercing',\n",
       "  'serpent',\n",
       "  ',',\n",
       "  'even',\n",
       "  'Leviathan',\n",
       "  'that',\n",
       "  'crooked',\n",
       "  'serpent',\n",
       "  ';',\n",
       "  'and',\n",
       "  'he',\n",
       "  'shall',\n",
       "  'slay',\n",
       "  'the',\n",
       "  'dragon',\n",
       "  'that',\n",
       "  'is',\n",
       "  'in',\n",
       "  'the',\n",
       "  'sea',\n",
       "  '.\"',\n",
       "  '--',\n",
       "  'ISAIAH',\n",
       "  '\"',\n",
       "  'And',\n",
       "  'what',\n",
       "  'thing',\n",
       "  'soever',\n",
       "  'besides',\n",
       "  'cometh',\n",
       "  'within',\n",
       "  'the',\n",
       "  'chaos',\n",
       "  'of',\n",
       "  'this',\n",
       "  'monster',\n",
       "  \"'\",\n",
       "  's',\n",
       "  'mouth',\n",
       "  ',',\n",
       "  'be',\n",
       "  'it',\n",
       "  'beast',\n",
       "  ',',\n",
       "  'boat',\n",
       "  ',',\n",
       "  'or',\n",
       "  'stone',\n",
       "  ',',\n",
       "  'down',\n",
       "  'it',\n",
       "  'goes',\n",
       "  'all',\n",
       "  'incontinently',\n",
       "  'that',\n",
       "  'foul',\n",
       "  'great',\n",
       "  'swallow',\n",
       "  'of',\n",
       "  'his',\n",
       "  ',',\n",
       "  'and',\n",
       "  'perisheth',\n",
       "  'in',\n",
       "  'the',\n",
       "  'bottomless',\n",
       "  'gulf',\n",
       "  'of',\n",
       "  'his',\n",
       "  'paunch',\n",
       "  '.\"',\n",
       "  '--',\n",
       "  'HOLLAND',\n",
       "  \"'\",\n",
       "  'S',\n",
       "  'PLUTARCH',\n",
       "  \"'\",\n",
       "  'S',\n",
       "  'MORALS',\n",
       "  '.',\n",
       "  '\"',\n",
       "  'The',\n",
       "  'Indian',\n",
       "  'Sea',\n",
       "  'breedeth',\n",
       "  'the',\n",
       "  'most',\n",
       "  'and',\n",
       "  'the',\n",
       "  'biggest',\n",
       "  'fishes',\n",
       "  'that',\n",
       "  'are',\n",
       "  ':',\n",
       "  'among',\n",
       "  'which',\n",
       "  'the',\n",
       "  'Whales',\n",
       "  'and',\n",
       "  'Whirlpooles',\n",
       "  'called',\n",
       "  'Balaene',\n",
       "  ',',\n",
       "  'take',\n",
       "  'up',\n",
       "  'as',\n",
       "  'much',\n",
       "  'in',\n",
       "  'length',\n",
       "  'as',\n",
       "  'four',\n",
       "  'acres',\n",
       "  'or',\n",
       "  'arpens',\n",
       "  'of',\n",
       "  'land',\n",
       "  '.\"',\n",
       "  '--',\n",
       "  'HOLLAND',\n",
       "  \"'\",\n",
       "  'S',\n",
       "  'PLINY',\n",
       "  '.',\n",
       "  '\"',\n",
       "  'Scarcely',\n",
       "  'had',\n",
       "  'we',\n",
       "  'proceeded',\n",
       "  'two',\n",
       "  'days',\n",
       "  'on',\n",
       "  'the',\n",
       "  'sea',\n",
       "  ',',\n",
       "  'when',\n",
       "  'about',\n",
       "  'sunrise',\n",
       "  'a',\n",
       "  'great',\n",
       "  'many',\n",
       "  'Whales',\n",
       "  'and',\n",
       "  'other',\n",
       "  'monsters',\n",
       "  'of',\n",
       "  'the',\n",
       "  'sea',\n",
       "  ',',\n",
       "  'appeared',\n",
       "  '.',\n",
       "  'Among',\n",
       "  'the',\n",
       "  'former',\n",
       "  ',',\n",
       "  'one',\n",
       "  'was',\n",
       "  'of',\n",
       "  'a',\n",
       "  'most',\n",
       "  'monstrous',\n",
       "  'size',\n",
       "  '.',\n",
       "  '...',\n",
       "  'This',\n",
       "  'came',\n",
       "  'towards',\n",
       "  'us',\n",
       "  ',',\n",
       "  'open',\n",
       "  '-',\n",
       "  'mouthed',\n",
       "  ',',\n",
       "  'raising',\n",
       "  'the',\n",
       "  'waves',\n",
       "  'on',\n",
       "  'all',\n",
       "  'sides',\n",
       "  ',',\n",
       "  'and',\n",
       "  'beating',\n",
       "  'the',\n",
       "  'sea',\n",
       "  'before',\n",
       "  'him',\n",
       "  'into',\n",
       "  'a',\n",
       "  'foam',\n",
       "  '.\"',\n",
       "  '--',\n",
       "  'TOOKE',\n",
       "  \"'\",\n",
       "  'S',\n",
       "  'LUCIAN',\n",
       "  '.',\n",
       "  '\"',\n",
       "  'THE',\n",
       "  'TRUE',\n",
       "  'HISTORY',\n",
       "  '.\"',\n",
       "  '\"',\n",
       "  'He',\n",
       "  'visited',\n",
       "  'this',\n",
       "  'country',\n",
       "  'also',\n",
       "  'with',\n",
       "  'a',\n",
       "  'view',\n",
       "  'of',\n",
       "  'catching',\n",
       "  'horse',\n",
       "  '-',\n",
       "  'whales',\n",
       "  ',',\n",
       "  'which',\n",
       "  'had',\n",
       "  'bones',\n",
       "  'of',\n",
       "  'very',\n",
       "  'great',\n",
       "  'value',\n",
       "  'for',\n",
       "  'their',\n",
       "  'teeth',\n",
       "  ',',\n",
       "  'of',\n",
       "  'which',\n",
       "  'he',\n",
       "  'brought',\n",
       "  'some',\n",
       "  'to',\n",
       "  'the',\n",
       "  'king',\n",
       "  '.',\n",
       "  '...',\n",
       "  'The',\n",
       "  'best',\n",
       "  'whales',\n",
       "  'were',\n",
       "  'catched',\n",
       "  'in',\n",
       "  'his',\n",
       "  'own',\n",
       "  'country',\n",
       "  ',',\n",
       "  'of',\n",
       "  'which',\n",
       "  'some',\n",
       "  'were',\n",
       "  'forty',\n",
       "  '-',\n",
       "  'eight',\n",
       "  ',',\n",
       "  'some',\n",
       "  'fifty',\n",
       "  'yards',\n",
       "  'long',\n",
       "  '.',\n",
       "  'He',\n",
       "  ...]]"
      ]
     },
     "execution_count": 79,
     "metadata": {},
     "output_type": "execute_result"
    }
   ],
   "source": [
    "#text1의 토큰 중 처음 10개 단어에서 마지막 알파벳만 반환하기\n",
    "moby = book.text1\n",
    "[moby.tokens]"
   ]
  },
  {
   "cell_type": "markdown",
   "id": "65d2a09e-7fcf-426c-a5f1-177814a70635",
   "metadata": {
    "jupyter": {
     "outputs_hidden": true
    },
    "tags": []
   },
   "source": [
    "##### [moby.tokens][:10] 까지만 생각하고 이후로 손을 대지 못함"
   ]
  },
  {
   "cell_type": "code",
   "execution_count": null,
   "id": "0b6cc026-4256-42ca-a4e9-05d615eb4d6c",
   "metadata": {},
   "outputs": [],
   "source": []
  },
  {
   "cell_type": "code",
   "execution_count": 83,
   "id": "0c6a8d9d-99d3-4785-96af-832b3134eddb",
   "metadata": {},
   "outputs": [
    {
     "data": {
      "text/plain": [
       "['[', 'y', 'k', 'y', 'n', 'e', '1', ']', 'Y', '.']"
      ]
     },
     "execution_count": 83,
     "metadata": {},
     "output_type": "execute_result"
    }
   ],
   "source": [
    "[last[-1] for last in moby[:10]] #단어 10개 중에서 마지막 알파벳"
   ]
  },
  {
   "cell_type": "code",
   "execution_count": 84,
   "id": "c626e9dc-b61b-48c3-8c29-c8f479e2c392",
   "metadata": {},
   "outputs": [
    {
     "data": {
      "text/plain": [
       "['[', 'y', 'k', 'y', 'n', 'e', '1', ']', 'Y', '.']"
      ]
     },
     "execution_count": 84,
     "metadata": {},
     "output_type": "execute_result"
    }
   ],
   "source": [
    "[last[-1] for last in moby][:10] #마지막 알파벳 중에서 10개"
   ]
  },
  {
   "cell_type": "code",
   "execution_count": null,
   "id": "7c9f06d3-409b-48af-a184-a5088b9e5409",
   "metadata": {},
   "outputs": [],
   "source": []
  },
  {
   "cell_type": "markdown",
   "id": "26650ee7-e845-449e-b865-b8c08639950f",
   "metadata": {},
   "source": [
    "###### 10개의 단어 중에 3보다 작은 단어 추출"
   ]
  },
  {
   "cell_type": "code",
   "execution_count": 86,
   "id": "3d6f34db-81a0-4637-8eea-9fe7bae75bd4",
   "metadata": {},
   "outputs": [
    {
     "data": {
      "text/plain": [
       "['[', 'by', ']', '.']"
      ]
     },
     "execution_count": 86,
     "metadata": {},
     "output_type": "execute_result"
    }
   ],
   "source": [
    "[word for word in moby[:10] if len(word) < 3]"
   ]
  },
  {
   "cell_type": "markdown",
   "id": "bbd31f3c-1297-4fe0-bf12-e48ab7d6be52",
   "metadata": {},
   "source": [
    "###### 3보다 작고 .만 있는 단어 추출"
   ]
  },
  {
   "cell_type": "code",
   "execution_count": 87,
   "id": "b3a5f78b-6549-4d43-bd75-941e6de6ee86",
   "metadata": {},
   "outputs": [
    {
     "data": {
      "text/plain": [
       "['.']"
      ]
     },
     "execution_count": 87,
     "metadata": {},
     "output_type": "execute_result"
    }
   ],
   "source": [
    "[word for word in moby[:10] if (len(word) < 3) and (word == '.')]"
   ]
  },
  {
   "cell_type": "markdown",
   "id": "6c43de26-3184-4cf9-92f7-4df5a3038f9b",
   "metadata": {},
   "source": [
    "##### mini Quiz. text5에서 길이가 15 이상인 단어 추출하기"
   ]
  },
  {
   "cell_type": "code",
   "execution_count": 10,
   "id": "751d5c85-6de9-4913-a0c8-eead0c592f04",
   "metadata": {
    "tags": []
   },
   "outputs": [
    {
     "ename": "NameError",
     "evalue": "name 'book' is not defined",
     "output_type": "error",
     "traceback": [
      "\u001b[0;31m---------------------------------------------------------------------------\u001b[0m",
      "\u001b[0;31mNameError\u001b[0m                                 Traceback (most recent call last)",
      "\u001b[0;32m/var/folders/yf/zwysv3jn4tb_p89k89zby_040000gn/T/ipykernel_20263/1503902229.py\u001b[0m in \u001b[0;36m<module>\u001b[0;34m\u001b[0m\n\u001b[0;32m----> 1\u001b[0;31m \u001b[0mchat\u001b[0m \u001b[0;34m=\u001b[0m \u001b[0mbook\u001b[0m\u001b[0;34m.\u001b[0m\u001b[0mtext5\u001b[0m\u001b[0;34m\u001b[0m\u001b[0;34m\u001b[0m\u001b[0m\n\u001b[0m\u001b[1;32m      2\u001b[0m \u001b[0;34m[\u001b[0m\u001b[0mword\u001b[0m \u001b[0;32mfor\u001b[0m \u001b[0mword\u001b[0m \u001b[0;32min\u001b[0m \u001b[0mchat\u001b[0m \u001b[0;32mif\u001b[0m \u001b[0mlen\u001b[0m\u001b[0;34m(\u001b[0m\u001b[0mword\u001b[0m\u001b[0;34m)\u001b[0m \u001b[0;34m>=\u001b[0m \u001b[0;36m15\u001b[0m\u001b[0;34m]\u001b[0m\u001b[0;34m\u001b[0m\u001b[0;34m\u001b[0m\u001b[0m\n",
      "\u001b[0;31mNameError\u001b[0m: name 'book' is not defined"
     ]
    }
   ],
   "source": [
    "chat = book.text5\n",
    "[word for word in chat if len(word) >= 15]"
   ]
  },
  {
   "cell_type": "markdown",
   "id": "38cd2b03-b4c7-408c-a424-96f1f4719d1d",
   "metadata": {},
   "source": [
    "##### mini Quiz 2. text3에서 대문자인 단어를 소문자로 변환하기: isupper(), lower()"
   ]
  },
  {
   "cell_type": "code",
   "execution_count": 93,
   "id": "8dabd238-7816-4815-9d8f-b977ad57656a",
   "metadata": {},
   "outputs": [
    {
     "name": "stdout",
     "output_type": "stream",
     "text": [
      "False\n",
      "False\n",
      "True\n"
     ]
    }
   ],
   "source": [
    "print('hey'.isupper())\n",
    "print('Her'.isupper())\n",
    "print('H'.isupper())"
   ]
  },
  {
   "cell_type": "markdown",
   "id": "caee4408-1546-4672-a271-0554c32d3df4",
   "metadata": {
    "tags": []
   },
   "source": [
    "##### genesis = book.text3\n",
    "[word.lower() for word in genesis if genesis[:].isupper() == True]\n",
    "라고 생각했는데 아니네,,"
   ]
  },
  {
   "cell_type": "code",
   "execution_count": 100,
   "id": "2e180296-f2c2-4285-b060-8032827691bb",
   "metadata": {
    "collapsed": true,
    "jupyter": {
     "outputs_hidden": true
    },
    "tags": []
   },
   "outputs": [
    {
     "data": {
      "text/plain": [
       "['i',\n",
       " 'i',\n",
       " 'lord',\n",
       " 'lord',\n",
       " 'lord',\n",
       " 'lord',\n",
       " 'lord',\n",
       " 'lord',\n",
       " 'lord',\n",
       " 'lord',\n",
       " 'i',\n",
       " 'lord',\n",
       " 'lord',\n",
       " 'lord',\n",
       " 'lord',\n",
       " 'lord',\n",
       " 'lord',\n",
       " 'lord',\n",
       " 'i',\n",
       " 'i',\n",
       " 'i',\n",
       " 'i',\n",
       " 'i',\n",
       " 'i',\n",
       " 'lord',\n",
       " 'i',\n",
       " 'lord',\n",
       " 'i',\n",
       " 'i',\n",
       " 'i',\n",
       " 'lord',\n",
       " 'lord',\n",
       " 'lord',\n",
       " 'i',\n",
       " 'lord',\n",
       " 'lord',\n",
       " 'lord',\n",
       " 'lord',\n",
       " 'lord',\n",
       " 'i',\n",
       " 'i',\n",
       " 'lord',\n",
       " 'i',\n",
       " 'i',\n",
       " 'i',\n",
       " 'lord',\n",
       " 'lord',\n",
       " 'lord',\n",
       " 'i',\n",
       " 'lord',\n",
       " 'lord',\n",
       " 'lord',\n",
       " 'lord',\n",
       " 'lord',\n",
       " 'i',\n",
       " 'i',\n",
       " 'i',\n",
       " 'lord',\n",
       " 'i',\n",
       " 'a',\n",
       " 'i',\n",
       " 'i',\n",
       " 'i',\n",
       " 'lord',\n",
       " 'i',\n",
       " 'i',\n",
       " 'i',\n",
       " 'i',\n",
       " 'lord',\n",
       " 'lord',\n",
       " 'lord',\n",
       " 'lord',\n",
       " 'lord',\n",
       " 'i',\n",
       " 'i',\n",
       " 'i',\n",
       " 'i',\n",
       " 'i',\n",
       " 'i',\n",
       " 'i',\n",
       " 'i',\n",
       " 'i',\n",
       " 'i',\n",
       " 'i',\n",
       " 'i',\n",
       " 'i',\n",
       " 'i',\n",
       " 'i',\n",
       " 'i',\n",
       " 'i',\n",
       " 'lord',\n",
       " 'lord',\n",
       " 'lord',\n",
       " 'lord',\n",
       " 'lord',\n",
       " 'lord',\n",
       " 'lord',\n",
       " 'lord',\n",
       " 'lord',\n",
       " 'i',\n",
       " 'i',\n",
       " 'i',\n",
       " 'i',\n",
       " 'lord',\n",
       " 'lord',\n",
       " 'i',\n",
       " 'lord',\n",
       " 'lord',\n",
       " 'lord',\n",
       " 'i',\n",
       " 'i',\n",
       " 'lord',\n",
       " 'i',\n",
       " 'lord',\n",
       " 'i',\n",
       " 'i',\n",
       " 'i',\n",
       " 'i',\n",
       " 'lord',\n",
       " 'lord',\n",
       " 'lord',\n",
       " 'lord',\n",
       " 'i',\n",
       " 'i',\n",
       " 'i',\n",
       " 'lord',\n",
       " 'i',\n",
       " 'lord',\n",
       " 'i',\n",
       " 'i',\n",
       " 'i',\n",
       " 'lord',\n",
       " 'i',\n",
       " 'lord',\n",
       " 'i',\n",
       " 'lord',\n",
       " 'lord',\n",
       " 'i',\n",
       " 'lord',\n",
       " 'lord',\n",
       " 'i',\n",
       " 'i',\n",
       " 'i',\n",
       " 'lord',\n",
       " 'i',\n",
       " 'lord',\n",
       " 'i',\n",
       " 'i',\n",
       " 'i',\n",
       " 'i',\n",
       " 'lord',\n",
       " 'lord',\n",
       " 'i',\n",
       " 'lord',\n",
       " 'lord',\n",
       " 'i',\n",
       " 'lord',\n",
       " 'lord',\n",
       " 'lord',\n",
       " 'i',\n",
       " 'lord',\n",
       " 'i',\n",
       " 'i',\n",
       " 'i',\n",
       " 'i',\n",
       " 'i',\n",
       " 'i',\n",
       " 'i',\n",
       " 'i',\n",
       " 'i',\n",
       " 'i',\n",
       " 'o',\n",
       " 'i',\n",
       " 'i',\n",
       " 'i',\n",
       " 'i',\n",
       " 'i',\n",
       " 'lord',\n",
       " 'lord',\n",
       " 'i',\n",
       " 'i',\n",
       " 'i',\n",
       " 'i',\n",
       " 'i',\n",
       " 'i',\n",
       " 'i',\n",
       " 'lord',\n",
       " 'i',\n",
       " 'lord',\n",
       " 'i',\n",
       " 'i',\n",
       " 'lord',\n",
       " 'i',\n",
       " 'i',\n",
       " 'i',\n",
       " 'lord',\n",
       " 'lord',\n",
       " 'lord',\n",
       " 'i',\n",
       " 'i',\n",
       " 'lord',\n",
       " 'lord',\n",
       " 'i',\n",
       " 'i',\n",
       " 'i',\n",
       " 'lord',\n",
       " 'i',\n",
       " 'i',\n",
       " 'i',\n",
       " 'lord',\n",
       " 'i',\n",
       " 'i',\n",
       " 'i',\n",
       " 'i',\n",
       " 'lo',\n",
       " 'i',\n",
       " 'lord',\n",
       " 'i',\n",
       " 'i',\n",
       " 'lord',\n",
       " 'i',\n",
       " 'i',\n",
       " 'i',\n",
       " 'i',\n",
       " 'lord',\n",
       " 'lord',\n",
       " 'lord',\n",
       " 'lord',\n",
       " 'lord',\n",
       " 'i',\n",
       " 'i',\n",
       " 'i',\n",
       " 'i',\n",
       " 'i',\n",
       " 'lord',\n",
       " 'lord',\n",
       " 'lo',\n",
       " 'i',\n",
       " 'lord',\n",
       " 'i',\n",
       " 'i',\n",
       " 'i',\n",
       " 'i',\n",
       " 'i',\n",
       " 'i',\n",
       " 'i',\n",
       " 'i',\n",
       " 'lord',\n",
       " 'lord',\n",
       " 'lord',\n",
       " 'i',\n",
       " 'i',\n",
       " 'i',\n",
       " 'i',\n",
       " 'i',\n",
       " 'i',\n",
       " 'i',\n",
       " 'i',\n",
       " 'lord',\n",
       " 'i',\n",
       " 'i',\n",
       " 'i',\n",
       " 'i',\n",
       " 'lord',\n",
       " 'i',\n",
       " 'i',\n",
       " 'lord',\n",
       " 'lord',\n",
       " 'i',\n",
       " 'lord',\n",
       " 'i',\n",
       " 'i',\n",
       " 'i',\n",
       " 'i',\n",
       " 'i',\n",
       " 'i',\n",
       " 'i',\n",
       " 'i',\n",
       " 'i',\n",
       " 'i',\n",
       " 'i',\n",
       " 'lord',\n",
       " 'i',\n",
       " 'i',\n",
       " 'lord',\n",
       " 'i',\n",
       " 'i',\n",
       " 'lord',\n",
       " 'i',\n",
       " 'o',\n",
       " 'lord',\n",
       " 'i',\n",
       " 'i',\n",
       " 'i',\n",
       " 'i',\n",
       " 'i',\n",
       " 'i',\n",
       " 'i',\n",
       " 'i',\n",
       " 'i',\n",
       " 'lord',\n",
       " 'i',\n",
       " 'i',\n",
       " 'lord',\n",
       " 'lord',\n",
       " 'i',\n",
       " 'lord',\n",
       " 'lord',\n",
       " 'i',\n",
       " 'i',\n",
       " 'i',\n",
       " 'i',\n",
       " 'lord',\n",
       " 'i',\n",
       " 'i',\n",
       " 'lord',\n",
       " 'i',\n",
       " 'i',\n",
       " 'o',\n",
       " 'lord',\n",
       " 'i',\n",
       " 'i',\n",
       " 'i',\n",
       " 'i',\n",
       " 'i',\n",
       " 'lord',\n",
       " 'i',\n",
       " 'i',\n",
       " 'i',\n",
       " 'i',\n",
       " 'i',\n",
       " 'i',\n",
       " 'i',\n",
       " 'i',\n",
       " 'lord',\n",
       " 'lord',\n",
       " 'i',\n",
       " 'lo',\n",
       " 'lord',\n",
       " 'lord',\n",
       " 'lord',\n",
       " 'i',\n",
       " 'i',\n",
       " 'lord',\n",
       " 'lord',\n",
       " 'i',\n",
       " 'lord',\n",
       " 'lord',\n",
       " 'i',\n",
       " 'i',\n",
       " 'i',\n",
       " 'lord',\n",
       " 'i',\n",
       " 'i',\n",
       " 'i',\n",
       " 'i',\n",
       " 'i',\n",
       " 'i',\n",
       " 'i',\n",
       " 'i',\n",
       " 'lord',\n",
       " 'lord',\n",
       " 'lord',\n",
       " 'i',\n",
       " 'i',\n",
       " 'lord',\n",
       " 'lord',\n",
       " 'lord',\n",
       " 'i',\n",
       " 'i',\n",
       " 'i',\n",
       " 'i',\n",
       " 'i',\n",
       " 'i',\n",
       " 'i',\n",
       " 'i',\n",
       " 'i',\n",
       " 'lord',\n",
       " 'i',\n",
       " 'i',\n",
       " 'i',\n",
       " 'i',\n",
       " 'i',\n",
       " 'i',\n",
       " 'i',\n",
       " 'i',\n",
       " 'i',\n",
       " 'lord',\n",
       " 'i',\n",
       " 'i',\n",
       " 'i',\n",
       " 'i',\n",
       " 'lord',\n",
       " 'i',\n",
       " 'i',\n",
       " 'o',\n",
       " 'i',\n",
       " 'i',\n",
       " 'i',\n",
       " 'i',\n",
       " 'o',\n",
       " 'i',\n",
       " 'i',\n",
       " 'i',\n",
       " 'i',\n",
       " 'lord',\n",
       " 'i',\n",
       " 'lord',\n",
       " 'i',\n",
       " 'i',\n",
       " 'i',\n",
       " 'i',\n",
       " 'i',\n",
       " 'lord',\n",
       " 'i',\n",
       " 'i',\n",
       " 'i',\n",
       " 'lord',\n",
       " 'g',\n",
       " 'i',\n",
       " 'i',\n",
       " 'i',\n",
       " 'i',\n",
       " 'i',\n",
       " 'i',\n",
       " 'i',\n",
       " 'lord',\n",
       " 'lord',\n",
       " 'lord',\n",
       " 'i',\n",
       " 'i',\n",
       " 'i',\n",
       " 'lo',\n",
       " 'i',\n",
       " 'i',\n",
       " 'i',\n",
       " 'i',\n",
       " 'i',\n",
       " 'a',\n",
       " 'i',\n",
       " 'i',\n",
       " 'i',\n",
       " 'i',\n",
       " 'i',\n",
       " 'lord',\n",
       " 'i',\n",
       " 'i',\n",
       " 'i',\n",
       " 'i',\n",
       " 'i',\n",
       " 'i',\n",
       " 'lord',\n",
       " 'i',\n",
       " 'i',\n",
       " 'i',\n",
       " 'lord',\n",
       " 'i',\n",
       " 'i',\n",
       " 'i',\n",
       " 'i',\n",
       " 'i',\n",
       " 'lord',\n",
       " 'i',\n",
       " 'i',\n",
       " 'i',\n",
       " 'i',\n",
       " 'i',\n",
       " 'i',\n",
       " 'i',\n",
       " 'i',\n",
       " 'i',\n",
       " 'i',\n",
       " 'i',\n",
       " 'i',\n",
       " 'i',\n",
       " 'i',\n",
       " 'i',\n",
       " 'i',\n",
       " 'i',\n",
       " 'i',\n",
       " 'i',\n",
       " 'i',\n",
       " 'i',\n",
       " 'lord',\n",
       " 'i',\n",
       " 'i',\n",
       " 'i',\n",
       " 'i',\n",
       " 'i',\n",
       " 'i',\n",
       " 'o',\n",
       " 'lord',\n",
       " 'i',\n",
       " 'i',\n",
       " 'i',\n",
       " 'i',\n",
       " 'i',\n",
       " 'i',\n",
       " 'i',\n",
       " 'i',\n",
       " 'i',\n",
       " 'i',\n",
       " 'i',\n",
       " 'i',\n",
       " 'i',\n",
       " 'i',\n",
       " 'i',\n",
       " 'i',\n",
       " 'i',\n",
       " 'i',\n",
       " 'i',\n",
       " 'i',\n",
       " 'i',\n",
       " 'i',\n",
       " 'i',\n",
       " 'i',\n",
       " 'i',\n",
       " 'i',\n",
       " 'i',\n",
       " 'i',\n",
       " 'i',\n",
       " 'i',\n",
       " 'i',\n",
       " 'i',\n",
       " 'i',\n",
       " 'i',\n",
       " 'i',\n",
       " 'i',\n",
       " 'i',\n",
       " 'i',\n",
       " 'i',\n",
       " 'i',\n",
       " 'i',\n",
       " 'i',\n",
       " 'i',\n",
       " 'i',\n",
       " 'i',\n",
       " 'i',\n",
       " 'i',\n",
       " 'i',\n",
       " 'i',\n",
       " 'lord',\n",
       " 'lord',\n",
       " 'lord',\n",
       " 'i',\n",
       " 'i',\n",
       " 'i',\n",
       " 'i',\n",
       " 'i',\n",
       " 'i',\n",
       " 'i',\n",
       " 'i',\n",
       " 'i',\n",
       " 'lord',\n",
       " 'lord',\n",
       " 'lord',\n",
       " 'lord',\n",
       " 'lord',\n",
       " 'i',\n",
       " 'i',\n",
       " 'i',\n",
       " 'i',\n",
       " 'i',\n",
       " 'lord',\n",
       " 'lord',\n",
       " 'lord',\n",
       " 'i',\n",
       " 'i',\n",
       " 'i',\n",
       " 'i',\n",
       " 'i',\n",
       " 'i',\n",
       " 'i',\n",
       " 'i',\n",
       " 'i',\n",
       " 'i',\n",
       " 'i',\n",
       " 'i',\n",
       " 'i',\n",
       " 'i',\n",
       " 'i',\n",
       " 'i',\n",
       " 'i',\n",
       " 'i',\n",
       " 'i',\n",
       " 'i',\n",
       " 'i',\n",
       " 'i',\n",
       " 'i',\n",
       " 'i',\n",
       " 'g',\n",
       " 'i',\n",
       " 'i',\n",
       " 'i',\n",
       " 'i',\n",
       " 'i',\n",
       " 'i',\n",
       " 'i',\n",
       " 'i',\n",
       " 'i',\n",
       " 'i',\n",
       " 'o',\n",
       " 'i',\n",
       " 'i',\n",
       " 'i',\n",
       " 'i',\n",
       " 'i',\n",
       " 'i',\n",
       " 'i',\n",
       " 'i',\n",
       " 'i',\n",
       " 'i',\n",
       " 'i',\n",
       " 'i',\n",
       " 'i',\n",
       " 'i',\n",
       " 'i',\n",
       " 'i',\n",
       " 'i',\n",
       " 'i',\n",
       " 'i',\n",
       " 'i',\n",
       " 'i',\n",
       " 'i',\n",
       " 'i',\n",
       " 'i',\n",
       " 'i',\n",
       " 'i',\n",
       " 'i',\n",
       " 'i',\n",
       " 'i',\n",
       " 'i',\n",
       " 'i',\n",
       " 'i',\n",
       " 'i',\n",
       " 'i',\n",
       " 'i',\n",
       " 'i',\n",
       " 'i',\n",
       " 'i',\n",
       " 'i',\n",
       " 'i',\n",
       " 'i',\n",
       " 'i',\n",
       " 'i',\n",
       " 'i',\n",
       " 'i',\n",
       " 'i',\n",
       " 'i',\n",
       " 'i',\n",
       " 'o',\n",
       " 'i',\n",
       " 'i',\n",
       " 'o',\n",
       " 'lord',\n",
       " 'i',\n",
       " 'i',\n",
       " 'i',\n",
       " 'i',\n",
       " 'i',\n",
       " 'i',\n",
       " 'i',\n",
       " 'i',\n",
       " 'i',\n",
       " 'i',\n",
       " 'i',\n",
       " 'i']"
      ]
     },
     "execution_count": 100,
     "metadata": {},
     "output_type": "execute_result"
    }
   ],
   "source": [
    "[word.lower() for word in genesis if word.isupper()]"
   ]
  },
  {
   "cell_type": "markdown",
   "id": "984b884c-6fa2-44ae-bb12-8e480b9a2ccb",
   "metadata": {},
   "source": [
    "#### cased, uncased\n",
    "- 변환: `upper(), lower(), title(), swapcase()`  \n",
    "- 형태 체크 : `isupper(), islower(), istitle()`\n",
    "    - `endswith(<string>), strartswith(), starswith()`\n",
    "    - `isalpha()`: 문자냐"
   ]
  },
  {
   "cell_type": "code",
   "execution_count": 101,
   "id": "c5098c7c-9256-42fe-b067-e31454bfc9e6",
   "metadata": {},
   "outputs": [],
   "source": [
    "# text1에서 'ableness'로 끝나는 단어를 중복없이, 정렬해서\n",
    "# 어떤 요소를 포함하면서 list -> list"
   ]
  },
  {
   "cell_type": "code",
   "execution_count": 103,
   "id": "43f85bb8-71f5-4608-9fed-5f98e7839674",
   "metadata": {},
   "outputs": [
    {
     "data": {
      "text/plain": [
       "['comfortableness',\n",
       " 'honourableness',\n",
       " 'immutableness',\n",
       " 'indispensableness',\n",
       " 'indomitableness',\n",
       " 'intolerableness',\n",
       " 'palpableness',\n",
       " 'reasonableness',\n",
       " 'uncomfortableness']"
      ]
     },
     "execution_count": 103,
     "metadata": {},
     "output_type": "execute_result"
    }
   ],
   "source": [
    "sorted(set([word for word in moby if word.endswith('ableness')]))"
   ]
  },
  {
   "cell_type": "code",
   "execution_count": 104,
   "id": "c05653ca-d779-4a30-96f8-31cc97c40b72",
   "metadata": {},
   "outputs": [
    {
     "data": {
      "text/plain": [
       "['uncomfortableness',\n",
       " 'comfortableness',\n",
       " 'intolerableness',\n",
       " 'immutableness',\n",
       " 'indomitableness',\n",
       " 'reasonableness',\n",
       " 'indispensableness',\n",
       " 'indomitableness',\n",
       " 'honourableness',\n",
       " 'palpableness']"
      ]
     },
     "execution_count": 104,
     "metadata": {},
     "output_type": "execute_result"
    }
   ],
   "source": [
    "[w for w in moby if w.endswith('ableness')]"
   ]
  },
  {
   "cell_type": "code",
   "execution_count": 106,
   "id": "1ec3bd29-816d-42f5-98db-5be2b01bbb04",
   "metadata": {},
   "outputs": [
    {
     "data": {
      "text/plain": [
       "{'comfortableness',\n",
       " 'honourableness',\n",
       " 'immutableness',\n",
       " 'indispensableness',\n",
       " 'indomitableness',\n",
       " 'intolerableness',\n",
       " 'palpableness',\n",
       " 'reasonableness',\n",
       " 'uncomfortableness'}"
      ]
     },
     "execution_count": 106,
     "metadata": {},
     "output_type": "execute_result"
    }
   ],
   "source": [
    "set([w for w in moby if w.endswith('ableness')])"
   ]
  },
  {
   "cell_type": "code",
   "execution_count": null,
   "id": "c6956ae8-89b7-4b73-8803-a1ece3d97e3a",
   "metadata": {},
   "outputs": [],
   "source": []
  },
  {
   "cell_type": "code",
   "execution_count": null,
   "id": "2cd198d8-95f4-44b9-8ca8-c92752645396",
   "metadata": {},
   "outputs": [],
   "source": [
    "# text4에서 'gnt'가 포함된 단어들을 소문자로 리스트 변환\n",
    "adress = book.text4\n",
    "set([word.lower() for word in adress if 'gnt' in adress])"
   ]
  },
  {
   "cell_type": "code",
   "execution_count": null,
   "id": "bef834c0-6de3-402a-a645-976c5e9d9082",
   "metadata": {},
   "outputs": [],
   "source": [
    "[w.lower for w in set(adress) if 'gnt' in word] #중복을 없애고 연산, 대소문자구분이 되어있는 상태에서 중복을 없애서 America 와 america 같이 남음\n",
    "set([w.lower for w in adress if 'gnt' in word]) "
   ]
  },
  {
   "cell_type": "markdown",
   "id": "66f376a7-015e-40b1-82a0-c6e97f89df85",
   "metadata": {},
   "source": [
    "###### 노트북이 느려서 실행되지 않음\n",
    "###### a = [word.lower() for word in set(text4) if 'gnt' in word]\n",
    "###### b = set([word.lower() for word in text4 if 'gnt' in word])\n",
    "\n",
    "len(a), len(b)\n",
    "- (3, 2)"
   ]
  },
  {
   "cell_type": "markdown",
   "id": "a6e04320-fa5c-4f8a-b032-7a69ae26cfc5",
   "metadata": {},
   "source": [
    "### NLTK - Frequency Distribution\n",
    "- 단어가 몇 번 출현했는지 (빈도 수)\n",
    "- 텍스트의 성질을 알기 위해\n",
    "    - 단어 개수\n",
    "    - 단어 빈도수"
   ]
  },
  {
   "cell_type": "code",
   "execution_count": 113,
   "id": "20d7e08e-4263-4067-9d98-a07fbd2a3332",
   "metadata": {},
   "outputs": [],
   "source": [
    "from nltk.probability import FreqDist\n",
    "fdist = FreqDist(book.text1)"
   ]
  },
  {
   "cell_type": "code",
   "execution_count": 114,
   "id": "e306b775-f790-4aa9-b91f-533803ffe8f0",
   "metadata": {},
   "outputs": [],
   "source": [
    "moby = book.text1\n",
    "from nltk import FreqDist\n",
    "fdist = FreqDist(moby)"
   ]
  },
  {
   "cell_type": "code",
   "execution_count": 115,
   "id": "8fb48371-2dfc-4d3c-9a96-6230b0af50fc",
   "metadata": {},
   "outputs": [
    {
     "data": {
      "text/plain": [
       "[(',', 18713),\n",
       " ('the', 13721),\n",
       " ('.', 6862),\n",
       " ('of', 6536),\n",
       " ('and', 6024),\n",
       " ('a', 4569),\n",
       " ('to', 4542),\n",
       " (';', 4072),\n",
       " ('in', 3916),\n",
       " ('that', 2982)]"
      ]
     },
     "execution_count": 115,
     "metadata": {},
     "output_type": "execute_result"
    }
   ],
   "source": [
    "fdist.most_common(10)"
   ]
  },
  {
   "cell_type": "code",
   "execution_count": 116,
   "id": "82f80802-b145-4767-8772-ea2cab74ac81",
   "metadata": {},
   "outputs": [
    {
     "data": {
      "text/plain": [
       "(2982, 2982)"
      ]
     },
     "execution_count": 116,
     "metadata": {},
     "output_type": "execute_result"
    }
   ],
   "source": [
    "fdist['that'], moby.count('that')"
   ]
  },
  {
   "cell_type": "code",
   "execution_count": 117,
   "id": "f472df17-7049-43c3-a2cc-0e8cf432221b",
   "metadata": {},
   "outputs": [
    {
     "data": {
      "text/plain": [
       "0.011433216138394826"
      ]
     },
     "execution_count": 117,
     "metadata": {},
     "output_type": "execute_result"
    }
   ],
   "source": [
    "fdist.freq('that')"
   ]
  },
  {
   "cell_type": "code",
   "execution_count": 118,
   "id": "4541b4a3-9d56-474c-939f-72180ecec4b6",
   "metadata": {},
   "outputs": [
    {
     "data": {
      "image/png": "[encoded data removed]",
      "text/plain": [
       "<Figure size 432x288 with 1 Axes>"
      ]
     },
     "metadata": {
      "needs_background": "light"
     },
     "output_type": "display_data"
    },
    {
     "data": {
      "text/plain": [
       "<AxesSubplot:xlabel='Samples', ylabel='Cumulative Counts'>"
      ]
     },
     "execution_count": 118,
     "metadata": {},
     "output_type": "execute_result"
    }
   ],
   "source": [
    "fdist.plot(50, cumulative = True)"
   ]
  },
  {
   "cell_type": "code",
   "execution_count": 119,
   "id": "1f7d6ce7-4490-4a85-9532-3afff7f5eefc",
   "metadata": {},
   "outputs": [
    {
     "data": {
      "text/plain": [
       "9002"
      ]
     },
     "execution_count": 119,
     "metadata": {},
     "output_type": "execute_result"
    }
   ],
   "source": [
    "# 가장 빈번하지 않은 => 1번 나타나는 단어들\n",
    "    # 알파벳만 리스트에 담아보기, 중복없이\n",
    "len(fdist.hapaxes())"
   ]
  },
  {
   "cell_type": "code",
   "execution_count": 123,
   "id": "7de48361-8846-4c6d-9c06-51ba071216e7",
   "metadata": {
    "tags": []
   },
   "outputs": [],
   "source": [
    "# [word for word in fdist.hapaxes() if word.isalpha()]"
   ]
  },
  {
   "cell_type": "code",
   "execution_count": 124,
   "id": "af42fc20-7134-4c02-baf7-40d16e8c2807",
   "metadata": {},
   "outputs": [],
   "source": [
    "# !pip install matplotlib"
   ]
  },
  {
   "cell_type": "code",
   "execution_count": 125,
   "id": "d70648e4-9160-4b17-ba49-bc32fc4ace32",
   "metadata": {},
   "outputs": [],
   "source": [
    "#대소문자 구분없이 freq dist 제작? the 15,000 The 600 => the 21,000\n",
    "    # 리스트 -> 리스트\n",
    "    #set -> 중복 없앰 -> 빈도 수 == 1"
   ]
  },
  {
   "cell_type": "code",
   "execution_count": 126,
   "id": "c3c9bfc8-fdc0-4203-99fe-205cb570b444",
   "metadata": {},
   "outputs": [],
   "source": [
    "# 이러면 안됨 fdist_set = set(FreqDist(moby))"
   ]
  },
  {
   "cell_type": "code",
   "execution_count": 127,
   "id": "20c59e0e-7a86-46fb-8b86-edd13ab9f4b0",
   "metadata": {},
   "outputs": [
    {
     "data": {
      "text/plain": [
       "14431"
      ]
     },
     "execution_count": 127,
     "metadata": {},
     "output_type": "execute_result"
    }
   ],
   "source": [
    "fdist2 = FreqDist([w.lower() for w in moby])\n",
    "fdist2['the'] #소문자로 변환해준 fdist2"
   ]
  },
  {
   "cell_type": "code",
   "execution_count": 129,
   "id": "6fd963d6-856b-43be-a959-bdd152736c3c",
   "metadata": {},
   "outputs": [
    {
     "data": {
      "text/plain": [
       "612"
      ]
     },
     "execution_count": 129,
     "metadata": {},
     "output_type": "execute_result"
    }
   ],
   "source": [
    "fdist['The']"
   ]
  },
  {
   "cell_type": "code",
   "execution_count": 131,
   "id": "46fe22be-641f-4fde-9a5f-44c2d5066563",
   "metadata": {},
   "outputs": [
    {
     "data": {
      "text/plain": [
       "0"
      ]
     },
     "execution_count": 131,
     "metadata": {},
     "output_type": "execute_result"
    }
   ],
   "source": [
    "fdist2['The'] #소문자로 변환해준 이후라 The는 인식되지 않음"
   ]
  },
  {
   "cell_type": "code",
   "execution_count": 132,
   "id": "527f42f7-d097-4278-858b-380c1641b8bf",
   "metadata": {},
   "outputs": [],
   "source": [
    "fdist = FreqDist(moby) # 대소문자, 첫글자 대문자 the, The, THE\n",
    "fdist2 = FreqDist([word.lower() for word in moby]) #한꺼번에 세어질 수 있도록"
   ]
  },
  {
   "cell_type": "code",
   "execution_count": 133,
   "id": "4c84437d-b06f-4b46-b823-e7787e522a2a",
   "metadata": {},
   "outputs": [],
   "source": [
    "# text2에서 길이가 3자 이하이고, 빈도수가 5이상"
   ]
  },
  {
   "cell_type": "code",
   "execution_count": 137,
   "id": "d2bdf9d7-7b1b-45d6-85c0-4b6998057030",
   "metadata": {},
   "outputs": [],
   "source": [
    "sense = book.text2\n",
    "fdist_sense = FreqDist([word for word in sense if len(word) <= 3 and sense.count(word) <= 5])"
   ]
  },
  {
   "cell_type": "code",
   "execution_count": 139,
   "id": "d59b1270-eb2f-4664-91ac-9a16ea05eacf",
   "metadata": {
    "collapsed": true,
    "jupyter": {
     "outputs_hidden": true
    },
    "tags": []
   },
   "outputs": [
    {
     "data": {
      "text/plain": [
       "['and',\n",
       " 'by',\n",
       " 'The',\n",
       " 'of',\n",
       " 'had',\n",
       " 'in',\n",
       " '.',\n",
       " 'was',\n",
       " ',',\n",
       " 'at',\n",
       " 'the',\n",
       " 'for',\n",
       " 'so',\n",
       " 'a',\n",
       " 'as',\n",
       " 'to',\n",
       " 'man',\n",
       " 'who',\n",
       " 'age',\n",
       " 'his',\n",
       " 'But',\n",
       " 'her',\n",
       " 'ten',\n",
       " 'own',\n",
       " ';',\n",
       " 'he',\n",
       " 'Mr',\n",
       " 'it',\n",
       " 'In',\n",
       " 'old',\n",
       " \"'\",\n",
       " 's',\n",
       " 'His',\n",
       " 'all',\n",
       " 'Mrs',\n",
       " 'not',\n",
       " 'but',\n",
       " 'him',\n",
       " 'By',\n",
       " 'one',\n",
       " 'son',\n",
       " ':',\n",
       " 'on',\n",
       " 'To',\n",
       " 'be',\n",
       " '-',\n",
       " 'He',\n",
       " 'nor',\n",
       " ';--',\n",
       " 'or',\n",
       " 'way',\n",
       " 'no',\n",
       " 'any',\n",
       " 'its',\n",
       " 'up',\n",
       " 'far',\n",
       " 'are',\n",
       " 'two',\n",
       " 'an',\n",
       " 'lay',\n",
       " 'sum',\n",
       " 'law',\n",
       " 'do',\n",
       " 'how',\n",
       " 'ill',\n",
       " 'is',\n",
       " 'Had',\n",
       " ':--',\n",
       " '.--',\n",
       " '\"',\n",
       " 'Yes',\n",
       " '!',\n",
       " 'It',\n",
       " 'day',\n",
       " 'did',\n",
       " 'No',\n",
       " 'HER',\n",
       " 'she',\n",
       " 'act',\n",
       " 'So',\n",
       " 'led',\n",
       " 'She',\n",
       " 'yet',\n",
       " 'saw',\n",
       " 'now',\n",
       " 'too',\n",
       " 'As',\n",
       " 'A',\n",
       " 'boy',\n",
       " 'How',\n",
       " '?',\n",
       " 'And',\n",
       " 'why',\n",
       " 'my',\n",
       " 'me',\n",
       " ',\"',\n",
       " 'I',\n",
       " '.\"',\n",
       " 'say',\n",
       " 'you',\n",
       " 'if',\n",
       " 'new',\n",
       " 'can',\n",
       " 'If',\n",
       " 'our',\n",
       " '--\"',\n",
       " 'Why',\n",
       " 'may',\n",
       " '!\"',\n",
       " 'Oh',\n",
       " '--',\n",
       " '!--',\n",
       " 'One',\n",
       " 'we',\n",
       " 'My',\n",
       " 'An',\n",
       " 'You',\n",
       " 'out',\n",
       " 'Her',\n",
       " 'has',\n",
       " 'am',\n",
       " 'NOT',\n",
       " 'end',\n",
       " 'Do',\n",
       " 'pay',\n",
       " '?--',\n",
       " 'YOU',\n",
       " 'ONE',\n",
       " 'set',\n",
       " 'owe',\n",
       " 'For',\n",
       " 'see',\n",
       " 'get',\n",
       " 'men',\n",
       " 'All',\n",
       " 'few',\n",
       " 'We',\n",
       " 'SHE',\n",
       " '?\"',\n",
       " 'us',\n",
       " 'Yet',\n",
       " 'Nay',\n",
       " 'MY',\n",
       " 'At',\n",
       " 'Of',\n",
       " '(',\n",
       " ',)',\n",
       " 'HIM',\n",
       " 'Sir',\n",
       " 'On',\n",
       " 'Are',\n",
       " 'off',\n",
       " 'Now',\n",
       " 'six',\n",
       " 'bed',\n",
       " 'joy',\n",
       " 'add',\n",
       " 'ask',\n",
       " 'eat',\n",
       " 'sex',\n",
       " 'met',\n",
       " 'gay',\n",
       " 'put',\n",
       " 'HE',\n",
       " 'wit',\n",
       " 'use',\n",
       " 'Did',\n",
       " ')',\n",
       " 'eye',\n",
       " 'try',\n",
       " 'air',\n",
       " 'Is',\n",
       " 'ran',\n",
       " 'got',\n",
       " 'Was',\n",
       " 'Has',\n",
       " 'yes',\n",
       " 'let',\n",
       " 'o',\n",
       " 'Aye',\n",
       " 'aye',\n",
       " \",'\",\n",
       " 'ago',\n",
       " 'Ay',\n",
       " 'Who',\n",
       " 'HIS',\n",
       " 'buy',\n",
       " ',--',\n",
       " '\"--',\n",
       " 'low',\n",
       " 'cut',\n",
       " 'tea',\n",
       " 'red',\n",
       " 'ma',\n",
       " 'sit',\n",
       " 'go',\n",
       " 'bad',\n",
       " ';\"',\n",
       " 'won',\n",
       " 't',\n",
       " 'Can',\n",
       " 'sat',\n",
       " 'WAS',\n",
       " 'bye',\n",
       " 'NOW',\n",
       " 'Not',\n",
       " 'Our',\n",
       " 'ME',\n",
       " 'due',\n",
       " 'odd',\n",
       " '&',\n",
       " 'c',\n",
       " 'fix',\n",
       " 'run',\n",
       " 'bow',\n",
       " 'don',\n",
       " 'Ah',\n",
       " 'Don',\n",
       " 'fit',\n",
       " 'DID',\n",
       " 'beg',\n",
       " 'ear',\n",
       " 'DO',\n",
       " 'tis',\n",
       " 'God',\n",
       " 'Ma',\n",
       " 'CAN',\n",
       " 'Two',\n",
       " \".'\",\n",
       " 'sir']"
      ]
     },
     "execution_count": 139,
     "metadata": {},
     "output_type": "execute_result"
    }
   ],
   "source": [
    "#fdist_sense = FreqDist (한줄로 출력하기)\n",
    "[word for (word,count) in FreqDist(sense).items()\\\n",
    "    if (len(word)<= 3) and (count >= 5)]"
   ]
  },
  {
   "cell_type": "markdown",
   "id": "dab9ca9b-eaaa-40fc-8d58-b724d2853261",
   "metadata": {},
   "source": [
    "### 리스트 <-> 스트링\n",
    "- split(): string.split(separator)\n",
    "    - default = ' '\n",
    "- join() : seperator.join(string)"
   ]
  },
  {
   "cell_type": "code",
   "execution_count": 5,
   "id": "d82f5e70-8175-4840-9858-4f46c31aabd0",
   "metadata": {
    "tags": []
   },
   "outputs": [
    {
     "ename": "AttributeError",
     "evalue": "'list' object has no attribute 'strip'",
     "output_type": "error",
     "traceback": [
      "\u001b[0;31m---------------------------------------------------------------------------\u001b[0m",
      "\u001b[0;31mAttributeError\u001b[0m                            Traceback (most recent call last)",
      "\u001b[0;32m/var/folders/yf/zwysv3jn4tb_p89k89zby_040000gn/T/ipykernel_20263/1306316386.py\u001b[0m in \u001b[0;36m<module>\u001b[0;34m\u001b[0m\n\u001b[1;32m      1\u001b[0m \u001b[0msent\u001b[0m \u001b[0;34m=\u001b[0m \u001b[0;34m'I have a car'\u001b[0m\u001b[0;34m\u001b[0m\u001b[0;34m\u001b[0m\u001b[0m\n\u001b[1;32m      2\u001b[0m \u001b[0;31m#['I','have','a','car'] #tokens\u001b[0m\u001b[0;34m\u001b[0m\u001b[0;34m\u001b[0m\u001b[0m\n\u001b[0;32m----> 3\u001b[0;31m \u001b[0msent\u001b[0m\u001b[0;34m.\u001b[0m\u001b[0msplit\u001b[0m\u001b[0;34m(\u001b[0m\u001b[0;34m','\u001b[0m\u001b[0;34m)\u001b[0m\u001b[0;34m.\u001b[0m\u001b[0mstrip\u001b[0m\u001b[0;34m(\u001b[0m\u001b[0;34m)\u001b[0m \u001b[0;31m#strip 은 string에서 쓰는 함수라 안됨\u001b[0m\u001b[0;34m\u001b[0m\u001b[0;34m\u001b[0m\u001b[0m\n\u001b[0m",
      "\u001b[0;31mAttributeError\u001b[0m: 'list' object has no attribute 'strip'"
     ]
    }
   ],
   "source": [
    "sent = 'I have a car'\n",
    "#['I','have','a','car'] #tokens\n",
    "sent.split(',').strip() #strip 은 string에서 쓰는 함수라 안됨"
   ]
  },
  {
   "cell_type": "code",
   "execution_count": 142,
   "id": "160bb07b-c263-435e-978d-13565f71a7e8",
   "metadata": {},
   "outputs": [
    {
     "data": {
      "text/plain": [
       "['I have a car']"
      ]
     },
     "execution_count": 142,
     "metadata": {},
     "output_type": "execute_result"
    }
   ],
   "source": [
    "# solution\n",
    "[word.strip() for word in sent.split(',')]"
   ]
  },
  {
   "cell_type": "code",
   "execution_count": 6,
   "id": "0e20485f-615f-421f-b0f4-f50921e2c19d",
   "metadata": {},
   "outputs": [],
   "source": [
    "' '.join(sent)\n",
    "sent_tokens = [word.strip() for word in sent.split(',')]"
   ]
  },
  {
   "cell_type": "code",
   "execution_count": 7,
   "id": "3b429cd0-5ee7-46cc-bf59-9a83b6f1bdcf",
   "metadata": {},
   "outputs": [
    {
     "data": {
      "text/plain": [
       "'I have a car'"
      ]
     },
     "execution_count": 7,
     "metadata": {},
     "output_type": "execute_result"
    }
   ],
   "source": [
    "' '.join(sent_tokens)"
   ]
  },
  {
   "cell_type": "markdown",
   "id": "2f90e916-9765-4ff8-bc8e-b21b0ba945e5",
   "metadata": {},
   "source": [
    "### 반복문 맛보기\n",
    "- 자료구조를 순회할 때 사용\n",
    "- 시작조건, 종료조건, 수행명령\n",
    "\n",
    "- for 변수 in <반복 범위>:\n",
    "  <들여쓰기> <수행명령>\n",
    "  [<수행명령> for 변수 in <반복범위>]\n",
    "- range(start, end, stop): 숫자 순회할 때\n",
    "    - 0부터 시작\n",
    "    - 인덱스랑 다른 점은 :-> ,"
   ]
  },
  {
   "cell_type": "code",
   "execution_count": 8,
   "id": "6f4f45d5-7b15-4a33-94ce-5e8f73632d93",
   "metadata": {},
   "outputs": [
    {
     "data": {
      "text/plain": [
       "['I have a car']"
      ]
     },
     "execution_count": 8,
     "metadata": {},
     "output_type": "execute_result"
    }
   ],
   "source": [
    "[w for w in sent_tokens]"
   ]
  },
  {
   "cell_type": "code",
   "execution_count": 9,
   "id": "0254b179-a492-458d-b97d-a723c2a16b6a",
   "metadata": {},
   "outputs": [
    {
     "name": "stdout",
     "output_type": "stream",
     "text": [
      "I have a car\n"
     ]
    }
   ],
   "source": [
    "for w in sent_tokens:\n",
    "    print(w)"
   ]
  },
  {
   "cell_type": "code",
   "execution_count": 4,
   "id": "5c84c383-2f28-4793-8eae-ae3766c4378f",
   "metadata": {},
   "outputs": [
    {
     "name": "stdout",
     "output_type": "stream",
     "text": [
      "1\n",
      "2\n",
      "3\n",
      "4\n",
      "5\n",
      "6\n",
      "7\n",
      "8\n",
      "9\n",
      "10\n"
     ]
    }
   ],
   "source": [
    "#1에서 10까지 출력하고 싶다\n",
    "for i in range(1,11):\n",
    "    print(i)"
   ]
  },
  {
   "cell_type": "markdown",
   "id": "c6f728ec-c743-430e-9a23-aa013e84e083",
   "metadata": {},
   "source": [
    "### Ex\n",
    "- 1. text 6에서 길이가 4자 이하인 알파벳 중 ie를 포함하는 단어를 단어 개수로 출력하시오.\n",
    "    - 예: [1, 3, 4, 3]\n",
    "    \n",
    "- 2. text2에서 ch로 끝나는 단어를 출력하는데\n",
    "    - 중복 없고\n",
    "    - 첫글자와 ch 남기고 가운데는 모두 -으로 가려라.\n",
    "        예: much -> m-ch\n",
    "        m.......ch 면 그 수만큼 -으로 가려야됨\n",
    "        - ch로 시작하면 바꾸면 안됨\n",
    "    - 정렬:\n",
    "        - 문자 길이로 정렬하기"
   ]
  },
  {
   "cell_type": "code",
   "execution_count": 12,
   "id": "5d38fbfc-01a5-4082-b0f6-b0b9a15801ef",
   "metadata": {},
   "outputs": [
    {
     "name": "stdout",
     "output_type": "stream",
     "text": [
      "*** Introductory Examples for the NLTK Book ***\n",
      "Loading text1, ..., text9 and sent1, ..., sent9\n",
      "Type the name of the text or sentence to view it.\n",
      "Type: 'texts()' or 'sents()' to list the materials.\n",
      "text1: Moby Dick by Herman Melville 1851\n",
      "text2: Sense and Sensibility by Jane Austen 1811\n",
      "text3: The Book of Genesis\n",
      "text4: Inaugural Address Corpus\n",
      "text5: Chat Corpus\n",
      "text6: Monty Python and the Holy Grail\n",
      "text7: Wall Street Journal\n",
      "text8: Personals Corpus\n",
      "text9: The Man Who Was Thursday by G . K . Chesterton 1908\n"
     ]
    },
    {
     "data": {
      "text/plain": [
       "[2, 10, 4, 2, 1, 1, 3]"
      ]
     },
     "execution_count": 12,
     "metadata": {},
     "output_type": "execute_result"
    }
   ],
   "source": [
    "from nltk import book\n",
    "monty = book.text6\n",
    "from nltk.probability import FreqDist\n",
    "fdist = FreqDist(monty)\n",
    "\n",
    "[count for (word, count) in FreqDist(monty).items()\n",
    "    if len(word) <= 4 and 'ie' in word]"
   ]
  },
  {
   "cell_type": "code",
   "execution_count": null,
   "id": "b518c113-4030-4ca7-aad5-bfb8b368bdd2",
   "metadata": {},
   "outputs": [],
   "source": []
  }
 ],
 "metadata": {
  "kernelspec": {
   "display_name": "Python 3 (ipykernel)",
   "language": "python",
   "name": "python3"
  },
  "language_info": {
   "codemirror_mode": {
    "name": "ipython",
    "version": 3
   },
   "file_extension": ".py",
   "mimetype": "text/x-python",
   "name": "python",
   "nbconvert_exporter": "python",
   "pygments_lexer": "ipython3",
   "version": "3.9.7"
  }
 },
 "nbformat": 4,
 "nbformat_minor": 5
}
