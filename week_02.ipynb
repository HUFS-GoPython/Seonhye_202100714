{
 "cells": [
  {
   "cell_type": "markdown",
   "id": "255361dd-6ff8-4928-a5fe-81f345cd9f2e",
   "metadata": {},
   "source": [
    "# Ch02. Variable"
   ]
  },
  {
   "cell_type": "markdown",
   "id": "39528fd4-4ae6-4d72-8d16-bb9a2a4162de",
   "metadata": {},
   "source": [
    "## 자료형 변환하기"
   ]
  },
  {
   "cell_type": "markdown",
   "id": "61abfced-2205-46cd-8ee8-87fcde203197",
   "metadata": {},
   "source": [
    "- int(정수형), str(문자열), float(실수형 / 소수점), bool(참과 거짓 나타내는 자료형)"
   ]
  },
  {
   "cell_type": "code",
   "execution_count": 2,
   "id": "fb7a6a42-9ae7-40ba-b239-1ccf75cbde9c",
   "metadata": {},
   "outputs": [
    {
     "data": {
      "text/plain": [
       "int"
      ]
     },
     "execution_count": 2,
     "metadata": {},
     "output_type": "execute_result"
    }
   ],
   "source": [
    "a = 10\n",
    "type(a)"
   ]
  },
  {
   "cell_type": "code",
   "execution_count": 3,
   "id": "237cef3d-7d55-4cba-9ddb-436d85118c36",
   "metadata": {},
   "outputs": [
    {
     "data": {
      "text/plain": [
       "10.0"
      ]
     },
     "execution_count": 3,
     "metadata": {},
     "output_type": "execute_result"
    }
   ],
   "source": [
    "# int -> float\n",
    "float(a)"
   ]
  },
  {
   "cell_type": "code",
   "execution_count": 4,
   "id": "972cbb00-c026-4948-8c39-4fc0128400f6",
   "metadata": {},
   "outputs": [
    {
     "data": {
      "text/plain": [
       "'10'"
      ]
     },
     "execution_count": 4,
     "metadata": {},
     "output_type": "execute_result"
    }
   ],
   "source": [
    "# int -> str\n",
    "str(a)"
   ]
  },
  {
   "cell_type": "code",
   "execution_count": 5,
   "id": "78402caf-08c0-4c0f-baff-72641ec8e54e",
   "metadata": {},
   "outputs": [
    {
     "data": {
      "text/plain": [
       "True"
      ]
     },
     "execution_count": 5,
     "metadata": {},
     "output_type": "execute_result"
    }
   ],
   "source": [
    "# int -> bool\n",
    "bool(a)"
   ]
  },
  {
   "cell_type": "code",
   "execution_count": 6,
   "id": "393fa2f4-b1d8-4138-9212-e534e7a7875c",
   "metadata": {},
   "outputs": [
    {
     "data": {
      "text/plain": [
       "10"
      ]
     },
     "execution_count": 6,
     "metadata": {},
     "output_type": "execute_result"
    }
   ],
   "source": [
    "# float -> int: 10.6 => 정수형으로 변환 시 소수점 이하 값은 버린다.\n",
    "int(10.9)"
   ]
  },
  {
   "cell_type": "code",
   "execution_count": 9,
   "id": "12193e16-d68d-40ea-951c-57591ea739b8",
   "metadata": {},
   "outputs": [
    {
     "name": "stdout",
     "output_type": "stream",
     "text": [
      "12\n",
      "11\n"
     ]
    }
   ],
   "source": [
    "x = 4.6\n",
    "y = 7.9\n",
    "\n",
    "print(int(x + y)) # 12.xx 원래의 수를 더하고 나서 정수형으로 변환\n",
    "print(int(x) + int(y)) # 4+7 정수형으로 변환 이후 덧셈"
   ]
  },
  {
   "cell_type": "code",
   "execution_count": 8,
   "id": "76056992-bce4-46f1-8297-6fc0d0dab87c",
   "metadata": {},
   "outputs": [
    {
     "name": "stdout",
     "output_type": "stream",
     "text": [
      "12.5\n",
      "12.5\n"
     ]
    }
   ],
   "source": [
    "x = 4.6\n",
    "y = 7.9\n",
    "\n",
    "print(float(x + y))\n",
    "print(float(x) + float(y))"
   ]
  },
  {
   "cell_type": "code",
   "execution_count": 14,
   "id": "edfcbe9c-9cb5-4e76-b1b0-a4d7663f4b81",
   "metadata": {},
   "outputs": [
    {
     "ename": "ValueError",
     "evalue": "invalid literal for int() with base 10: '88.3'",
     "output_type": "error",
     "traceback": [
      "\u001b[0;31m---------------------------------------------------------------------------\u001b[0m",
      "\u001b[0;31mValueError\u001b[0m                                Traceback (most recent call last)",
      "\u001b[0;32m/var/folders/yf/zwysv3jn4tb_p89k89zby_040000gn/T/ipykernel_3393/736999955.py\u001b[0m in \u001b[0;36m<module>\u001b[0;34m\u001b[0m\n\u001b[1;32m      1\u001b[0m \u001b[0;31m# str -> int\u001b[0m\u001b[0;34m\u001b[0m\u001b[0;34m\u001b[0m\u001b[0m\n\u001b[1;32m      2\u001b[0m \u001b[0mp\u001b[0m \u001b[0;34m=\u001b[0m \u001b[0;34m'88.3'\u001b[0m\u001b[0;34m\u001b[0m\u001b[0;34m\u001b[0m\u001b[0m\n\u001b[0;32m----> 3\u001b[0;31m \u001b[0mint\u001b[0m\u001b[0;34m(\u001b[0m\u001b[0mp\u001b[0m\u001b[0;34m)\u001b[0m \u001b[0;31m# int 함수는 정수가 아닌 문자열은 처리하지 않는다\u001b[0m\u001b[0;34m\u001b[0m\u001b[0;34m\u001b[0m\u001b[0m\n\u001b[0m",
      "\u001b[0;31mValueError\u001b[0m: invalid literal for int() with base 10: '88.3'"
     ]
    }
   ],
   "source": [
    "# str -> int\n",
    "p = '88.3'\n",
    "int(p) # int 함수는 정수가 아닌 문자열은 처리하지 않는다"
   ]
  },
  {
   "cell_type": "code",
   "execution_count": 15,
   "id": "274adfb1-ad1d-4f39-890a-3aa9523099b3",
   "metadata": {},
   "outputs": [
    {
     "data": {
      "text/plain": [
       "88.3"
      ]
     },
     "execution_count": 15,
     "metadata": {},
     "output_type": "execute_result"
    }
   ],
   "source": [
    "float(p)"
   ]
  },
  {
   "cell_type": "code",
   "execution_count": 17,
   "id": "9470c418-ec5f-4099-9a2e-adde1ffd941c",
   "metadata": {},
   "outputs": [
    {
     "ename": "ValueError",
     "evalue": "invalid literal for int() with base 10: '90.0'",
     "output_type": "error",
     "traceback": [
      "\u001b[0;31m---------------------------------------------------------------------------\u001b[0m",
      "\u001b[0;31mValueError\u001b[0m                                Traceback (most recent call last)",
      "\u001b[0;32m/var/folders/yf/zwysv3jn4tb_p89k89zby_040000gn/T/ipykernel_3393/3933827638.py\u001b[0m in \u001b[0;36m<module>\u001b[0;34m\u001b[0m\n\u001b[1;32m      1\u001b[0m \u001b[0mex\u001b[0m \u001b[0;34m=\u001b[0m \u001b[0;34m'90.0'\u001b[0m\u001b[0;34m\u001b[0m\u001b[0;34m\u001b[0m\u001b[0m\n\u001b[0;32m----> 2\u001b[0;31m \u001b[0mint\u001b[0m\u001b[0;34m(\u001b[0m\u001b[0mex\u001b[0m\u001b[0;34m)\u001b[0m \u001b[0;31m#소수점이 붙어있는 거는 다 안됨\u001b[0m\u001b[0;34m\u001b[0m\u001b[0;34m\u001b[0m\u001b[0m\n\u001b[0m",
      "\u001b[0;31mValueError\u001b[0m: invalid literal for int() with base 10: '90.0'"
     ]
    }
   ],
   "source": [
    "ex = '90.0'\n",
    "int(ex) #소수점이 붙어있는 거는 다 안됨"
   ]
  },
  {
   "cell_type": "markdown",
   "id": "f4ab7a18-a1f2-4685-8cc7-47213b60a2d5",
   "metadata": {},
   "source": [
    "## 꿀팁"
   ]
  },
  {
   "cell_type": "markdown",
   "id": "e90e1a11-3816-4aca-b098-cb66cdac08c9",
   "metadata": {},
   "source": [
    "print()"
   ]
  },
  {
   "cell_type": "code",
   "execution_count": 18,
   "id": "23053d07-6ea9-4319-8b03-cbc31fa0bfca",
   "metadata": {},
   "outputs": [
    {
     "name": "stdout",
     "output_type": "stream",
     "text": [
      "orange apple tomato\n",
      "the next line\n"
     ]
    }
   ],
   "source": [
    "print('orange', 'apple', 'tomato') #띄어쓰기가 요소들 사이에 들어감\n",
    "print('the next line') #줄바꾸기"
   ]
  },
  {
   "cell_type": "markdown",
   "id": "b8e48186-7261-427e-acb7-00bd7c2f10b5",
   "metadata": {},
   "source": [
    "#### 띄어쓰기를 없애거나 줄을 바꾸고 싶지 않은 경우"
   ]
  },
  {
   "cell_type": "code",
   "execution_count": 20,
   "id": "c3869dcf-ddda-4d22-b68e-150f1656aee3",
   "metadata": {},
   "outputs": [],
   "source": [
    "orange = 'orange'\n",
    "apple = 'apple'\n",
    "tomato = 'tomato'"
   ]
  },
  {
   "cell_type": "markdown",
   "id": "a9275664-c954-461e-9646-0bfeaa401b49",
   "metadata": {},
   "source": [
    "- sep= 기본 값으로 공백이 들어가있는 print함수의 출력물들 사이에 원하는 값을 넣어줌\n",
    "- end= 기본 값으로 줄바꿈(\\n)이 들어가있는데 이걸 사용해 줄바꿈을 없애거나 원하는 문자 입력 가능"
   ]
  },
  {
   "cell_type": "code",
   "execution_count": 22,
   "id": "acea56ce-022f-4762-ade6-ced87756d515",
   "metadata": {},
   "outputs": [
    {
     "name": "stdout",
     "output_type": "stream",
     "text": [
      "orangeappletomato\n"
     ]
    }
   ],
   "source": [
    "print(orange + apple + tomato) # +는 연결을 가능하게 하지만 각 원소 사이의 공백은 사라진다"
   ]
  },
  {
   "cell_type": "code",
   "execution_count": 23,
   "id": "2df80f13-22de-4537-a81e-15b2d30a4e4e",
   "metadata": {},
   "outputs": [
    {
     "name": "stdout",
     "output_type": "stream",
     "text": [
      "orange apple tomato\n"
     ]
    }
   ],
   "source": [
    "print(orange, apple, tomato, sep=' ', end='\\n')"
   ]
  },
  {
   "cell_type": "code",
   "execution_count": 24,
   "id": "f70cedc9-a4bb-48d6-88c6-48aaed9a45e5",
   "metadata": {},
   "outputs": [],
   "source": [
    "#sep 함수, 띄어쓰기(공백)을 한 칸 넣어줌\n",
    "#end 함수, \\n 을 넣어서 줄바꿈을 해줌\n",
    "##end 함수는 "
   ]
  },
  {
   "cell_type": "code",
   "execution_count": 27,
   "id": "6451c3c2-ad56-4ef0-aba7-14f95589dd34",
   "metadata": {},
   "outputs": [
    {
     "name": "stdout",
     "output_type": "stream",
     "text": [
      "orange apple tomato\n",
      "orange\tapple\ttomato\n",
      "\n",
      "OMG\n"
     ]
    }
   ],
   "source": [
    "print(orange, apple, tomato)\n",
    "print(orange, apple, tomato, sep='\\t', end=\"\\n\\n\")\n",
    "print('OMG')"
   ]
  },
  {
   "cell_type": "markdown",
   "id": "e6cc5cac-1498-4b5e-9a7a-074c6149fbb0",
   "metadata": {},
   "source": [
    "#### 라인이 짧을 때 => ; 는 줄바꿈을 의미함"
   ]
  },
  {
   "cell_type": "code",
   "execution_count": 28,
   "id": "15644a20-10af-4054-b067-42c245328b68",
   "metadata": {},
   "outputs": [],
   "source": [
    "orange = 'orange' ; apple = 'apple' ; tomato = 'tomato'"
   ]
  },
  {
   "cell_type": "code",
   "execution_count": 30,
   "id": "7f7c396a-2113-41ea-bcb9-eedc5f99e8e8",
   "metadata": {},
   "outputs": [
    {
     "name": "stdout",
     "output_type": "stream",
     "text": [
      "21\n",
      "21\n"
     ]
    }
   ],
   "source": [
    "age = 21; print(age); print(21)"
   ]
  },
  {
   "cell_type": "markdown",
   "id": "80cf0689-154d-41e8-b199-d8a4cced60f2",
   "metadata": {},
   "source": [
    "# Ch2. input()\n",
    "- console에서 사용자에게 값을 입력받는 함수\n",
    "- 입출력과 관련된\n",
    "- 입력 받는 값의 타입은 문자열 (str)\n",
    "- 입력 받은 값을 변수에 담아서 사용한다"
   ]
  },
  {
   "cell_type": "code",
   "execution_count": 1,
   "id": "b6f50834-a11c-46c6-adfe-04b1a5e9de1a",
   "metadata": {},
   "outputs": [
    {
     "name": "stdin",
     "output_type": "stream",
     "text": [
      "What's your name?  Kim\n"
     ]
    },
    {
     "data": {
      "text/plain": [
       "' Kim'"
      ]
     },
     "execution_count": 1,
     "metadata": {},
     "output_type": "execute_result"
    }
   ],
   "source": [
    "input(\"What's your name?\")"
   ]
  },
  {
   "cell_type": "code",
   "execution_count": 2,
   "id": "35a44a28-c9ba-4ab1-8b92-2fd207a5831a",
   "metadata": {},
   "outputs": [
    {
     "name": "stdin",
     "output_type": "stream",
     "text": [
      "What's your name? Lee\n"
     ]
    }
   ],
   "source": [
    "#1.\n",
    "name = input(\"What's your name?\")"
   ]
  },
  {
   "cell_type": "code",
   "execution_count": 3,
   "id": "795ade09-7cfb-48f3-b3f5-110cbcfcb642",
   "metadata": {},
   "outputs": [
    {
     "data": {
      "text/plain": [
       "'Lee'"
      ]
     },
     "execution_count": 3,
     "metadata": {},
     "output_type": "execute_result"
    }
   ],
   "source": [
    "name"
   ]
  },
  {
   "cell_type": "code",
   "execution_count": 4,
   "id": "d346f217-55e8-4b48-b609-9b60bd930835",
   "metadata": {},
   "outputs": [
    {
     "name": "stdout",
     "output_type": "stream",
     "text": [
      "What's your name?\n"
     ]
    },
    {
     "name": "stdin",
     "output_type": "stream",
     "text": [
      " Wang\n"
     ]
    }
   ],
   "source": [
    "#2\n",
    "print(\"What's your name?\")\n",
    "name = input()"
   ]
  },
  {
   "cell_type": "code",
   "execution_count": 5,
   "id": "3aa326e6-44c3-4069-ad6c-3bb7c7627870",
   "metadata": {},
   "outputs": [
    {
     "name": "stdout",
     "output_type": "stream",
     "text": [
      "Wang\n"
     ]
    }
   ],
   "source": [
    "print(name)"
   ]
  },
  {
   "cell_type": "markdown",
   "id": "120ece33-9ec4-474e-876b-47c12546fefc",
   "metadata": {},
   "source": [
    "input을 str이 아닌 다른 타입으로 사용하고 싶을 때에는 형 변환을 미리 해줘야한다.\n",
    "- input함수는 문자열로 취급한다."
   ]
  },
  {
   "cell_type": "code",
   "execution_count": 7,
   "id": "09890e1f-3c04-4891-945c-6b696288acf1",
   "metadata": {},
   "outputs": [
    {
     "name": "stdin",
     "output_type": "stream",
     "text": [
      "How old are you? 22\n"
     ]
    }
   ],
   "source": [
    "age = input(\"How old are you?\")"
   ]
  },
  {
   "cell_type": "code",
   "execution_count": 8,
   "id": "156606e2-aaf1-448e-98f5-ce83539d3bcd",
   "metadata": {},
   "outputs": [
    {
     "data": {
      "text/plain": [
       "str"
      ]
     },
     "execution_count": 8,
     "metadata": {},
     "output_type": "execute_result"
    }
   ],
   "source": [
    "type(age)"
   ]
  },
  {
   "cell_type": "code",
   "execution_count": 9,
   "id": "976ba395-a75e-4d9d-8087-ebc147279bdb",
   "metadata": {},
   "outputs": [
    {
     "name": "stdin",
     "output_type": "stream",
     "text": [
      "How old are you? 22\n"
     ]
    }
   ],
   "source": [
    "age = int(input(\"How old are you?\"))"
   ]
  },
  {
   "cell_type": "code",
   "execution_count": 10,
   "id": "b4d862fa-dc1a-45e9-8aee-7dbce2f1e284",
   "metadata": {},
   "outputs": [
    {
     "data": {
      "text/plain": [
       "int"
      ]
     },
     "execution_count": 10,
     "metadata": {},
     "output_type": "execute_result"
    }
   ],
   "source": [
    "type(age)"
   ]
  },
  {
   "cell_type": "code",
   "execution_count": 11,
   "id": "e98d82c7-0664-4130-ac2b-05fee3d369b7",
   "metadata": {},
   "outputs": [
    {
     "name": "stdout",
     "output_type": "stream",
     "text": [
      "당신이 태어난 해는 2001 입니다.\n"
     ]
    }
   ],
   "source": [
    "print('당신이 태어난 해는', 2022 - age + 1, '입니다.') #int로 문자열을 변환해줘서 연산이 가능해짐"
   ]
  },
  {
   "cell_type": "code",
   "execution_count": 12,
   "id": "8c65c9d2-7666-4e9b-9841-884584442ac3",
   "metadata": {},
   "outputs": [
    {
     "name": "stdin",
     "output_type": "stream",
     "text": [
      "How old are you? 22\n"
     ]
    }
   ],
   "source": [
    "#그냥 받는 경우\n",
    "age = input(\"How old are you?\")"
   ]
  },
  {
   "cell_type": "code",
   "execution_count": 14,
   "id": "ac00c8cd-cf2f-41a6-8fa1-654547835d33",
   "metadata": {},
   "outputs": [
    {
     "ename": "TypeError",
     "evalue": "unsupported operand type(s) for -: 'int' and 'str'",
     "output_type": "error",
     "traceback": [
      "\u001b[0;31m---------------------------------------------------------------------------\u001b[0m",
      "\u001b[0;31mTypeError\u001b[0m                                 Traceback (most recent call last)",
      "\u001b[0;32m/var/folders/yf/zwysv3jn4tb_p89k89zby_040000gn/T/ipykernel_3799/3554683551.py\u001b[0m in \u001b[0;36m<module>\u001b[0;34m\u001b[0m\n\u001b[0;32m----> 1\u001b[0;31m \u001b[0mprint\u001b[0m\u001b[0;34m(\u001b[0m\u001b[0;34m'당신이 태어난 해는'\u001b[0m\u001b[0;34m,\u001b[0m \u001b[0;36m2022\u001b[0m \u001b[0;34m-\u001b[0m \u001b[0mage\u001b[0m \u001b[0;34m+\u001b[0m \u001b[0;36m1\u001b[0m\u001b[0;34m,\u001b[0m \u001b[0;34m'입니다.'\u001b[0m\u001b[0;34m)\u001b[0m \u001b[0;31m#문자열을 변환하지 않아서 연산 불가능\u001b[0m\u001b[0;34m\u001b[0m\u001b[0;34m\u001b[0m\u001b[0m\n\u001b[0m",
      "\u001b[0;31mTypeError\u001b[0m: unsupported operand type(s) for -: 'int' and 'str'"
     ]
    }
   ],
   "source": [
    "print('당신이 태어난 해는', 2022 - age + 1, '입니다.') #문자열을 변환하지 않아서 연산 불가능"
   ]
  },
  {
   "cell_type": "markdown",
   "id": "fa773ec9-57c4-4071-8ab0-23f91bdc327f",
   "metadata": {},
   "source": [
    "## Printing"
   ]
  },
  {
   "cell_type": "code",
   "execution_count": 27,
   "id": "7ad07f66-5bb3-4ebc-8d9b-312dfd0228a0",
   "metadata": {},
   "outputs": [
    {
     "name": "stdin",
     "output_type": "stream",
     "text": [
      "How old are you? 22\n"
     ]
    }
   ],
   "source": [
    "age = int(input('How old are you?'))"
   ]
  },
  {
   "cell_type": "code",
   "execution_count": 29,
   "id": "8543e0f1-8f2c-4165-80ab-787e73b55ffc",
   "metadata": {},
   "outputs": [
    {
     "name": "stdout",
     "output_type": "stream",
     "text": [
      "당신이 태어난 해는 2001 입니다.\n"
     ]
    }
   ],
   "source": [
    "print(f'당신이 태어난 해는 {2022 - age + 1} 입니다.') #print (f'{<variable>})"
   ]
  },
  {
   "cell_type": "markdown",
   "id": "4fed1cda-928d-416a-8ad7-2a0f8e2c97a8",
   "metadata": {},
   "source": [
    "### Quiz 1\n",
    "- 택배 정보를 입력 받고 무게에 따른 값 산정하기\n",
    "    - 수취인 성명:\n",
    "    - 수취인 주소:\n",
    "    - 배송비: 3000원\n",
    "    - 물건 비용: <계산된 값>원\n",
    "    - 총 합계: <계산된 값>원\n",
    "- 물건 비용은 무게(g) * 5\n",
    "- 입력 값 = 이름, 주소, 무게"
   ]
  },
  {
   "cell_type": "code",
   "execution_count": 31,
   "id": "8fe123e1-f0a3-4af6-9e69-9e8eb36b3ea4",
   "metadata": {},
   "outputs": [
    {
     "name": "stdin",
     "output_type": "stream",
     "text": [
      "수취인 성명:  김선혜\n",
      "수취인 주소:  회나무로\n",
      "무게:  500\n"
     ]
    },
    {
     "name": "stdout",
     "output_type": "stream",
     "text": [
      "물건 비용: 2500 원\n",
      "총 합계: 5500 원\n"
     ]
    }
   ],
   "source": [
    "#1. 내가 푼 방식\n",
    "\n",
    "name = input('수취인 성명: ')\n",
    "adr = input('수취인 주소: ')\n",
    "price = 3000\n",
    "\n",
    "mg = int(input('무게: '))\n",
    "mgby = mg * 5\n",
    "int(mgby)\n",
    "chg = mgby + 3000\n",
    "print('물건 비용:',mgby,'원')\n",
    "print('총 합계:',chg,'원')"
   ]
  },
  {
   "cell_type": "code",
   "execution_count": 32,
   "id": "c6b22457-a5c0-471c-88aa-342e473d48ae",
   "metadata": {},
   "outputs": [
    {
     "name": "stdin",
     "output_type": "stream",
     "text": [
      "수취인 성명:  김선혜\n",
      "수취인 주소:  회나무로\n",
      "무게:  200\n"
     ]
    },
    {
     "name": "stdout",
     "output_type": "stream",
     "text": [
      "물건 비용: 1000원\n",
      "총 합계: 4000원\n"
     ]
    }
   ],
   "source": [
    "name = input('수취인 성명: ')\n",
    "adr = input('수취인 주소: ')\n",
    "price = 3000\n",
    "\n",
    "mg = int(input('무게: '))\n",
    "mgby = mg * 5\n",
    "int(mgby)\n",
    "chg = mgby + 3000\n",
    "print(f'물건 비용: {mgby}원')\n",
    "print(f'총 합계: {chg}원')"
   ]
  },
  {
   "cell_type": "markdown",
   "id": "dbb32c0a-c5ba-4ab8-89aa-9410f42f39f6",
   "metadata": {},
   "source": [
    "# IF 조건문\n",
    "#### 코드 짜는 팁\n",
    "- 주석달기\n",
    "    - ‘#‘ hash, sharp, . .\n",
    "    - '#' 시작지점부터 라인 끝까지가 주석 처리됨. 라인이 바뀌면 코드로 인식\n",
    "    - \"\"\" \"\"\" : 긴 주석\n",
    "    - 문자열 안에 있는 #은 부호로 인식한다\n",
    "    - 이유? 코드에 대한 설명은 최대한 하지 않는다. 의도를 나타내기 위해, 오류가 있다거나, ...\n",
    "    \n",
    "- 라인 유지하기\n",
    "    - 들여쓰기 (default space 4개, 탭을 이용해서)\n",
    "    - 논리 구조를 나타내기 때문에 굉장히 중요함\n",
    "    - 80자 정도가 한 라인에 들어가는게 암묵적 합의 (백슬래시로 라인을 끊어준다 (\\))"
   ]
  },
  {
   "cell_type": "code",
   "execution_count": 33,
   "id": "099224dc-9e58-4e5a-8a45-5acd97356a75",
   "metadata": {},
   "outputs": [
    {
     "name": "stdout",
     "output_type": "stream",
     "text": [
      "3\n"
     ]
    }
   ],
   "source": [
    "a = 3 #주석입니다.\n",
    "\"\"\"\n",
    "주석1\n",
    "주석2\n",
    "주석3\n",
    "\"\"\"\n",
    "print(a)"
   ]
  },
  {
   "cell_type": "code",
   "execution_count": 35,
   "id": "d32bd14c-bcb2-4189-aaf5-39da7693d831",
   "metadata": {},
   "outputs": [
    {
     "name": "stdout",
     "output_type": "stream",
     "text": [
      "hey, there #\n"
     ]
    }
   ],
   "source": [
    "print('hey, there #')"
   ]
  },
  {
   "cell_type": "raw",
   "id": "429bee5d-8b3c-44fb-a222-633f471ee95d",
   "metadata": {},
   "source": [
    "if a == 3:\n",
    "    xxx"
   ]
  },
  {
   "cell_type": "markdown",
   "id": "aa1c26e3-e6d3-4095-8ff5-ead3eb473cbd",
   "metadata": {},
   "source": [
    "### if\n",
    "if<조건식>:<실행할 코드>"
   ]
  },
  {
   "cell_type": "code",
   "execution_count": 37,
   "id": "60bc2c8c-6c60-4ac6-95b1-af1f823ea090",
   "metadata": {},
   "outputs": [
    {
     "name": "stdout",
     "output_type": "stream",
     "text": [
      "두 수는 같지 않다\n"
     ]
    }
   ],
   "source": [
    "if 3 != 1:\n",
    "    print(\"두 수는 같지 않다\")"
   ]
  },
  {
   "cell_type": "markdown",
   "id": "1153ac66-ba85-4468-a594-b8d7c5aa61ec",
   "metadata": {},
   "source": [
    "- if-elif-else\n",
    "if <조건식>:\n",
    "    <실행할 코드1>\n",
    "elif <조건식2>:\n",
    "    <실행할 코드3>\n",
    "else: \n",
    "    <실행할 코드2>"
   ]
  },
  {
   "cell_type": "code",
   "execution_count": 38,
   "id": "30ec0416-0e36-49b1-950d-6cc006cdb30e",
   "metadata": {},
   "outputs": [
    {
     "name": "stdout",
     "output_type": "stream",
     "text": [
      "3보다 크다\n"
     ]
    }
   ],
   "source": [
    "a = 4\n",
    "if a < 3:\n",
    "    print(\"3보다 작다\")\n",
    "elif a == 3:\n",
    "    print(\"3이다\")\n",
    "else:\n",
    "    print(\"3보다 크다\")"
   ]
  },
  {
   "cell_type": "code",
   "execution_count": 40,
   "id": "a1333cbd-8af5-4d30-909b-914dd9390ac8",
   "metadata": {},
   "outputs": [],
   "source": [
    "if a < 3:\n",
    "    print(\"3보다 작다\")\n",
    "    \n",
    "if a == 3:\n",
    "    print(\"3이다\")\n",
    "    \n",
    "if a > 4:\n",
    "    print(\"3보다 크다\")\n",
    "    \n",
    "#각각 새로 판별"
   ]
  },
  {
   "cell_type": "markdown",
   "id": "b002ccd8-025c-474a-8f99-d61fc9a622e9",
   "metadata": {},
   "source": [
    "### 비교연산자\n",
    "- x < y\n",
    "- x > y\n",
    "- x >= y\n",
    "- x <= y\n",
    "- x == y (같이)\n",
    "- x != y\n",
    "- x is y(값, 메모리주소)\n",
    "- x is not y"
   ]
  },
  {
   "cell_type": "markdown",
   "id": "e20a2cc6-fef5-4a76-abc5-35b944783bc3",
   "metadata": {},
   "source": [
    "### 퀴즈\n",
    "- 1. 시험 점수를 입력 받고, 80점 이상이면 True, 아니면 False 반환하기\n",
    "- 2. 시험 점수를 입력 받고, 95 이상 A+, 90이상 A, 85이상 B+, 나머지 F로 출력하세요."
   ]
  },
  {
   "cell_type": "code",
   "execution_count": 43,
   "id": "206541e5-bfe3-426e-9380-868a94f65cb8",
   "metadata": {},
   "outputs": [
    {
     "name": "stdin",
     "output_type": "stream",
     "text": [
      "시험 점수를 입력하시오:  90\n"
     ]
    },
    {
     "name": "stdout",
     "output_type": "stream",
     "text": [
      "True\n",
      "A\n"
     ]
    }
   ],
   "source": [
    "#Quiz 1.\n",
    "\n",
    "score = int(input('시험 점수를 입력하시오: '))\n",
    "\n",
    "if score >= 80:\n",
    "    print(bool(score>=80)) # 간단하게 print('True') 해도 됨\n",
    "else:\n",
    "    print(bool(score>=80))\n",
    "\n",
    "#Quiz 2.\n",
    "if score >=95:\n",
    "    print('A+')\n",
    "elif score>=90:\n",
    "    print('A')\n",
    "elif score>=85 and score<90: #and 이후 굳이 안 써줘도 되는 듯 확인해보기 -> 해본 결과 안 써도 됨\n",
    "    print('B+')\n",
    "else :\n",
    "    print ('F')"
   ]
  },
  {
   "cell_type": "code",
   "execution_count": 44,
   "id": "808e0dd8-ec44-47a3-adbe-1db609a1c786",
   "metadata": {},
   "outputs": [
    {
     "name": "stdin",
     "output_type": "stream",
     "text": [
      "시험 점수를 입력하시오:  79\n"
     ]
    },
    {
     "name": "stdout",
     "output_type": "stream",
     "text": [
      "False\n"
     ]
    }
   ],
   "source": [
    "#Quiz 1.\n",
    "\n",
    "score = int(input('시험 점수를 입력하시오: '))\n",
    "print(bool(score>=80))"
   ]
  },
  {
   "cell_type": "code",
   "execution_count": null,
   "id": "7c6426d0-d937-4692-82cf-57953bed6faa",
   "metadata": {},
   "outputs": [],
   "source": []
  },
  {
   "cell_type": "markdown",
   "id": "138a9df4-81f7-4786-9247-27d9d29fa7b4",
   "metadata": {},
   "source": [
    "# Ch03. Numbers"
   ]
  },
  {
   "cell_type": "markdown",
   "id": "b7892879-5453-4ec8-958e-55fa35ea4051",
   "metadata": {},
   "source": [
    "### boolean\n",
    "\n",
    "- True/False\n",
    "- False 인 값\n",
    "- if문 (조건식): '만약 어떤 값이 True면, ...\""
   ]
  },
  {
   "cell_type": "code",
   "execution_count": 50,
   "id": "46e6187d-8294-4f27-a261-ea4a4b6d7923",
   "metadata": {},
   "outputs": [
    {
     "data": {
      "text/plain": [
       "False"
      ]
     },
     "execution_count": 50,
     "metadata": {},
     "output_type": "execute_result"
    }
   ],
   "source": [
    "bool(0)"
   ]
  },
  {
   "cell_type": "code",
   "execution_count": 51,
   "id": "b1cdbb0a-1c7c-48cc-ae18-91c14909e121",
   "metadata": {},
   "outputs": [
    {
     "data": {
      "text/plain": [
       "False"
      ]
     },
     "execution_count": 51,
     "metadata": {},
     "output_type": "execute_result"
    }
   ],
   "source": [
    "bool(None)"
   ]
  },
  {
   "cell_type": "markdown",
   "id": "bd9272d3-f1c9-49fc-ba9c-4f4e53dbbee8",
   "metadata": {},
   "source": [
    "## Integer\n",
    "- 분수나 소수가 아닌 정수\n",
    "- 음수는 '-'기호를 붙인다: i.e., -50\n",
    "- default = 양수\n",
    "- 숫자 앞에는 0을 쓰지 못한다. i.e., 09\n",
    "    -0bxx (10진수가 아닌)\n",
    "- 숫자 사이에 쉼표를 쓰면 오류: 100,000 (x) -> 100_000 => 숫자 사이의 언더바는 인식하지 않는다는 의미"
   ]
  },
  {
   "cell_type": "code",
   "execution_count": 53,
   "id": "1d6982e2-07c9-4ee4-bb9e-c96b42096b34",
   "metadata": {},
   "outputs": [
    {
     "ename": "SyntaxError",
     "evalue": "leading zeros in decimal integer literals are not permitted; use an 0o prefix for octal integers (2890110653.py, line 1)",
     "output_type": "error",
     "traceback": [
      "\u001b[0;36m  File \u001b[0;32m\"/var/folders/yf/zwysv3jn4tb_p89k89zby_040000gn/T/ipykernel_3799/2890110653.py\"\u001b[0;36m, line \u001b[0;32m1\u001b[0m\n\u001b[0;31m    a = 09\u001b[0m\n\u001b[0m         ^\u001b[0m\n\u001b[0;31mSyntaxError\u001b[0m\u001b[0;31m:\u001b[0m leading zeros in decimal integer literals are not permitted; use an 0o prefix for octal integers\n"
     ]
    }
   ],
   "source": [
    "a = 09"
   ]
  },
  {
   "cell_type": "code",
   "execution_count": 54,
   "id": "cdfd567f-4401-42f5-b4ab-7e37e285a159",
   "metadata": {},
   "outputs": [
    {
     "data": {
      "text/plain": [
       "-1"
      ]
     },
     "execution_count": 54,
     "metadata": {},
     "output_type": "execute_result"
    }
   ],
   "source": [
    "a = -50\n",
    "b = 49\n",
    "a +b"
   ]
  },
  {
   "cell_type": "markdown",
   "id": "4011b02c-1245-41c5-9c70-6249b1a992e5",
   "metadata": {},
   "source": [
    "## 연산자|operator\n",
    "- +, -, *, /\n",
    "- 피연산자|operand: 1, 2,..\n",
    "- 수식|expression"
   ]
  },
  {
   "cell_type": "code",
   "execution_count": 55,
   "id": "9d47c13d-ff19-417a-a262-030712ff1b7d",
   "metadata": {},
   "outputs": [
    {
     "data": {
      "text/plain": [
       "6561"
      ]
     },
     "execution_count": 55,
     "metadata": {},
     "output_type": "execute_result"
    }
   ],
   "source": [
    "x = 9\n",
    "y = 4\n",
    "\n",
    "# 연산\n",
    "x + y\n",
    "x - y\n",
    "x * y\n",
    "x / y ###\n",
    "x ** y # 거듭제곱|exponential"
   ]
  },
  {
   "cell_type": "markdown",
   "id": "8053869d-f43a-4a43-b19f-c3a3df93a679",
   "metadata": {},
   "source": [
    "나눗셈 = 몫, 나머지"
   ]
  },
  {
   "cell_type": "code",
   "execution_count": 57,
   "id": "42dddc89-423d-4350-8e06-c850a5882970",
   "metadata": {},
   "outputs": [
    {
     "data": {
      "text/plain": [
       "1"
      ]
     },
     "execution_count": 57,
     "metadata": {},
     "output_type": "execute_result"
    }
   ],
   "source": [
    "x / y # 몫 + 나머지 (결과물)\n",
    "x // y # 몫\n",
    "x% y # 나머지"
   ]
  },
  {
   "cell_type": "code",
   "execution_count": 58,
   "id": "8dc03fad-2fb2-44f8-8dac-8f25c266380a",
   "metadata": {},
   "outputs": [
    {
     "data": {
      "text/plain": [
       "(2, 1)"
      ]
     },
     "execution_count": 58,
     "metadata": {},
     "output_type": "execute_result"
    }
   ],
   "source": [
    "divmod(x,y) # (몫, 나머지)"
   ]
  },
  {
   "cell_type": "code",
   "execution_count": 59,
   "id": "6e6b80df-fe0f-456a-90b6-0ebbbb901208",
   "metadata": {},
   "outputs": [],
   "source": [
    "# division by zero 항시 유의"
   ]
  },
  {
   "cell_type": "code",
   "execution_count": 60,
   "id": "0ba50195-598d-4050-846c-65ad75f1d4e8",
   "metadata": {},
   "outputs": [
    {
     "data": {
      "text/plain": [
       "20"
      ]
     },
     "execution_count": 60,
     "metadata": {},
     "output_type": "execute_result"
    }
   ],
   "source": [
    "1 + 9              + 10 #숫자 사이의 공백은 무시가 됨"
   ]
  },
  {
   "cell_type": "markdown",
   "id": "f6569ad3-7d2d-4b08-b065-f89aba06aaf3",
   "metadata": {},
   "source": [
    "### 복합 대입 연산자 |compound assignment operator"
   ]
  },
  {
   "cell_type": "code",
   "execution_count": 62,
   "id": "a761692a-7d66-4036-9ade-cac52fa3811a",
   "metadata": {},
   "outputs": [
    {
     "name": "stdout",
     "output_type": "stream",
     "text": [
      "5\n"
     ]
    }
   ],
   "source": [
    "x = 5\n",
    "x - 3\n",
    "print(x)"
   ]
  },
  {
   "cell_type": "code",
   "execution_count": 63,
   "id": "e646367b-ade3-4039-a9d9-95de49fa4ca7",
   "metadata": {},
   "outputs": [
    {
     "name": "stdout",
     "output_type": "stream",
     "text": [
      "2\n"
     ]
    }
   ],
   "source": [
    "x = x - 3\n",
    "print(x)\n",
    "\n",
    "#1. x - 3 계산\n",
    "#2. temp = x - 3 (임시변수에 담는다)\n",
    "#3. ㅌ = temp"
   ]
  },
  {
   "cell_type": "code",
   "execution_count": 64,
   "id": "7ffbd652-0430-4af7-a731-5294bb783411",
   "metadata": {},
   "outputs": [
    {
     "name": "stdout",
     "output_type": "stream",
     "text": [
      "-1\n"
     ]
    }
   ],
   "source": [
    "x -= 3\n",
    "print(x) # 2-3"
   ]
  },
  {
   "cell_type": "code",
   "execution_count": 65,
   "id": "cc2944eb-e81d-40d6-950e-32f3400d9d3a",
   "metadata": {},
   "outputs": [],
   "source": [
    "x += 3\n",
    "x -= 3\n",
    "x *= 3\n",
    "x /= 3\n",
    "\n",
    "x += 1"
   ]
  },
  {
   "cell_type": "markdown",
   "id": "3741dab3-1b4c-41fa-81da-8d0874c588ba",
   "metadata": {},
   "source": [
    "### Quiz 1.\n",
    "- 반지름을 입력 받아서 원의 면적 구하기\n",
    "- 면적 = pi * r제곱\n",
    "\n",
    "### Quiz 2.\n",
    "- 숫자를 입력 받고 3의 배수인지 확인하기\n",
    "- 숫자를 입력 받고 홀수인지 확인하기"
   ]
  },
  {
   "cell_type": "code",
   "execution_count": 67,
   "id": "8016de41-84fe-4c0a-9145-1c696f4e175b",
   "metadata": {},
   "outputs": [
    {
     "name": "stdin",
     "output_type": "stream",
     "text": [
      "반지름은?  5\n"
     ]
    },
    {
     "name": "stdout",
     "output_type": "stream",
     "text": [
      "78.5\n"
     ]
    }
   ],
   "source": [
    "# Quiz 1.\n",
    "\n",
    "radius = float(input('반지름은? '))\n",
    "pi = 3.14\n",
    "area = (pi * (radius * radius)) # radius * radius -> radius ** 2 , pi * radius ** 2 로 해주면 괄호는 안 해줘도 됨. 거듭제곱 먼저 계산\n",
    "print (area)"
   ]
  },
  {
   "cell_type": "code",
   "execution_count": 68,
   "id": "16728956-2228-4584-954f-9f20e26971ff",
   "metadata": {},
   "outputs": [
    {
     "name": "stdin",
     "output_type": "stream",
     "text": [
      "숫자를 입력하시오:  6\n"
     ]
    },
    {
     "name": "stdout",
     "output_type": "stream",
     "text": [
      "3의 배수입니다.\n",
      "짝수입니다.\n"
     ]
    }
   ],
   "source": [
    "# Quiz 2.\n",
    "\n",
    "num = int(input('숫자를 입력하시오: '))\n",
    "if num % 3 == 0:\n",
    "    print('3의 배수입니다.')\n",
    "else :\n",
    "    print('3의 배수가 아닙니다.')\n",
    "    \n",
    "if num % 2 == 0:\n",
    "    print('짝수입니다.')\n",
    "else :\n",
    "    print('홀수입니다.')"
   ]
  },
  {
   "cell_type": "code",
   "execution_count": 69,
   "id": "1cac6cb0-504b-4d64-908d-e1268b9c6518",
   "metadata": {},
   "outputs": [
    {
     "name": "stdin",
     "output_type": "stream",
     "text": [
      " 3\n"
     ]
    },
    {
     "name": "stdout",
     "output_type": "stream",
     "text": [
      "True\n"
     ]
    }
   ],
   "source": [
    "# 다른 분 예시\n",
    "n = int(input())\n",
    "print(not bool(n%3))"
   ]
  },
  {
   "cell_type": "code",
   "execution_count": 70,
   "id": "2e276f9a-e892-4285-8938-1471ecbe1578",
   "metadata": {},
   "outputs": [
    {
     "name": "stdin",
     "output_type": "stream",
     "text": [
      "숫자를 입력하시오:  5\n"
     ]
    }
   ],
   "source": [
    "# if 없이 true, false\n",
    "\n",
    "num = int(input('숫자를 입력하시오: '))\n",
    "unknown = num % 3\n"
   ]
  },
  {
   "cell_type": "markdown",
   "id": "8e0658b1-9c2d-4c8d-96f0-9c46a23f22f8",
   "metadata": {},
   "source": [
    "### 지수 표현\n",
    "- 예: '1.0e-4'\n",
    "- e의 앞부분은 소수, 정수 둘 다 됨\n",
    "- 뒷부분은 정수여야 함\n",
    "- 뒷부분이 음수면 소수점 자릿수를 의미함\n",
    "- e, E 대문자 차이 없음"
   ]
  },
  {
   "cell_type": "code",
   "execution_count": 72,
   "id": "3da32b4a-cf0c-4554-b674-55bc43979f6f",
   "metadata": {},
   "outputs": [
    {
     "data": {
      "text/plain": [
       "0.0001"
      ]
     },
     "execution_count": 72,
     "metadata": {},
     "output_type": "execute_result"
    }
   ],
   "source": [
    "1.0e-4"
   ]
  },
  {
   "cell_type": "code",
   "execution_count": 73,
   "id": "ea5220ca-639b-4f2a-8674-8e8d6c091357",
   "metadata": {},
   "outputs": [
    {
     "name": "stdout",
     "output_type": "stream",
     "text": [
      "4.05e-05\n"
     ]
    },
    {
     "data": {
      "text/plain": [
       "0.0004005"
      ]
     },
     "execution_count": 73,
     "metadata": {},
     "output_type": "execute_result"
    }
   ],
   "source": [
    "# 0.0004005 => 지수로 표현하기\n",
    "print(405.e-7) #왜 ??????\n",
    "4.005e-4"
   ]
  },
  {
   "cell_type": "code",
   "execution_count": null,
   "id": "0d65f132-b4bd-4972-8442-4663ad6e2881",
   "metadata": {},
   "outputs": [],
   "source": []
  }
 ],
 "metadata": {
  "kernelspec": {
   "display_name": "Python 3 (ipykernel)",
   "language": "python",
   "name": "python3"
  },
  "language_info": {
   "codemirror_mode": {
    "name": "ipython",
    "version": 3
   },
   "file_extension": ".py",
   "mimetype": "text/x-python",
   "name": "python",
   "nbconvert_exporter": "python",
   "pygments_lexer": "ipython3",
   "version": "3.9.7"
  }
 },
 "nbformat": 4,
 "nbformat_minor": 5
}
