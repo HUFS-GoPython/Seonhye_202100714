{
 "cells": [
  {
   "cell_type": "markdown",
   "id": "b1de5545-4c02-4997-be29-8de39b816c1f",
   "metadata": {},
   "source": [
    "## 프로그래밍이란?\n",
    "- programming: 프로그래밍 언어를 사용하여 프로그램을 개발하는 것.\n",
    "- program: 일련의 작업을 자동화하는 것.\n",
    "- python: 프로그래밍 언어 중 하나. 인간이 컴퓨터에게 작업을 명령하기 위해 사용하는 컴퓨터가 이해할 수 있는 언어"
   ]
  },
  {
   "cell_type": "markdown",
   "id": "5f0b429f-ed95-4957-889e-1e1c08a693b4",
   "metadata": {
    "tags": []
   },
   "source": [
    "## Ch2. Data: Types, Values, Variavles, and Names"
   ]
  },
  {
   "cell_type": "code",
   "execution_count": 2,
   "id": "b50261e5-3048-4a08-900a-afcd7ebf2f1d",
   "metadata": {
    "tags": []
   },
   "outputs": [],
   "source": [
    "a = 2"
   ]
  },
  {
   "cell_type": "markdown",
   "id": "d0e966c9-caf4-41e4-bb8e-038cfd36c1d8",
   "metadata": {},
   "source": [
    "- markdown = m+\n",
    "- 변수 | variable (i.e. a): 측정 값을 저장하는 공간\n",
    "- 값 | value: 2\n",
    "- 자료형 | type: 2가 어떤 타입인가? 데이터의 형태. (i.e., integer, int 타입)\n",
    "- 할당하다 | assign: 2를 a에 넣는 과정\n",
    "    - a가 2다??? a ==2 ?(equal)"
   ]
  },
  {
   "cell_type": "code",
   "execution_count": 3,
   "id": "0c4eb780-6cb7-41a8-8a1a-f28a0289e575",
   "metadata": {},
   "outputs": [
    {
     "data": {
      "text/plain": [
       "2"
      ]
     },
     "execution_count": 3,
     "metadata": {},
     "output_type": "execute_result"
    }
   ],
   "source": [
    "a"
   ]
  },
  {
   "cell_type": "code",
   "execution_count": 4,
   "id": "999aa555-03ef-4da5-83c5-da0281600eda",
   "metadata": {},
   "outputs": [
    {
     "data": {
      "text/plain": [
       "True"
      ]
     },
     "execution_count": 4,
     "metadata": {},
     "output_type": "execute_result"
    }
   ],
   "source": [
    "a == 2"
   ]
  },
  {
   "cell_type": "markdown",
   "id": "d8a54fb4-105e-4fe7-9560-6dab8fd0b73c",
   "metadata": {},
   "source": [
    "### 변수의 타입\n",
    "- boolean |불리언: True, False ('bool')\n",
    "- integer |정수: 1, 2, 3, 4, ... ('int')\n",
    "- floating point number|부동소수점: 1.0, 2.0, 0.45, ... ('float')\n",
    "- strint |문자열: \"apple\", 'apple' ('str')"
   ]
  },
  {
   "cell_type": "code",
   "execution_count": 5,
   "id": "6dddaf97-9406-4849-a3dd-1466e91a3989",
   "metadata": {},
   "outputs": [
    {
     "data": {
      "text/plain": [
       "4"
      ]
     },
     "execution_count": 5,
     "metadata": {},
     "output_type": "execute_result"
    }
   ],
   "source": [
    "num = 4\n",
    "4"
   ]
  },
  {
   "cell_type": "code",
   "execution_count": 6,
   "id": "5c9c2df0-edd3-4922-a5b5-f3ec782fddd8",
   "metadata": {},
   "outputs": [
    {
     "name": "stdout",
     "output_type": "stream",
     "text": [
      "4\n"
     ]
    }
   ],
   "source": [
    "print(num)"
   ]
  },
  {
   "cell_type": "code",
   "execution_count": 7,
   "id": "1dc2733e-0cd2-4591-888a-6f8bb75118a0",
   "metadata": {},
   "outputs": [
    {
     "data": {
      "text/plain": [
       "float"
      ]
     },
     "execution_count": 7,
     "metadata": {},
     "output_type": "execute_result"
    }
   ],
   "source": [
    "type(1.0)"
   ]
  },
  {
   "cell_type": "code",
   "execution_count": 8,
   "id": "f5fd960f-cac1-4c85-b354-0d7983b33eeb",
   "metadata": {},
   "outputs": [
    {
     "data": {
      "text/plain": [
       "bool"
      ]
     },
     "execution_count": 8,
     "metadata": {},
     "output_type": "execute_result"
    }
   ],
   "source": [
    "type(a==2)"
   ]
  },
  {
   "cell_type": "code",
   "execution_count": 10,
   "id": "95cc5e33-0cc2-494e-b792-73dd0e0406d8",
   "metadata": {},
   "outputs": [
    {
     "name": "stdout",
     "output_type": "stream",
     "text": [
      "my name\n"
     ]
    }
   ],
   "source": [
    "name = 'my name'\n",
    "print(name)"
   ]
  },
  {
   "cell_type": "code",
   "execution_count": 11,
   "id": "b325e1e6-c9d0-40d5-8949-dce354d2c077",
   "metadata": {},
   "outputs": [
    {
     "data": {
      "text/plain": [
       "str"
      ]
     },
     "execution_count": 11,
     "metadata": {},
     "output_type": "execute_result"
    }
   ],
   "source": [
    "type(name)"
   ]
  },
  {
   "cell_type": "code",
   "execution_count": 12,
   "id": "f0606d46-1b2b-4503-aa87-2e4a63f4744f",
   "metadata": {},
   "outputs": [
    {
     "ename": "SyntaxError",
     "evalue": "invalid syntax (1693147461.py, line 1)",
     "output_type": "error",
     "traceback": [
      "\u001b[0;36m  File \u001b[0;32m\"/var/folders/yf/zwysv3jn4tb_p89k89zby_040000gn/T/ipykernel_21551/1693147461.py\"\u001b[0;36m, line \u001b[0;32m1\u001b[0m\n\u001b[0;31m    my name\u001b[0m\n\u001b[0m       ^\u001b[0m\n\u001b[0;31mSyntaxError\u001b[0m\u001b[0;31m:\u001b[0m invalid syntax\n"
     ]
    }
   ],
   "source": [
    "my name"
   ]
  },
  {
   "cell_type": "code",
   "execution_count": 13,
   "id": "89384854-3eef-4a15-98e0-8bf0fe55f537",
   "metadata": {},
   "outputs": [
    {
     "ename": "NameError",
     "evalue": "name 'my_name' is not defined",
     "output_type": "error",
     "traceback": [
      "\u001b[0;31m---------------------------------------------------------------------------\u001b[0m",
      "\u001b[0;31mNameError\u001b[0m                                 Traceback (most recent call last)",
      "\u001b[0;32m/var/folders/yf/zwysv3jn4tb_p89k89zby_040000gn/T/ipykernel_21551/2445437738.py\u001b[0m in \u001b[0;36m<module>\u001b[0;34m\u001b[0m\n\u001b[0;32m----> 1\u001b[0;31m \u001b[0mmy_name\u001b[0m \u001b[0;31m# 변수명으로 인식. 없는 변수 -> 에러\u001b[0m\u001b[0;34m\u001b[0m\u001b[0;34m\u001b[0m\u001b[0m\n\u001b[0m",
      "\u001b[0;31mNameError\u001b[0m: name 'my_name' is not defined"
     ]
    }
   ],
   "source": [
    "my_name # 변수명으로 인식. 없는 변수 -> 에러"
   ]
  },
  {
   "cell_type": "code",
   "execution_count": 14,
   "id": "7a372de8-74e4-4f8d-ab5e-0b93504ed15c",
   "metadata": {},
   "outputs": [
    {
     "ename": "SyntaxError",
     "evalue": "invalid syntax (2456260329.py, line 1)",
     "output_type": "error",
     "traceback": [
      "\u001b[0;36m  File \u001b[0;32m\"/var/folders/yf/zwysv3jn4tb_p89k89zby_040000gn/T/ipykernel_21551/2456260329.py\"\u001b[0;36m, line \u001b[0;32m1\u001b[0m\n\u001b[0;31m    'I'm Sam.'\u001b[0m\n\u001b[0m       ^\u001b[0m\n\u001b[0;31mSyntaxError\u001b[0m\u001b[0;31m:\u001b[0m invalid syntax\n"
     ]
    }
   ],
   "source": [
    "'I'm Sam.'"
   ]
  },
  {
   "cell_type": "code",
   "execution_count": 15,
   "id": "3dd651db-86aa-437c-a960-97331a03d1f0",
   "metadata": {},
   "outputs": [],
   "source": [
    "# single quote 안에 single quote를 문자로 인식하는 방법"
   ]
  },
  {
   "cell_type": "code",
   "execution_count": 17,
   "id": "f9da208e-bfc2-4a74-ad5b-997c229a8f68",
   "metadata": {},
   "outputs": [
    {
     "name": "stdout",
     "output_type": "stream",
     "text": [
      "I'm Sam.\n",
      "I'm Sam.\n"
     ]
    }
   ],
   "source": [
    "#1. \\ 사용\n",
    "print ('I\\'m Sam.')\n",
    "\n",
    "#2. \" 사용\n",
    "print (\"I'm Sam.\")"
   ]
  },
  {
   "cell_type": "markdown",
   "id": "7ddfabf5-0eb7-4c32-9df0-868b65ec70f7",
   "metadata": {},
   "source": [
    "### 변수명 정하기\n",
    "-소문자, 대문자, 숫자, 언더바(_) 사용한다.\n",
    "    - 예: 'name', 'my_name','NAME', 'Name', 'name3'\n",
    "    - 불가능한 예: 'my-name', '3name'\n",
    "\n",
    "- 변수명으로 사용할 수 없는 케이스\n",
    "    1. 숫자로 시작할 수 없다\n",
    "    2. 예약어는 사용할 수 없다. (true, false 처럼 문법을 위해 사용하는 단어)"
   ]
  },
  {
   "cell_type": "code",
   "execution_count": 18,
   "id": "fcfa6054-16b1-4256-890f-7f6997164d74",
   "metadata": {},
   "outputs": [
    {
     "data": {
      "text/plain": [
       "'lee'"
      ]
     },
     "execution_count": 18,
     "metadata": {},
     "output_type": "execute_result"
    }
   ],
   "source": [
    "name = 'lee'\n",
    "name"
   ]
  },
  {
   "cell_type": "code",
   "execution_count": 19,
   "id": "93b9aaf2-38c0-4dc3-b865-989711acffea",
   "metadata": {},
   "outputs": [
    {
     "ename": "SyntaxError",
     "evalue": "invalid syntax (3795805621.py, line 1)",
     "output_type": "error",
     "traceback": [
      "\u001b[0;36m  File \u001b[0;32m\"/var/folders/yf/zwysv3jn4tb_p89k89zby_040000gn/T/ipykernel_21551/3795805621.py\"\u001b[0;36m, line \u001b[0;32m1\u001b[0m\n\u001b[0;31m    3name ='kim'\u001b[0m\n\u001b[0m     ^\u001b[0m\n\u001b[0;31mSyntaxError\u001b[0m\u001b[0;31m:\u001b[0m invalid syntax\n"
     ]
    }
   ],
   "source": [
    "3name ='kim' # 숫자는 변수명 맨 앞에 올 수 없다."
   ]
  },
  {
   "cell_type": "code",
   "execution_count": 20,
   "id": "47c3ad8b-c0cb-47e6-b782-292d711a035d",
   "metadata": {},
   "outputs": [
    {
     "ename": "SyntaxError",
     "evalue": "invalid syntax (1868589236.py, line 1)",
     "output_type": "error",
     "traceback": [
      "\u001b[0;36m  File \u001b[0;32m\"/var/folders/yf/zwysv3jn4tb_p89k89zby_040000gn/T/ipykernel_21551/1868589236.py\"\u001b[0;36m, line \u001b[0;32m1\u001b[0m\n\u001b[0;31m    def = 'Hwang' #예약어는 변수명으로 사용할 수 없다.\u001b[0m\n\u001b[0m        ^\u001b[0m\n\u001b[0;31mSyntaxError\u001b[0m\u001b[0;31m:\u001b[0m invalid syntax\n"
     ]
    }
   ],
   "source": [
    "def = 'Hwang' #예약어는 변수명으로 사용할 수 없다."
   ]
  },
  {
   "cell_type": "code",
   "execution_count": 24,
   "id": "78bcef94-e088-46ab-bd76-2ce04b8bd470",
   "metadata": {},
   "outputs": [
    {
     "name": "stdout",
     "output_type": "stream",
     "text": [
      "\n",
      "Here is a list of the Python keywords.  Enter any keyword to get more help.\n",
      "\n",
      "False               break               for                 not\n",
      "None                class               from                or\n",
      "True                continue            global              pass\n",
      "__peg_parser__      def                 if                  raise\n",
      "and                 del                 import              return\n",
      "as                  elif                in                  try\n",
      "assert              else                is                  while\n",
      "async               except              lambda              with\n",
      "await               finally             nonlocal            yield\n",
      "\n"
     ]
    }
   ],
   "source": [
    "help(\"keywords\")"
   ]
  },
  {
   "cell_type": "markdown",
   "id": "259f1c12-4200-4c5b-a38e-ecf78a2bffbb",
   "metadata": {},
   "source": [
    "- 주의할 점 (특별한 용도가 있어서 일반적으로 사용하지 않는 변수명 타입)\n",
    "    1. 언더바로 시작하는 변수명\n",
    "        예: _name\n",
    "    2. 언더바가 2개 있는 변수명\n",
    "        예: __name__\n",
    "    3. 대문자로 시작하는 변수명\n",
    "        예: Car\n",
    "    4. 전체가 대문자인 변수명\n",
    "        예: CAR"
   ]
  },
  {
   "cell_type": "code",
   "execution_count": 21,
   "id": "2c398538-1fdb-4a56-9101-9d3b3d4544e4",
   "metadata": {},
   "outputs": [],
   "source": [
    "# number != Number\n",
    "word1 = 'number'\n",
    "word2 = 'Number'"
   ]
  },
  {
   "cell_type": "code",
   "execution_count": 22,
   "id": "d2689ca6-43cf-4fdf-9186-25576ef764b1",
   "metadata": {},
   "outputs": [
    {
     "data": {
      "text/plain": [
       "False"
      ]
     },
     "execution_count": 22,
     "metadata": {},
     "output_type": "execute_result"
    }
   ],
   "source": [
    "word1 == word2 # 대소문자 구분한다."
   ]
  },
  {
   "cell_type": "code",
   "execution_count": 23,
   "id": "bdc9c1c2-f383-4e07-9b93-9b6eedd54b5b",
   "metadata": {},
   "outputs": [
    {
     "data": {
      "text/plain": [
       "True"
      ]
     },
     "execution_count": 23,
     "metadata": {},
     "output_type": "execute_result"
    }
   ],
   "source": [
    "word1 != word2 #(부정한다는 의미의 느낌표)"
   ]
  },
  {
   "cell_type": "markdown",
   "id": "a5e5a7e7-b255-41a7-9e79-6154c19b47de",
   "metadata": {
    "tags": []
   },
   "source": [
    "### 할당하기\n",
    "- 수학에서는 =가 양변이 같음을 의미하는데, 프로그램에서는 할당을 의미한다.\n",
    "    예: 'name = 'leel''\n",
    "    - lee라는 값을 name에 넣는 것.\n",
    "- 오른쪽에 있는 모든 것은 값을 가져야 한다. (\"초기화\")\n",
    "- 변수 타입은 따로 지정하지 않는다."
   ]
  },
  {
   "cell_type": "code",
   "execution_count": 25,
   "id": "66090adf-205c-4398-84a6-096e8c8d071a",
   "metadata": {},
   "outputs": [],
   "source": [
    "car = 'hyundai'"
   ]
  },
  {
   "cell_type": "code",
   "execution_count": 26,
   "id": "b24b5693-5b4b-438d-9022-a34a5f4b6e90",
   "metadata": {},
   "outputs": [
    {
     "ename": "NameError",
     "evalue": "name 'kia' is not defined",
     "output_type": "error",
     "traceback": [
      "\u001b[0;31m---------------------------------------------------------------------------\u001b[0m",
      "\u001b[0;31mNameError\u001b[0m                                 Traceback (most recent call last)",
      "\u001b[0;32m/var/folders/yf/zwysv3jn4tb_p89k89zby_040000gn/T/ipykernel_21551/1796869399.py\u001b[0m in \u001b[0;36m<module>\u001b[0;34m\u001b[0m\n\u001b[0;32m----> 1\u001b[0;31m \u001b[0mtruck\u001b[0m \u001b[0;34m=\u001b[0m \u001b[0mkia\u001b[0m \u001b[0;31m#없는 값 이기 때문에\u001b[0m\u001b[0;34m\u001b[0m\u001b[0;34m\u001b[0m\u001b[0m\n\u001b[0m",
      "\u001b[0;31mNameError\u001b[0m: name 'kia' is not defined"
     ]
    }
   ],
   "source": [
    "truck = kia #없는 값 이기 때문에"
   ]
  },
  {
   "cell_type": "code",
   "execution_count": 27,
   "id": "93e618a5-cb43-4266-aed9-a610a7d8258c",
   "metadata": {},
   "outputs": [],
   "source": [
    "kia = 'kia'\n",
    "truck = kia"
   ]
  },
  {
   "cell_type": "code",
   "execution_count": 28,
   "id": "31ad5ff1-5bf1-4f21-b280-f17d2aa199f3",
   "metadata": {},
   "outputs": [
    {
     "ename": "NameError",
     "evalue": "name 'x' is not defined",
     "output_type": "error",
     "traceback": [
      "\u001b[0;31m---------------------------------------------------------------------------\u001b[0m",
      "\u001b[0;31mNameError\u001b[0m                                 Traceback (most recent call last)",
      "\u001b[0;32m/var/folders/yf/zwysv3jn4tb_p89k89zby_040000gn/T/ipykernel_21551/1029541401.py\u001b[0m in \u001b[0;36m<module>\u001b[0;34m\u001b[0m\n\u001b[0;32m----> 1\u001b[0;31m \u001b[0my\u001b[0m \u001b[0;34m=\u001b[0m \u001b[0mx\u001b[0m \u001b[0;34m+\u001b[0m \u001b[0;36m10\u001b[0m\u001b[0;34m\u001b[0m\u001b[0;34m\u001b[0m\u001b[0m\n\u001b[0m",
      "\u001b[0;31mNameError\u001b[0m: name 'x' is not defined"
     ]
    }
   ],
   "source": [
    "y = x + 10"
   ]
  },
  {
   "cell_type": "code",
   "execution_count": 29,
   "id": "e22a5ba1-7750-4f86-9e53-2535d3516778",
   "metadata": {},
   "outputs": [
    {
     "name": "stdout",
     "output_type": "stream",
     "text": [
      "2 12\n"
     ]
    }
   ],
   "source": [
    "x = 2\n",
    "y = x + 10 # name 'x' is not defined\n",
    "print (x, y)"
   ]
  },
  {
   "cell_type": "code",
   "execution_count": 30,
   "id": "c412121e-7cf4-4ffe-a998-82fe4c4a3f86",
   "metadata": {},
   "outputs": [
    {
     "data": {
      "text/plain": [
       "str"
      ]
     },
     "execution_count": 30,
     "metadata": {},
     "output_type": "execute_result"
    }
   ],
   "source": [
    "type (car) #str"
   ]
  },
  {
   "cell_type": "code",
   "execution_count": 32,
   "id": "8a099d74-0549-4e00-87a0-c387a9e88746",
   "metadata": {},
   "outputs": [],
   "source": [
    "# str car = 'kia' / 다른 언어에서는 타입을 지정해주어야 함\n",
    "car = 'kia'"
   ]
  },
  {
   "cell_type": "code",
   "execution_count": 33,
   "id": "094de98a-aced-4287-ad63-605d6329443c",
   "metadata": {},
   "outputs": [
    {
     "data": {
      "text/plain": [
       "'kia'"
      ]
     },
     "execution_count": 33,
     "metadata": {},
     "output_type": "execute_result"
    }
   ],
   "source": [
    "car"
   ]
  },
  {
   "cell_type": "code",
   "execution_count": null,
   "id": "eccf1031-a4ce-4746-adc1-88fa66b55895",
   "metadata": {},
   "outputs": [],
   "source": []
  }
 ],
 "metadata": {
  "kernelspec": {
   "display_name": "Python 3 (ipykernel)",
   "language": "python",
   "name": "python3"
  },
  "language_info": {
   "codemirror_mode": {
    "name": "ipython",
    "version": 3
   },
   "file_extension": ".py",
   "mimetype": "text/x-python",
   "name": "python",
   "nbconvert_exporter": "python",
   "pygments_lexer": "ipython3",
   "version": "3.9.7"
  }
 },
 "nbformat": 4,
 "nbformat_minor": 5
}
