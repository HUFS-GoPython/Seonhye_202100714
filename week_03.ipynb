{
 "cells": [
  {
   "cell_type": "markdown",
   "id": "061d1c72-ecd9-4167-8ead-98a3d4a763b8",
   "metadata": {},
   "source": [
    "# 중첩조건문\n",
    "- nested donditional\n",
    "- if 블록 안에 또다른 if 블록이 있는 경우에 들여쓰기로 논리를 구분한다."
   ]
  },
  {
   "cell_type": "code",
   "execution_count": 2,
   "id": "1a5d3e13-a4a4-4eb6-83d0-ca98fb6fc31e",
   "metadata": {},
   "outputs": [
    {
     "name": "stdout",
     "output_type": "stream",
     "text": [
      "Block B\n"
     ]
    }
   ],
   "source": [
    "# 보기 복잡해서 안 좋은 예시\n",
    "\n",
    "x = 0\n",
    "y = 1\n",
    "if x == y:\n",
    "    print('Block A')\n",
    "else:\n",
    "    if x < y:\n",
    "        print('Block B')\n",
    "    else:\n",
    "        print('Block C')"
   ]
  },
  {
   "cell_type": "code",
   "execution_count": 3,
   "id": "33fa5ed0-cd8e-4357-8cce-509f4961f6f5",
   "metadata": {},
   "outputs": [
    {
     "name": "stdout",
     "output_type": "stream",
     "text": [
      "Block C\n"
     ]
    }
   ],
   "source": [
    "# 0 < x < 10\n",
    "\n",
    "if x > 0:\n",
    "    if x < 10:\n",
    "        print('Block A')\n",
    "    else:\n",
    "        print('Block B')\n",
    "else:\n",
    "    print('Block C')"
   ]
  },
  {
   "cell_type": "code",
   "execution_count": 6,
   "id": "462a63a7-5d33-49d8-a03d-b065c9893a58",
   "metadata": {},
   "outputs": [
    {
     "name": "stdout",
     "output_type": "stream",
     "text": [
      "Block B\n"
     ]
    }
   ],
   "source": [
    "if x == y:\n",
    "    print('Block A')\n",
    "    #Block a\n",
    "elif x < y:\n",
    "    print('Block B')\n",
    "    #Block b\n",
    "else:\n",
    "    print('Block C')\n",
    "    #Block c"
   ]
  },
  {
   "cell_type": "markdown",
   "id": "aca3a466-7ab1-463c-9cdd-c14bdd85f78d",
   "metadata": {},
   "source": [
    "### 논리연산자\n",
    "- 비교연산자가 여러번 사용될 때 사용하는 것\n",
    "- and, or, not\n",
    "    - A and B: A도 참이고, B도 참일 때 True\n",
    "        - 예: A & B\n",
    "    - A or B: A 혹은 B, 둘중 하나만 참이면 True\n",
    "        - 예: A|B\n",
    "    - not A: A가 False -> True, True -> False\n",
    "- 비교연산자의 괄호는 가독성을 위해 (옵션임 선택하셈)\n",
    "- 파이썬에서만 가능한 표현: 0 < x < 10"
   ]
  },
  {
   "cell_type": "markdown",
   "id": "ffbbf83f-4221-4799-b357-dd80d562d358",
   "metadata": {},
   "source": [
    "### True, False\n",
    "- '만약 a가 참이라면, ...'\n",
    "- a = True"
   ]
  },
  {
   "cell_type": "code",
   "execution_count": 10,
   "id": "eaf00f3f-fc3b-4d59-a554-e72afa0bb0ea",
   "metadata": {},
   "outputs": [
    {
     "name": "stdout",
     "output_type": "stream",
     "text": [
      "\n"
     ]
    }
   ],
   "source": [
    "if a:\n",
    "    print()\n",
    "    \n",
    "#if a == True: 라는 뜻을 if a: 이 가지고 있음"
   ]
  },
  {
   "cell_type": "markdown",
   "id": "8672fe85-1620-4f80-acc9-4a4c6aa1ec90",
   "metadata": {},
   "source": [
    "### in\n",
    "- membership operator\n",
    "- 어떤 요소가 그 안에 있는지 확인하고 싶다\n",
    "- 비슷한 조건이 여러번 반복될 때 사용 가능"
   ]
  },
  {
   "cell_type": "code",
   "execution_count": 13,
   "id": "e01c5d63-3d9b-41d8-86e7-dff0dbe8a24d",
   "metadata": {},
   "outputs": [
    {
     "name": "stdout",
     "output_type": "stream",
     "text": [
      "No\n",
      "No\n"
     ]
    }
   ],
   "source": [
    "letter = 'abcde'\n",
    "\n",
    "# letter가 모음인지 확인하고 싶다: a, e, i, o, u\n",
    "# if letter == 'a' or letter == 'e' ...\n",
    "\n",
    "if letter == 'a' or letter == 'e' or letter == 'i' or letter == 'o' or letter == 'u':\n",
    "    print('Yes')\n",
    "else:\n",
    "    print('No')\n",
    "\n",
    "# 위의 식을 간결하게 나타낼 수 있는게 in\n",
    "if letter in ['a','e','i','o','u']: #리스트 요소 안에 letter와 일치하는 것이 있는가\n",
    "    print('Yes')\n",
    "else:\n",
    "    print('No')"
   ]
  },
  {
   "cell_type": "code",
   "execution_count": 15,
   "id": "6a45c711-e9f9-4c9b-b0e8-a2eeb8e7dc72",
   "metadata": {},
   "outputs": [
    {
     "name": "stdout",
     "output_type": "stream",
     "text": [
      "Yes\n"
     ]
    }
   ],
   "source": [
    "if letter in ['abcde']:\n",
    "    print('Yes')\n",
    "else:\n",
    "    print('No')"
   ]
  },
  {
   "cell_type": "code",
   "execution_count": 17,
   "id": "02e86b0b-09a1-4f03-a0f4-e668d8f3e490",
   "metadata": {},
   "outputs": [
    {
     "name": "stdout",
     "output_type": "stream",
     "text": [
      "Yes\n",
      "No\n"
     ]
    }
   ],
   "source": [
    "word = 'abcde'\n",
    "\n",
    "#if 로 해서 풀어보기\n",
    "#word 에 모음이 있는지 확인\n",
    "\n",
    "#다른 학우분\n",
    "if 'a'or'e'or'i'or'o'or'u' in word:\n",
    "    print('Yes')\n",
    "else:\n",
    "    print('No')\n",
    "    \n",
    "    \n",
    "#abcde == a,b, ... / abcde가 a와 같냐는 질문\n",
    "if word in ['a','e','i','o','u']: \n",
    "    print('Yes')\n",
    "else: print('No')"
   ]
  },
  {
   "cell_type": "code",
   "execution_count": 18,
   "id": "81a47021-1cd5-4dd9-b46e-ad15695c46e7",
   "metadata": {},
   "outputs": [
    {
     "name": "stdout",
     "output_type": "stream",
     "text": [
      "No\n"
     ]
    },
    {
     "data": {
      "text/plain": [
       "tuple"
      ]
     },
     "execution_count": 18,
     "metadata": {},
     "output_type": "execute_result"
    }
   ],
   "source": [
    "#에러\n",
    "vowel = 'a','e','i','o','u'\n",
    "\n",
    "if vowel in ['a','b','c','d','e']:\n",
    "    print('Yes')\n",
    "else:\n",
    "    print('No')\n",
    "    \n",
    "type(vowel) #타입이 다름"
   ]
  },
  {
   "cell_type": "code",
   "execution_count": 19,
   "id": "1b97193d-ddc1-47c6-8a91-5d19c7f21af6",
   "metadata": {},
   "outputs": [],
   "source": [
    "#for loop => pass"
   ]
  },
  {
   "cell_type": "markdown",
   "id": "3b63f3a7-206a-4d4f-b0eb-41197099faca",
   "metadata": {},
   "source": [
    "### 바다코끼리 연산자\n",
    "- walrus operator\n",
    "- 할당과 테스트를 동시에 하는 기능\n",
    "- :="
   ]
  },
  {
   "cell_type": "markdown",
   "id": "7fa0c3fc-2246-4d25-941b-4b996873f330",
   "metadata": {},
   "source": [
    "### 바다코끼리 연산자\n",
    "- walrus operator\n",
    "- 할당과 테스트를 동시에 하는 기능\n",
    "- :="
   ]
  },
  {
   "cell_type": "code",
   "execution_count": 21,
   "id": "ed18fdba-523d-4ed8-9c84-daa7c3f9e9f7",
   "metadata": {},
   "outputs": [
    {
     "data": {
      "text/plain": [
       "'blahblahblahblahblahblahblahblahblahblahblahblahblahblahblahblahblahblahblahblahblahblahblahblahblahblahblahblahblahblahblahblahblahblahblahblahblahblahblahblahblahblahblahblahblahblahblahblahblahblah'"
      ]
     },
     "execution_count": 21,
     "metadata": {},
     "output_type": "execute_result"
    }
   ],
   "source": [
    "tweet_limit = 200\n",
    "tweet_string = 'blah' * 50 #공백없이 스트링 50개\n",
    "tweet_string"
   ]
  },
  {
   "cell_type": "code",
   "execution_count": 26,
   "id": "ff0d1468-dfc3-4353-b2ce-80e8b0085811",
   "metadata": {},
   "outputs": [
    {
     "name": "stdout",
     "output_type": "stream",
     "text": [
      "불가능\n",
      "불가능\n"
     ]
    }
   ],
   "source": [
    "diff = tweet_limit - len(tweet_string)\n",
    "if diff > 0:\n",
    "    print('가능')\n",
    "else: print('불가능')\n",
    "\n",
    "if diff := tweet_limit - len(tweet_string) > 0:\n",
    "    print('가능')\n",
    "else:\n",
    "    print('불가능')"
   ]
  },
  {
   "cell_type": "markdown",
   "id": "5d33c357-450c-450a-872b-3b91cf22b563",
   "metadata": {},
   "source": [
    "### Quiz\n",
    "- 윤년을 구하는 코드를 짜보자\n",
    "    - 연도가 4로 나눠떨어지면 윤년\n",
    "    - 100으로 나눠떨어지면 안된다.\n",
    "    - 400으로 나눠떨어지는 것은 가능하다\n",
    "    \n",
    "- year를 입력받는다.\n",
    "- '{}년은 윤년입니다.'/\"{}년은 윤년이 아닙니다.\""
   ]
  },
  {
   "cell_type": "code",
   "execution_count": 32,
   "id": "7e5bbf40-d959-4399-b24b-ac1cededf2e7",
   "metadata": {},
   "outputs": [
    {
     "name": "stdin",
     "output_type": "stream",
     "text": [
      "년도를 입력하시오:  1717\n"
     ]
    },
    {
     "name": "stdout",
     "output_type": "stream",
     "text": [
      "1717년은 윤년이 아닙니다.\n"
     ]
    }
   ],
   "source": [
    "year = int(input('년도를 입력하시오: '))\n",
    "\n",
    "'''\n",
    "if (year % 4 == 0) or (year % 100 != 0):\n",
    "        print(f'{year}년은 윤년입니다.')\n",
    "        if year % 400 == 0:\n",
    "            print(f'{year}년은 윤년입니다.')\n",
    "        else:\n",
    "            print(f'{year}년은 윤년이 아닙니다.')\n",
    "else:\n",
    "    print(f'{year}년은 윤년이 아닙니다.')\n",
    "    \n",
    "논리 구조,,?가 잘못되었음. (year % 4 == 0) or (year % 100 != 0)로 들어가서 400으로 나눠떨어지거나 아니거나 한 다음에\n",
    "첫번째 if 가 아닌 상황으로 넘어가게 코드를 짬\n",
    "'''\n",
    "\n",
    "if (year % 4 == 0) and (year % 100 != 0):\n",
    "        print(f'{year}년은 윤년입니다.')\n",
    "elif year % 400 == 0:\n",
    "            print(f'{year}년은 윤년입니다.')\n",
    "else:\n",
    "    print(f'{year}년은 윤년이 아닙니다.')"
   ]
  },
  {
   "cell_type": "markdown",
   "id": "4cdee5fb-d375-4fdf-8964-226beeb2629e",
   "metadata": {},
   "source": [
    "## string | 문자열\n",
    "- str type\n",
    "- 시스템에서 가장 작은 단위 a /시스템에서 차지하는 단위가 가장 작다는 의미\n",
    "- 불변적인 성격을 가짐 (immutable)\n",
    "    - 'abcd' -> b 를 a로 바꿀 수 없다. / aacd 불가능하다는 얘기\n",
    "- 문법: '', \"\" 감싸면 모두 문자열\n",
    "    - 예: '24'\n",
    "- ''' or \"\"\" => 주석\n",
    "- 형 변환은 str()\n",
    "\n",
    "## Escape character | 이스케이프 문자\n",
    "- 눈에 보이는 대로 인식되지 않는 문자열\n",
    "- 문법: \\ + <character>\n",
    "- \\n, \\t, \\b, \\'\n",
    "- print() 함수 쓰지 않으면 형태가 출력은 된다\n",
    "- '\\n' 출력은 어떻게?\n",
    "    - \\\\n\n",
    "    - r'' (raw string)\n",
    "- 문자열을 바꾸는 것이 아니라 표면상의 형태를 말하는 것"
   ]
  },
  {
   "cell_type": "code",
   "execution_count": 33,
   "id": "ab93e028-eabe-489f-8551-e452ea4b5ebe",
   "metadata": {},
   "outputs": [
    {
     "name": "stdout",
     "output_type": "stream",
     "text": [
      "hello\n",
      "world\n"
     ]
    }
   ],
   "source": [
    "print(\"hello\\nworld\")"
   ]
  },
  {
   "cell_type": "code",
   "execution_count": 34,
   "id": "0539e156-17c8-4d09-962a-e8bb489c386a",
   "metadata": {},
   "outputs": [
    {
     "name": "stdout",
     "output_type": "stream",
     "text": [
      "hello\tworld\n"
     ]
    }
   ],
   "source": [
    "print(\"hello\\tworld\")"
   ]
  },
  {
   "cell_type": "code",
   "execution_count": 35,
   "id": "169591fd-b8ca-4254-a754-40a8c44d251b",
   "metadata": {},
   "outputs": [
    {
     "name": "stdout",
     "output_type": "stream",
     "text": [
      "hellworld\n"
     ]
    }
   ],
   "source": [
    "print(\"hello\\bworld\") # 잘 사용하지 않음"
   ]
  },
  {
   "cell_type": "code",
   "execution_count": 36,
   "id": "372f8140-fdeb-4904-b59b-785cefb7f914",
   "metadata": {},
   "outputs": [
    {
     "name": "stdout",
     "output_type": "stream",
     "text": [
      "hello'world\n"
     ]
    }
   ],
   "source": [
    "print('hello\\'world') #' 을 문자열로 인식하게"
   ]
  },
  {
   "cell_type": "code",
   "execution_count": 37,
   "id": "e300178a-5c54-4c91-a019-4a085d45ab0e",
   "metadata": {},
   "outputs": [
    {
     "name": "stdout",
     "output_type": "stream",
     "text": [
      "hello\tworld\n"
     ]
    },
    {
     "data": {
      "text/plain": [
       "'hello\\tworld'"
      ]
     },
     "execution_count": 37,
     "metadata": {},
     "output_type": "execute_result"
    }
   ],
   "source": [
    "sent = 'hello\\tworld'\n",
    "print(sent)\n",
    "sent #print 를 안 쓰면 실행은 안됨"
   ]
  },
  {
   "cell_type": "markdown",
   "id": "61204364-9361-4413-80f0-63acbdac1ee0",
   "metadata": {},
   "source": [
    "### 연산\n",
    "- concatenation (+)\n",
    "    - '' + '' => 붙이기\n",
    "- 복제 (*)\n",
    "    - \" *4 => 4번 반복"
   ]
  },
  {
   "cell_type": "code",
   "execution_count": 43,
   "id": "d8191041-9095-41ea-8db0-2e03aa9aa522",
   "metadata": {},
   "outputs": [
    {
     "data": {
      "text/plain": [
       "'brainbrain'"
      ]
     },
     "execution_count": 43,
     "metadata": {},
     "output_type": "execute_result"
    }
   ],
   "source": [
    "word = 'brain' # 공백없이 붙는다. 꼭 기억\n",
    "word + word"
   ]
  },
  {
   "cell_type": "code",
   "execution_count": 44,
   "id": "b2f6e319-caef-45a7-809f-5324e474ae13",
   "metadata": {},
   "outputs": [
    {
     "data": {
      "text/plain": [
       "'My name isJake'"
      ]
     },
     "execution_count": 44,
     "metadata": {},
     "output_type": "execute_result"
    }
   ],
   "source": [
    "\"My name is\" + \"Jake\""
   ]
  },
  {
   "cell_type": "code",
   "execution_count": 39,
   "id": "89ecfe3a-dbe2-4903-a5eb-d23cc4e0620f",
   "metadata": {},
   "outputs": [
    {
     "data": {
      "text/plain": [
       "'brainbrainbrainbrain'"
      ]
     },
     "execution_count": 39,
     "metadata": {},
     "output_type": "execute_result"
    }
   ],
   "source": [
    "word*4"
   ]
  },
  {
   "cell_type": "markdown",
   "id": "c5ac5546-d9c7-453b-9e6e-9b3fb853a6be",
   "metadata": {},
   "source": [
    "### Slicing\n",
    "- 지정 범위의 문자열을 수출하는 것\n",
    "- 문법: 대괄호 + 오프셋 이용 [offset]\n",
    "    - [start:end:step]\n",
    "- 오프셋은 0부터 시작    \n",
    "- start 는 포함이고 end는 불포함임. start 이상이고 end 미만이다.\n",
    "- 0일 경우 생략한다.\n",
    "    - 예: ~4까지 출력하라 => [:5]\n",
    "    - 처음부터 끝까지 2스텝씩 => [::2]\n",
    "    - 처음부터 끝까지 역순으로 찍기 => [::-1]\n",
    "- 오프셋은 음수로도 가능하다."
   ]
  },
  {
   "cell_type": "code",
   "execution_count": 45,
   "id": "547fbc14-422d-4362-bc29-1effc9df4dba",
   "metadata": {},
   "outputs": [
    {
     "data": {
      "text/plain": [
       "('hello\\tworld', 'e')"
      ]
     },
     "execution_count": 45,
     "metadata": {},
     "output_type": "execute_result"
    }
   ],
   "source": [
    "sent, sent[1] #두번째 글자(character)"
   ]
  },
  {
   "cell_type": "code",
   "execution_count": 46,
   "id": "387d7b62-cf66-4277-9433-1a993521423b",
   "metadata": {},
   "outputs": [
    {
     "data": {
      "text/plain": [
       "'hello\\tworld'"
      ]
     },
     "execution_count": 46,
     "metadata": {},
     "output_type": "execute_result"
    }
   ],
   "source": [
    "sent"
   ]
  },
  {
   "cell_type": "code",
   "execution_count": 47,
   "id": "be277b02-c104-40c9-b4e7-0c804c7da889",
   "metadata": {},
   "outputs": [
    {
     "data": {
      "text/plain": [
       "'l'"
      ]
     },
     "execution_count": 47,
     "metadata": {},
     "output_type": "execute_result"
    }
   ],
   "source": [
    "sent[3:4]"
   ]
  },
  {
   "cell_type": "code",
   "execution_count": 48,
   "id": "972a3f31-b7b0-4bc0-999b-6553093e53e6",
   "metadata": {},
   "outputs": [
    {
     "data": {
      "text/plain": [
       "('hell', 'hell', 'hello')"
      ]
     },
     "execution_count": 48,
     "metadata": {},
     "output_type": "execute_result"
    }
   ],
   "source": [
    "# 처음부터 4까지\n",
    "sent[0:4], sent[:4], sent[:5]"
   ]
  },
  {
   "cell_type": "code",
   "execution_count": 49,
   "id": "88794e31-e23a-46d5-bc5a-a87c93f2f5f6",
   "metadata": {},
   "outputs": [
    {
     "data": {
      "text/plain": [
       "11"
      ]
     },
     "execution_count": 49,
     "metadata": {},
     "output_type": "execute_result"
    }
   ],
   "source": [
    "sent2 = 'hello world'\n",
    "len(sent2) #length (공백까지 포함해줌)"
   ]
  },
  {
   "cell_type": "code",
   "execution_count": 50,
   "id": "1562f210-2149-4b56-8e49-677de4fbe626",
   "metadata": {},
   "outputs": [
    {
     "data": {
      "text/plain": [
       "'hlowrd'"
      ]
     },
     "execution_count": 50,
     "metadata": {},
     "output_type": "execute_result"
    }
   ],
   "source": [
    "# 처음부터 끝까지 2스텝씩 출력하기\n",
    "sent2[::2]"
   ]
  },
  {
   "cell_type": "code",
   "execution_count": 51,
   "id": "1a7f4de8-84d6-4540-9d3f-a37c3e188fbb",
   "metadata": {},
   "outputs": [
    {
     "data": {
      "text/plain": [
       "'dlrow olleh'"
      ]
     },
     "execution_count": 51,
     "metadata": {},
     "output_type": "execute_result"
    }
   ],
   "source": [
    "sent2[::-1]"
   ]
  },
  {
   "cell_type": "code",
   "execution_count": 52,
   "id": "03428967-ac32-4da7-96f8-9731e8b96758",
   "metadata": {},
   "outputs": [],
   "source": [
    "hello = 'hello'"
   ]
  },
  {
   "cell_type": "code",
   "execution_count": 53,
   "id": "044641c2-ebdc-4b91-810e-0410a897d153",
   "metadata": {},
   "outputs": [
    {
     "ename": "TypeError",
     "evalue": "'str' object does not support item assignment",
     "output_type": "error",
     "traceback": [
      "\u001b[0;31m---------------------------------------------------------------------------\u001b[0m",
      "\u001b[0;31mTypeError\u001b[0m                                 Traceback (most recent call last)",
      "\u001b[0;32m/var/folders/yf/zwysv3jn4tb_p89k89zby_040000gn/T/ipykernel_8750/3827311948.py\u001b[0m in \u001b[0;36m<module>\u001b[0;34m\u001b[0m\n\u001b[0;32m----> 1\u001b[0;31m \u001b[0mhello\u001b[0m\u001b[0;34m[\u001b[0m\u001b[0;36m2\u001b[0m\u001b[0;34m]\u001b[0m \u001b[0;34m=\u001b[0m \u001b[0;34m'L'\u001b[0m \u001b[0;31m#error 불변타입이라 문자 교체 불가능\u001b[0m\u001b[0;34m\u001b[0m\u001b[0;34m\u001b[0m\u001b[0m\n\u001b[0m\u001b[1;32m      2\u001b[0m \u001b[0mhello\u001b[0m\u001b[0;34m\u001b[0m\u001b[0;34m\u001b[0m\u001b[0m\n",
      "\u001b[0;31mTypeError\u001b[0m: 'str' object does not support item assignment"
     ]
    }
   ],
   "source": [
    "hello[2] = 'L' #error 불변타입이라 문자 교체 불가능\n",
    "hello"
   ]
  },
  {
   "cell_type": "markdown",
   "id": "5976720e-1dae-4ff3-b383-5afc8d97aea7",
   "metadata": {},
   "source": [
    "### NLTK\n",
    "- natural language toolkit\n",
    "- 교육용으로 개발된 자연어처리 패키지\n",
    "- 코퍼스 제공하는데 어떤 처리가 되어있다.\n",
    "    - 토크나이즈, 파싱, 태깅, .."
   ]
  },
  {
   "cell_type": "code",
   "execution_count": 55,
   "id": "7b92619a-2add-4ece-ab2b-4804a6333c74",
   "metadata": {},
   "outputs": [
    {
     "name": "stdout",
     "output_type": "stream",
     "text": [
      "Requirement already satisfied: nltk in /Users/gimseonhye/opt/anaconda3/lib/python3.9/site-packages (3.6.5)\n",
      "Requirement already satisfied: click in /Users/gimseonhye/opt/anaconda3/lib/python3.9/site-packages (from nltk) (8.0.3)\n",
      "Requirement already satisfied: joblib in /Users/gimseonhye/opt/anaconda3/lib/python3.9/site-packages (from nltk) (1.1.0)\n",
      "Requirement already satisfied: regex>=2021.8.3 in /Users/gimseonhye/opt/anaconda3/lib/python3.9/site-packages (from nltk) (2021.8.3)\n",
      "Requirement already satisfied: tqdm in /Users/gimseonhye/opt/anaconda3/lib/python3.9/site-packages (from nltk) (4.62.3)\n"
     ]
    }
   ],
   "source": [
    "!pip install nltk #터미널로 패키지 설치하는 코드"
   ]
  },
  {
   "cell_type": "code",
   "execution_count": 56,
   "id": "f1944e11-1899-494d-8833-f63aa36144c5",
   "metadata": {
    "collapsed": true,
    "jupyter": {
     "outputs_hidden": true
    },
    "tags": []
   },
   "outputs": [
    {
     "name": "stderr",
     "output_type": "stream",
     "text": [
      "[nltk_data] Downloading collection 'book'\n",
      "[nltk_data]    | \n",
      "[nltk_data]    | Downloading package abc to\n",
      "[nltk_data]    |     /Users/gimseonhye/nltk_data...\n",
      "[nltk_data]    |   Package abc is already up-to-date!\n",
      "[nltk_data]    | Downloading package brown to\n",
      "[nltk_data]    |     /Users/gimseonhye/nltk_data...\n",
      "[nltk_data]    |   Package brown is already up-to-date!\n",
      "[nltk_data]    | Downloading package chat80 to\n",
      "[nltk_data]    |     /Users/gimseonhye/nltk_data...\n",
      "[nltk_data]    |   Package chat80 is already up-to-date!\n",
      "[nltk_data]    | Downloading package cmudict to\n",
      "[nltk_data]    |     /Users/gimseonhye/nltk_data...\n",
      "[nltk_data]    |   Package cmudict is already up-to-date!\n",
      "[nltk_data]    | Downloading package conll2000 to\n",
      "[nltk_data]    |     /Users/gimseonhye/nltk_data...\n",
      "[nltk_data]    |   Package conll2000 is already up-to-date!\n",
      "[nltk_data]    | Downloading package conll2002 to\n",
      "[nltk_data]    |     /Users/gimseonhye/nltk_data...\n",
      "[nltk_data]    |   Package conll2002 is already up-to-date!\n",
      "[nltk_data]    | Downloading package dependency_treebank to\n",
      "[nltk_data]    |     /Users/gimseonhye/nltk_data...\n",
      "[nltk_data]    |   Package dependency_treebank is already up-to-date!\n",
      "[nltk_data]    | Downloading package genesis to\n",
      "[nltk_data]    |     /Users/gimseonhye/nltk_data...\n",
      "[nltk_data]    |   Package genesis is already up-to-date!\n",
      "[nltk_data]    | Downloading package gutenberg to\n",
      "[nltk_data]    |     /Users/gimseonhye/nltk_data...\n",
      "[nltk_data]    |   Package gutenberg is already up-to-date!\n",
      "[nltk_data]    | Downloading package ieer to\n",
      "[nltk_data]    |     /Users/gimseonhye/nltk_data...\n",
      "[nltk_data]    |   Package ieer is already up-to-date!\n",
      "[nltk_data]    | Downloading package inaugural to\n",
      "[nltk_data]    |     /Users/gimseonhye/nltk_data...\n",
      "[nltk_data]    |   Package inaugural is already up-to-date!\n",
      "[nltk_data]    | Downloading package movie_reviews to\n",
      "[nltk_data]    |     /Users/gimseonhye/nltk_data...\n",
      "[nltk_data]    |   Package movie_reviews is already up-to-date!\n",
      "[nltk_data]    | Downloading package nps_chat to\n",
      "[nltk_data]    |     /Users/gimseonhye/nltk_data...\n",
      "[nltk_data]    |   Package nps_chat is already up-to-date!\n",
      "[nltk_data]    | Downloading package names to\n",
      "[nltk_data]    |     /Users/gimseonhye/nltk_data...\n",
      "[nltk_data]    |   Package names is already up-to-date!\n",
      "[nltk_data]    | Downloading package ppattach to\n",
      "[nltk_data]    |     /Users/gimseonhye/nltk_data...\n",
      "[nltk_data]    |   Package ppattach is already up-to-date!\n",
      "[nltk_data]    | Downloading package reuters to\n",
      "[nltk_data]    |     /Users/gimseonhye/nltk_data...\n",
      "[nltk_data]    |   Package reuters is already up-to-date!\n",
      "[nltk_data]    | Downloading package senseval to\n",
      "[nltk_data]    |     /Users/gimseonhye/nltk_data...\n",
      "[nltk_data]    |   Package senseval is already up-to-date!\n",
      "[nltk_data]    | Downloading package state_union to\n",
      "[nltk_data]    |     /Users/gimseonhye/nltk_data...\n",
      "[nltk_data]    |   Package state_union is already up-to-date!\n",
      "[nltk_data]    | Downloading package stopwords to\n",
      "[nltk_data]    |     /Users/gimseonhye/nltk_data...\n",
      "[nltk_data]    |   Package stopwords is already up-to-date!\n",
      "[nltk_data]    | Downloading package swadesh to\n",
      "[nltk_data]    |     /Users/gimseonhye/nltk_data...\n",
      "[nltk_data]    |   Package swadesh is already up-to-date!\n",
      "[nltk_data]    | Downloading package timit to\n",
      "[nltk_data]    |     /Users/gimseonhye/nltk_data...\n",
      "[nltk_data]    |   Package timit is already up-to-date!\n",
      "[nltk_data]    | Downloading package treebank to\n",
      "[nltk_data]    |     /Users/gimseonhye/nltk_data...\n",
      "[nltk_data]    |   Package treebank is already up-to-date!\n",
      "[nltk_data]    | Downloading package toolbox to\n",
      "[nltk_data]    |     /Users/gimseonhye/nltk_data...\n",
      "[nltk_data]    |   Package toolbox is already up-to-date!\n",
      "[nltk_data]    | Downloading package udhr to\n",
      "[nltk_data]    |     /Users/gimseonhye/nltk_data...\n",
      "[nltk_data]    |   Package udhr is already up-to-date!\n",
      "[nltk_data]    | Downloading package udhr2 to\n",
      "[nltk_data]    |     /Users/gimseonhye/nltk_data...\n",
      "[nltk_data]    |   Package udhr2 is already up-to-date!\n",
      "[nltk_data]    | Downloading package unicode_samples to\n",
      "[nltk_data]    |     /Users/gimseonhye/nltk_data...\n",
      "[nltk_data]    |   Package unicode_samples is already up-to-date!\n",
      "[nltk_data]    | Downloading package webtext to\n",
      "[nltk_data]    |     /Users/gimseonhye/nltk_data...\n",
      "[nltk_data]    |   Package webtext is already up-to-date!\n",
      "[nltk_data]    | Downloading package wordnet to\n",
      "[nltk_data]    |     /Users/gimseonhye/nltk_data...\n",
      "[nltk_data]    |   Unzipping corpora/wordnet.zip.\n",
      "[nltk_data]    | Downloading package wordnet_ic to\n",
      "[nltk_data]    |     /Users/gimseonhye/nltk_data...\n",
      "[nltk_data]    |   Unzipping corpora/wordnet_ic.zip.\n",
      "[nltk_data]    | Downloading package words to\n",
      "[nltk_data]    |     /Users/gimseonhye/nltk_data...\n",
      "[nltk_data]    |   Unzipping corpora/words.zip.\n",
      "[nltk_data]    | Downloading package maxent_treebank_pos_tagger to\n",
      "[nltk_data]    |     /Users/gimseonhye/nltk_data...\n",
      "[nltk_data]    |   Unzipping taggers/maxent_treebank_pos_tagger.zip.\n",
      "[nltk_data]    | Downloading package maxent_ne_chunker to\n",
      "[nltk_data]    |     /Users/gimseonhye/nltk_data...\n",
      "[nltk_data]    |   Unzipping chunkers/maxent_ne_chunker.zip.\n",
      "[nltk_data]    | Downloading package universal_tagset to\n",
      "[nltk_data]    |     /Users/gimseonhye/nltk_data...\n",
      "[nltk_data]    |   Unzipping taggers/universal_tagset.zip.\n",
      "[nltk_data]    | Downloading package punkt to\n",
      "[nltk_data]    |     /Users/gimseonhye/nltk_data...\n",
      "[nltk_data]    |   Unzipping tokenizers/punkt.zip.\n",
      "[nltk_data]    | Downloading package book_grammars to\n",
      "[nltk_data]    |     /Users/gimseonhye/nltk_data...\n",
      "[nltk_data]    |   Unzipping grammars/book_grammars.zip.\n",
      "[nltk_data]    | Downloading package city_database to\n",
      "[nltk_data]    |     /Users/gimseonhye/nltk_data...\n",
      "[nltk_data]    |   Unzipping corpora/city_database.zip.\n",
      "[nltk_data]    | Downloading package tagsets to\n",
      "[nltk_data]    |     /Users/gimseonhye/nltk_data...\n",
      "[nltk_data]    |   Unzipping help/tagsets.zip.\n",
      "[nltk_data]    | Downloading package panlex_swadesh to\n",
      "[nltk_data]    |     /Users/gimseonhye/nltk_data...\n",
      "[nltk_data]    | Downloading package averaged_perceptron_tagger to\n",
      "[nltk_data]    |     /Users/gimseonhye/nltk_data...\n",
      "[nltk_data]    |   Unzipping taggers/averaged_perceptron_tagger.zip.\n",
      "[nltk_data]    | \n",
      "[nltk_data]  Done downloading collection book\n"
     ]
    },
    {
     "data": {
      "text/plain": [
       "True"
      ]
     },
     "execution_count": 56,
     "metadata": {},
     "output_type": "execute_result"
    }
   ],
   "source": [
    "import nltk\n",
    "nltk.download('book', quiet)"
   ]
  },
  {
   "cell_type": "code",
   "execution_count": 1,
   "id": "9a601474-e2ae-4cbb-92ec-3826335070e0",
   "metadata": {},
   "outputs": [
    {
     "name": "stdout",
     "output_type": "stream",
     "text": [
      "*** Introductory Examples for the NLTK Book ***\n",
      "Loading text1, ..., text9 and sent1, ..., sent9\n",
      "Type the name of the text or sentence to view it.\n",
      "Type: 'texts()' or 'sents()' to list the materials.\n",
      "text1: Moby Dick by Herman Melville 1851\n",
      "text2: Sense and Sensibility by Jane Austen 1811\n",
      "text3: The Book of Genesis\n",
      "text4: Inaugural Address Corpus\n",
      "text5: Chat Corpus\n",
      "text6: Monty Python and the Holy Grail\n",
      "text7: Wall Street Journal\n",
      "text8: Personals Corpus\n",
      "text9: The Man Who Was Thursday by G . K . Chesterton 1908\n"
     ]
    }
   ],
   "source": [
    "from nltk import book"
   ]
  },
  {
   "cell_type": "code",
   "execution_count": 2,
   "id": "d3595b5c-abcb-455f-bdda-fe284ea21dc5",
   "metadata": {},
   "outputs": [
    {
     "ename": "NameError",
     "evalue": "name 'text1' is not defined",
     "output_type": "error",
     "traceback": [
      "\u001b[0;31m---------------------------------------------------------------------------\u001b[0m",
      "\u001b[0;31mNameError\u001b[0m                                 Traceback (most recent call last)",
      "\u001b[0;32m/var/folders/yf/zwysv3jn4tb_p89k89zby_040000gn/T/ipykernel_8788/1752017758.py\u001b[0m in \u001b[0;36m<module>\u001b[0;34m\u001b[0m\n\u001b[0;32m----> 1\u001b[0;31m \u001b[0mtext1\u001b[0m\u001b[0;34m\u001b[0m\u001b[0;34m\u001b[0m\u001b[0m\n\u001b[0m",
      "\u001b[0;31mNameError\u001b[0m: name 'text1' is not defined"
     ]
    }
   ],
   "source": [
    "text1"
   ]
  },
  {
   "cell_type": "code",
   "execution_count": 3,
   "id": "32fba79d-d342-4107-b421-1ea306a79322",
   "metadata": {},
   "outputs": [
    {
     "data": {
      "text/plain": [
       "<Text: Moby Dick by Herman Melville 1851>"
      ]
     },
     "execution_count": 3,
     "metadata": {},
     "output_type": "execute_result"
    }
   ],
   "source": [
    "book.text1"
   ]
  },
  {
   "cell_type": "code",
   "execution_count": 4,
   "id": "1ca77de6-2c4b-403d-803a-265d2bc7a68e",
   "metadata": {
    "collapsed": true,
    "jupyter": {
     "outputs_hidden": true
    },
    "tags": []
   },
   "outputs": [
    {
     "data": {
      "text/plain": [
       "'\\ntokens -> 프로그램에서 정의하는 단어\\n    다르게 정의하는 이유:\\n    - 예를 들어 \"I\\'m a boy.\" i\\'m, i am, i\\n      이런 식으로 다양하게 처리할 수 있는 것\\n'"
      ]
     },
     "execution_count": 4,
     "metadata": {},
     "output_type": "execute_result"
    }
   ],
   "source": [
    "moby = book.text1\n",
    "moby.tokens # 단어에 접근\n",
    "'''\n",
    "tokens -> 프로그램에서 정의하는 단어\n",
    "    다르게 정의하는 이유:\n",
    "    - 예를 들어 \"I'm a boy.\" i'm, i am, i\n",
    "      이런 식으로 다양하게 처리할 수 있는 것\n",
    "'''"
   ]
  },
  {
   "cell_type": "code",
   "execution_count": 5,
   "id": "9a3cfd84-b644-4fa3-bf82-bd803340b46b",
   "metadata": {},
   "outputs": [
    {
     "data": {
      "text/plain": [
       "260819"
      ]
     },
     "execution_count": 5,
     "metadata": {},
     "output_type": "execute_result"
    }
   ],
   "source": [
    "# 총 길이 (단어)\n",
    "len(moby.tokens)"
   ]
  },
  {
   "cell_type": "code",
   "execution_count": 6,
   "id": "5fc094b0-b0b5-44a1-85b7-1f2ac67abe63",
   "metadata": {},
   "outputs": [
    {
     "data": {
      "text/plain": [
       "260819"
      ]
     },
     "execution_count": 6,
     "metadata": {},
     "output_type": "execute_result"
    }
   ],
   "source": [
    "# 총 길이 (단어)\n",
    "len(moby.tokens)"
   ]
  },
  {
   "cell_type": "markdown",
   "id": "d797b29d-0779-4288-ba73-78c2813160a6",
   "metadata": {},
   "source": [
    "- set\n",
    "    - {a, b, c, ...}\n",
    "    - 중복 불가능\n",
    "    - 수학의 집합과 동일한 개념\n",
    "    - 순서 없음\n",
    "- list\n",
    "    - [a, b, c, ...]\n",
    "    - 중복 가능\n",
    "    - 순서 있음"
   ]
  },
  {
   "cell_type": "code",
   "execution_count": 7,
   "id": "54b7eac2-57e6-485c-9dca-e67cb66863bc",
   "metadata": {},
   "outputs": [
    {
     "data": {
      "text/plain": [
       "{'benz', 'kia', 'porsche'}"
      ]
     },
     "execution_count": 7,
     "metadata": {},
     "output_type": "execute_result"
    }
   ],
   "source": [
    "cars = ['kia','benz','porsche','kia']\n",
    "set(cars)"
   ]
  },
  {
   "cell_type": "code",
   "execution_count": 8,
   "id": "a195009a-046d-49d3-be20-83efa59c9217",
   "metadata": {},
   "outputs": [
    {
     "data": {
      "text/plain": [
       "19317"
      ]
     },
     "execution_count": 8,
     "metadata": {},
     "output_type": "execute_result"
    }
   ],
   "source": [
    "#중복없는 단어의 수\n",
    "len(set(cars))\n",
    "len(set(moby.tokens))"
   ]
  },
  {
   "cell_type": "code",
   "execution_count": 9,
   "id": "4b9c843c-1873-4749-86c6-8f2cce4531e1",
   "metadata": {},
   "outputs": [],
   "source": [
    "#mobydick 정렬하기\n",
    "#대문자가 먼저임"
   ]
  },
  {
   "cell_type": "markdown",
   "id": "277eb3ab-791d-49ff-85f1-474545765ccf",
   "metadata": {},
   "source": [
    "### Quiz 1.\n",
    "- text9에서 lexical diversity 계산하기\n",
    "- text6에서 중복없는 셋 내림차순 정렬하기\n",
    "    - a. 앞에서 단어 10개 추출하기\n",
    "    - b. 조건문 연습: 'z'가 있으면 대문자로 바꾸기, 'z'가 없는데 4자 이상이면 끝 글자 대문자로 바꾸기"
   ]
  },
  {
   "cell_type": "code",
   "execution_count": 14,
   "id": "d9cd94e3-2ed9-44e5-8da8-b770dbae6f03",
   "metadata": {},
   "outputs": [
    {
     "data": {
      "text/plain": [
       "0.0983485761345412"
      ]
     },
     "execution_count": 14,
     "metadata": {},
     "output_type": "execute_result"
    }
   ],
   "source": [
    "#lexical diversity 계산\n",
    "nine = book.text9\n",
    "len(set(nine.tokens)) / len(nine.tokens)"
   ]
  },
  {
   "cell_type": "code",
   "execution_count": 29,
   "id": "f1abfc7c-8762-463a-ba0d-fa7b3daae42e",
   "metadata": {},
   "outputs": [
    {
     "name": "stdout",
     "output_type": "stream",
     "text": [
      "['zoosh', 'zoop', 'zoo', 'zone', 'zhiv', 'yourself', 'yours', 'your', 'young', 'you']\n",
      "zoosh\n",
      "zoop\n",
      "zoo\n",
      "zone\n",
      "zhiv\n"
     ]
    },
    {
     "ename": "TypeError",
     "evalue": "str.capitalize() takes no arguments (1 given)",
     "output_type": "error",
     "traceback": [
      "\u001b[0;31m---------------------------------------------------------------------------\u001b[0m",
      "\u001b[0;31mTypeError\u001b[0m                                 Traceback (most recent call last)",
      "\u001b[0;32m/var/folders/yf/zwysv3jn4tb_p89k89zby_040000gn/T/ipykernel_8788/768326567.py\u001b[0m in \u001b[0;36m<module>\u001b[0;34m\u001b[0m\n\u001b[1;32m     13\u001b[0m     \u001b[0;32melse\u001b[0m\u001b[0;34m:\u001b[0m\u001b[0;34m\u001b[0m\u001b[0;34m\u001b[0m\u001b[0m\n\u001b[1;32m     14\u001b[0m         \u001b[0;32mif\u001b[0m \u001b[0mlen\u001b[0m\u001b[0;34m(\u001b[0m\u001b[0mmonty_word\u001b[0m\u001b[0;34m[\u001b[0m\u001b[0mi\u001b[0m\u001b[0;34m]\u001b[0m\u001b[0;34m)\u001b[0m\u001b[0;34m>\u001b[0m\u001b[0;36m4\u001b[0m\u001b[0;34m:\u001b[0m\u001b[0;34m\u001b[0m\u001b[0;34m\u001b[0m\u001b[0m\n\u001b[0;32m---> 15\u001b[0;31m             \u001b[0mmonty_word\u001b[0m\u001b[0;34m[\u001b[0m\u001b[0mi\u001b[0m\u001b[0;34m]\u001b[0m\u001b[0;34m.\u001b[0m\u001b[0mcapitalize\u001b[0m\u001b[0;34m(\u001b[0m\u001b[0mmonty_word\u001b[0m\u001b[0;34m[\u001b[0m\u001b[0mi\u001b[0m\u001b[0;34m]\u001b[0m\u001b[0;34m)\u001b[0m\u001b[0;34m\u001b[0m\u001b[0;34m\u001b[0m\u001b[0m\n\u001b[0m\u001b[1;32m     16\u001b[0m \u001b[0mprint\u001b[0m\u001b[0;34m(\u001b[0m\u001b[0mmonty_word\u001b[0m\u001b[0;34m)\u001b[0m\u001b[0;34m\u001b[0m\u001b[0;34m\u001b[0m\u001b[0m\n\u001b[1;32m     17\u001b[0m \u001b[0;34m\u001b[0m\u001b[0m\n",
      "\u001b[0;31mTypeError\u001b[0m: str.capitalize() takes no arguments (1 given)"
     ]
    }
   ],
   "source": [
    "#text 6 - a\n",
    "monty = book.text6\n",
    "monty_word = sorted(set(monty.tokens), reverse = True)[:10]\n",
    "print(monty_word)\n",
    "\n",
    "\n",
    "\n",
    "for i in range(10):\n",
    "    [monty_word[i]]\n",
    "    if 'z' in monty_word[i]:\n",
    "        monty_word[i].upper()\n",
    "        print(monty_word[i])\n",
    "    else:\n",
    "        if len(monty_word[i])>4:\n",
    "            monty_word[i].capitalize(monty_word[i])\n",
    "print(monty_word)\n",
    "        "
   ]
  },
  {
   "cell_type": "markdown",
   "id": "5d72612e-9e24-4cd7-bfa0-2639c3a55460",
   "metadata": {},
   "source": [
    "### Quiz 2.\n",
    "- 주민등록번호, 휴대폰 번호, 이메일 입력받는다.\n",
    "    - 주민번호, 휴대폰번호는 숫자만 입력 (- 없이)\n",
    "    - 이메일은 아이디만 입력(@뒷부분 없음)\n",
    "- 출력:\n",
    "    - \"당신은 {}년 {}월 {}일 출생의 {남성/여성}입니다.\"\n",
    "    - 휴대폰번호: {} #하이픈으로 연결하기\n",
    "    - 이메일주소:{아이디}@gmail.com"
   ]
  },
  {
   "cell_type": "code",
   "execution_count": 43,
   "id": "d3561cf2-7c57-4eda-9a8b-c3133a13e7bb",
   "metadata": {},
   "outputs": [
    {
     "name": "stdin",
     "output_type": "stream",
     "text": [
      "주민등록 번호를 입력하시오.(-없이 숫자만 입력)  0112204052711\n",
      "휴대폰 번호를 입력하시오.(-없이 숫자만 입력)  01022307746\n",
      "이메일을 입력하시오.(@뒷부분 없이 아이디만 입력)  gadi\n"
     ]
    },
    {
     "name": "stdout",
     "output_type": "stream",
     "text": [
      "당신은 01년 12월 20일 출생의 여성입니다.\n",
      "010-2230-7746\n",
      "gadi@gmail\n"
     ]
    }
   ],
   "source": [
    "rrn = input('주민등록 번호를 입력하시오.(-없이 숫자만 입력) ') #int 로 받지 않음\n",
    "phone_number = input('휴대폰 번호를 입력하시오.(-없이 숫자만 입력) ')\n",
    "e_mail = input('이메일을 입력하시오.(@뒷부분 없이 아이디만 입력) ')\n",
    "                   \n",
    "year = rrn[:2]\n",
    "birth_month = rrn[2:4]\n",
    "birth_day = rrn[4:6]\n",
    "#gender = rrn[6]\n",
    "\n",
    "\n",
    "'''\n",
    "if gender == 3 or gender == 1:\n",
    "    if gender == 3:\n",
    "        print(f'당신은 {20+year}년 {birth_month}월 {birth_day}일 출생의 남성입니다.')\n",
    "    else:\n",
    "        print(f'당신은 {19+year}년 {birth_month}월 {birth_day}일 출생의 남성입니다.')\n",
    "elif gender == 4 or gender == 2:\n",
    "    if gender == 4:\n",
    "        print(f'당신은 {20+year}년 {birth_month}월 {birth_day}일 출생의 여성입니다.')\n",
    "    else:\n",
    "        print(f'당신은 {19+year}년 {birth_month}월 {birth_day}일 출생의 여성입니다.')\n",
    "출력이 안돼서 다른 분들 거 참고\n",
    "'''\n",
    "if int(rrn[6])%2 == 0:\n",
    "    gender = '여성'\n",
    "else:\n",
    "    gender = '남성'\n",
    "    \n",
    "print(f'당신은 {year}년 {birth_month}월 {birth_day}일 출생의 {gender}입니다.')        \n",
    "print(f'{phone_number[:3]}-{phone_number[3:7]}-{phone_number[7:]}')\n",
    "print(f'{e_mail}@gmail')"
   ]
  },
  {
   "cell_type": "code",
   "execution_count": null,
   "id": "a9f3364f-cbb4-4dcd-abc9-5e19f5eae6e9",
   "metadata": {},
   "outputs": [],
   "source": []
  }
 ],
 "metadata": {
  "kernelspec": {
   "display_name": "Python 3 (ipykernel)",
   "language": "python",
   "name": "python3"
  },
  "language_info": {
   "codemirror_mode": {
    "name": "ipython",
    "version": 3
   },
   "file_extension": ".py",
   "mimetype": "text/x-python",
   "name": "python",
   "nbconvert_exporter": "python",
   "pygments_lexer": "ipython3",
   "version": "3.9.7"
  }
 },
 "nbformat": 4,
 "nbformat_minor": 5
}
